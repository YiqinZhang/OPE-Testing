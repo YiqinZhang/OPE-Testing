{
 "cells": [
  {
   "cell_type": "code",
   "execution_count": 1,
   "id": "6f59621a-9a8d-4a28-9e56-01d2e4f8caf4",
   "metadata": {
    "tags": []
   },
   "outputs": [
    {
     "name": "stdout",
     "output_type": "stream",
     "text": [
      "Defaulting to user installation because normal site-packages is not writeable\n",
      "Requirement already satisfied: selenium in /Users/zhangyiqin/Library/Python/3.9/lib/python/site-packages (4.15.2)\n",
      "Requirement already satisfied: urllib3<3,>=1.26 in /Library/Frameworks/Python.framework/Versions/3.9/lib/python3.9/site-packages (from urllib3[socks]<3,>=1.26->selenium) (1.26.5)\n",
      "Requirement already satisfied: trio~=0.17 in /Users/zhangyiqin/Library/Python/3.9/lib/python/site-packages (from selenium) (0.23.1)\n",
      "Requirement already satisfied: trio-websocket~=0.9 in /Users/zhangyiqin/Library/Python/3.9/lib/python/site-packages (from selenium) (0.11.1)\n",
      "Requirement already satisfied: certifi>=2021.10.8 in /Users/zhangyiqin/Library/Python/3.9/lib/python/site-packages (from selenium) (2023.7.22)\n",
      "Requirement already satisfied: attrs>=20.1.0 in /Library/Frameworks/Python.framework/Versions/3.9/lib/python3.9/site-packages (from trio~=0.17->selenium) (21.2.0)\n",
      "Requirement already satisfied: sortedcontainers in /Users/zhangyiqin/Library/Python/3.9/lib/python/site-packages (from trio~=0.17->selenium) (2.4.0)\n",
      "Requirement already satisfied: idna in /Library/Frameworks/Python.framework/Versions/3.9/lib/python3.9/site-packages (from trio~=0.17->selenium) (2.10)\n",
      "Requirement already satisfied: outcome in /Users/zhangyiqin/Library/Python/3.9/lib/python/site-packages (from trio~=0.17->selenium) (1.3.0.post0)\n",
      "Requirement already satisfied: sniffio>=1.3.0 in /Users/zhangyiqin/Library/Python/3.9/lib/python/site-packages (from trio~=0.17->selenium) (1.3.0)\n",
      "Requirement already satisfied: exceptiongroup>=1.0.0rc9 in /Users/zhangyiqin/Library/Python/3.9/lib/python/site-packages (from trio~=0.17->selenium) (1.1.3)\n",
      "Requirement already satisfied: wsproto>=0.14 in /Users/zhangyiqin/Library/Python/3.9/lib/python/site-packages (from trio-websocket~=0.9->selenium) (1.2.0)\n",
      "Requirement already satisfied: PySocks!=1.5.7,<2.0,>=1.5.6 in /Users/zhangyiqin/Library/Python/3.9/lib/python/site-packages (from urllib3[socks]<3,>=1.26->selenium) (1.7.1)\n",
      "Requirement already satisfied: h11<1,>=0.9.0 in /Users/zhangyiqin/Library/Python/3.9/lib/python/site-packages (from wsproto>=0.14->trio-websocket~=0.9->selenium) (0.14.0)\n",
      "Defaulting to user installation because normal site-packages is not writeable\n",
      "Requirement already satisfied: webdriver_manager in /Users/zhangyiqin/Library/Python/3.9/lib/python/site-packages (4.0.1)\n",
      "Requirement already satisfied: requests in /Users/zhangyiqin/Library/Python/3.9/lib/python/site-packages (from webdriver_manager) (2.31.0)\n",
      "Requirement already satisfied: python-dotenv in /Users/zhangyiqin/Library/Python/3.9/lib/python/site-packages (from webdriver_manager) (1.0.0)\n",
      "Requirement already satisfied: packaging in /Users/zhangyiqin/Library/Python/3.9/lib/python/site-packages (from webdriver_manager) (22.0)\n",
      "Requirement already satisfied: charset-normalizer<4,>=2 in /Users/zhangyiqin/Library/Python/3.9/lib/python/site-packages (from requests->webdriver_manager) (2.1.1)\n",
      "Requirement already satisfied: idna<4,>=2.5 in /Library/Frameworks/Python.framework/Versions/3.9/lib/python3.9/site-packages (from requests->webdriver_manager) (2.10)\n",
      "Requirement already satisfied: urllib3<3,>=1.21.1 in /Library/Frameworks/Python.framework/Versions/3.9/lib/python3.9/site-packages (from requests->webdriver_manager) (1.26.5)\n",
      "Requirement already satisfied: certifi>=2017.4.17 in /Users/zhangyiqin/Library/Python/3.9/lib/python/site-packages (from requests->webdriver_manager) (2023.7.22)\n",
      "Defaulting to user installation because normal site-packages is not writeable\n",
      "Requirement already satisfied: docker in /Users/zhangyiqin/Library/Python/3.9/lib/python/site-packages (4.4.4)\n",
      "Requirement already satisfied: six>=1.4.0 in /Users/zhangyiqin/Library/Python/3.9/lib/python/site-packages (from docker) (1.14.0)\n",
      "Requirement already satisfied: websocket-client>=0.32.0 in /Users/zhangyiqin/Library/Python/3.9/lib/python/site-packages (from docker) (0.59.0)\n",
      "Requirement already satisfied: requests!=2.18.0,>=2.14.2 in /Users/zhangyiqin/Library/Python/3.9/lib/python/site-packages (from docker) (2.31.0)\n",
      "Requirement already satisfied: charset-normalizer<4,>=2 in /Users/zhangyiqin/Library/Python/3.9/lib/python/site-packages (from requests!=2.18.0,>=2.14.2->docker) (2.1.1)\n",
      "Requirement already satisfied: idna<4,>=2.5 in /Library/Frameworks/Python.framework/Versions/3.9/lib/python3.9/site-packages (from requests!=2.18.0,>=2.14.2->docker) (2.10)\n",
      "Requirement already satisfied: urllib3<3,>=1.21.1 in /Library/Frameworks/Python.framework/Versions/3.9/lib/python3.9/site-packages (from requests!=2.18.0,>=2.14.2->docker) (1.26.5)\n",
      "Requirement already satisfied: certifi>=2017.4.17 in /Users/zhangyiqin/Library/Python/3.9/lib/python/site-packages (from requests!=2.18.0,>=2.14.2->docker) (2023.7.22)\n",
      "Defaulting to user installation because normal site-packages is not writeable\n",
      "Requirement already satisfied: requests in /Users/zhangyiqin/Library/Python/3.9/lib/python/site-packages (2.31.0)\n",
      "Requirement already satisfied: charset-normalizer<4,>=2 in /Users/zhangyiqin/Library/Python/3.9/lib/python/site-packages (from requests) (2.1.1)\n",
      "Requirement already satisfied: idna<4,>=2.5 in /Library/Frameworks/Python.framework/Versions/3.9/lib/python3.9/site-packages (from requests) (2.10)\n",
      "Requirement already satisfied: urllib3<3,>=1.21.1 in /Library/Frameworks/Python.framework/Versions/3.9/lib/python3.9/site-packages (from requests) (1.26.5)\n",
      "Requirement already satisfied: certifi>=2017.4.17 in /Users/zhangyiqin/Library/Python/3.9/lib/python/site-packages (from requests) (2023.7.22)\n"
     ]
    }
   ],
   "source": [
    "!pip install selenium\n",
    "!pip install webdriver_manager\n",
    "!pip install docker\n",
    "!pip install requests"
   ]
  },
  {
   "cell_type": "markdown",
   "id": "75d70d96-c2d1-4c31-8a8c-8e009dc720fe",
   "metadata": {
    "jp-MarkdownHeadingCollapsed": true,
    "tags": []
   },
   "source": [
    "##  Get the container ID"
   ]
  },
  {
   "cell_type": "code",
   "execution_count": 2,
   "id": "0f005ab3-a95e-40c1-a19d-02dc4ef60572",
   "metadata": {
    "tags": []
   },
   "outputs": [
    {
     "name": "stdout",
     "output_type": "stream",
     "text": [
      "Container ID: \n"
     ]
    },
    {
     "name": "stderr",
     "output_type": "stream",
     "text": [
      "Cannot connect to the Docker daemon at unix:///Users/zhangyiqin/.docker/run/docker.sock. Is the docker daemon running?\n"
     ]
    }
   ],
   "source": [
    "import subprocess\n",
    "\n",
    "# Get the first container ID\n",
    "#get_cont_id_cmd = \"docker ps -q | head -n 1\"\n",
    "get_cont_id_cmd = \"/usr/local/bin/docker ps -q | head -n 1\"\n",
    "cont_id = subprocess.check_output(get_cont_id_cmd, shell=True).decode('utf-8').strip()\n",
    "\n",
    "print(\"Container ID:\", cont_id)"
   ]
  },
  {
   "cell_type": "markdown",
   "id": "9bee7772-db47-4a68-9840-2ab991a6683a",
   "metadata": {},
   "source": [
    "## Get the Jupyter lab token"
   ]
  },
  {
   "cell_type": "code",
   "execution_count": 3,
   "id": "c7f07960-558b-4758-a0a3-b81991416b36",
   "metadata": {
    "tags": []
   },
   "outputs": [
    {
     "name": "stdout",
     "output_type": "stream",
     "text": [
      "Jupyter Lab Token: \n"
     ]
    }
   ],
   "source": [
    "get_token_cmd = f\"docker exec {cont_id} jupyter lab list 2>&1 | grep -o 'token=[^ ]*' | cut -d= -f2\"\n",
    "token = subprocess.check_output(get_token_cmd, shell=True).decode('utf-8').strip()\n",
    "\n",
    "print(\"Jupyter Lab Token:\", token)"
   ]
  },
  {
   "cell_type": "markdown",
   "id": "b560700a-fbe7-4806-b003-5bb6b93c3f46",
   "metadata": {
    "tags": []
   },
   "source": [
    "##  Run the rise_test.py "
   ]
  },
  {
   "cell_type": "code",
   "execution_count": 4,
   "id": "bf2a6f1b-9c82-4c20-b96b-fad85f527dc1",
   "metadata": {},
   "outputs": [
    {
     "name": "stdout",
     "output_type": "stream",
     "text": [
      "Token not found. Check if Jupyter Lab is running in the container.\n"
     ]
    }
   ],
   "source": [
    "# Run the rise_test.py with the token\n",
    "if token:\n",
    "    run_script_cmd = f\"python3 rise_test.py {token}\"\n",
    "    script_output = subprocess.check_output(run_script_cmd, shell=True).decode('utf-8')\n",
    "    print(\"Script Output:\\n\", script_output)    \n",
    "else:\n",
    "    print(\"Token not found. Check if Jupyter Lab is running in the container.\")"
   ]
  },
  {
   "cell_type": "markdown",
   "id": "bb462014-f9ec-402f-83ab-8f920aac8afb",
   "metadata": {},
   "source": [
    "## Test the RISE"
   ]
  },
  {
   "cell_type": "code",
   "execution_count": 5,
   "id": "a426cc0c-7d86-4764-9721-14da8229b26b",
   "metadata": {},
   "outputs": [],
   "source": [
    "import requests\n",
    "import json\n",
    "from selenium import webdriver\n",
    "from selenium.webdriver.chrome.service import Service as ChromiumService\n",
    "from webdriver_manager.chrome import ChromeDriverManager\n",
    "from selenium.webdriver.chrome.options import Options\n",
    "from selenium.webdriver.common.by import By\n",
    "from selenium.common.exceptions import NoSuchElementException, WebDriverException\n",
    "from selenium.webdriver.support.ui import WebDriverWait\n",
    "from selenium.webdriver.support import expected_conditions as EC\n",
    "from selenium.common.exceptions import TimeoutException\n",
    "from selenium.webdriver import ActionChains\n",
    "from selenium.webdriver.common.keys import Keys\n",
    "import platform\n"
   ]
  },
  {
   "cell_type": "code",
   "execution_count": 6,
   "id": "0feb7e29-3fcf-4820-852f-376894746e84",
   "metadata": {},
   "outputs": [],
   "source": [
    "def setup_driver():\n",
    "    chrome_options = Options()\n",
    "    if platform.system() in ['Windows', 'Darwin']:\n",
    "        chrome_options.add_experimental_option('detach', True)\n",
    "    elif platform.system() == 'Linux':\n",
    "        chrome_options.add_argument('--headless')\n",
    "    else:\n",
    "        raise Exception(\"Unknown OS\")\n",
    "    return webdriver.Chrome(service=ChromiumService(ChromeDriverManager().install()), options=chrome_options)"
   ]
  },
  {
   "cell_type": "code",
   "execution_count": 33,
   "id": "94778efa",
   "metadata": {},
   "outputs": [],
   "source": [
    "base_url = \"http://localhost:8888\"  # Base URL of your JupyterLab server\n",
    "image_path = \"/lab/images/sample-image.jpg\"  # Extracted relative path\n",
    "full_image_url = base_url + image_path\n",
    "image_url=\"https://raw.githubusercontent.com/YiqinZhang/ope-project/e9ea65fa2317b3c39d70984875ce2885dde8e599/content/images/sample-image.jpg\""
   ]
  },
  {
   "cell_type": "code",
   "execution_count": 36,
   "id": "34066862",
   "metadata": {},
   "outputs": [],
   "source": [
    "def create_jupyter_notebook_from_github(github_url, local_file_name):\n",
    "    try:\n",
    "        response = requests.get(github_url)\n",
    "        response.raise_for_status()  # Raise an error for bad status codes\n",
    "        notebook_content = response.json()\n",
    "        with open(local_file_name, 'w', encoding='utf-8') as notebook_file:\n",
    "            json.dump(notebook_content, notebook_file)\n",
    "        print(f\"Notebook created: {local_file_name}\")\n",
    "    except requests.RequestException as e:\n",
    "        print(f\"Failed to download the notebook: {e}\")"
   ]
  },
  {
   "cell_type": "code",
   "execution_count": 38,
   "id": "70bb6662-95cd-4d0e-949c-ebf7292e2b6b",
   "metadata": {},
   "outputs": [
    {
     "name": "stdout",
     "output_type": "stream",
     "text": [
      "Image downloaded successfully: local_images/sample-image.jpg\n"
     ]
    }
   ],
   "source": [
    "import os\n",
    "def download_image(image_url, local_img_path):\n",
    "    response = requests.get(image_url, stream=True)\n",
    "\n",
    "    if response.status_code == 200:\n",
    "        os.makedirs(os.path.dirname(local_img_path), exist_ok=True)\n",
    "        with open(local_img_path, 'wb') as f:\n",
    "            for chunk in response.iter_content(chunk_size=128):\n",
    "                f.write(chunk)\n",
    "        print(f\"Image downloaded successfully: {local_img_path}\")\n",
    "    else:\n",
    "        print(f\"Failed to download the image: {image_url}\")\n",
    "\n",
    "image_url = 'https://raw.githubusercontent.com/YiqinZhang/ope-project/e9ea65fa2317b3c39d70984875ce2885dde8e599/content/images/sample-image.jpg'\n",
    "download_image(image_url, 'local_images/sample-image.jpg')\n"
   ]
  },
  {
   "cell_type": "code",
   "execution_count": 35,
   "id": "4865d8cb-c253-4300-b663-5a3ad5330ca2",
   "metadata": {
    "tags": []
   },
   "outputs": [
    {
     "name": "stdout",
     "output_type": "stream",
     "text": [
      "Notebook created: downloaded_notebook.ipynb\n"
     ]
    },
    {
     "ename": "OSError",
     "evalue": "[Errno 30] Read-only file system: '/lab'",
     "output_type": "error",
     "traceback": [
      "\u001b[0;31m---------------------------------------------------------------------------\u001b[0m",
      "\u001b[0;31mOSError\u001b[0m                                   Traceback (most recent call last)",
      "\u001b[0;32m/var/folders/df/vqrt_6yx3f962pmw8c8mwxyw0000gn/T/ipykernel_20450/229596143.py\u001b[0m in \u001b[0;36m<module>\u001b[0;34m\u001b[0m\n\u001b[1;32m      1\u001b[0m \u001b[0mnotebook_github_url\u001b[0m \u001b[0;34m=\u001b[0m \u001b[0;34m\"https://raw.githubusercontent.com/OPEFFORT/ope-project/main/content/test_book/02_slides_template/layout_example.ipynb\"\u001b[0m\u001b[0;34m\u001b[0m\u001b[0;34m\u001b[0m\u001b[0m\n\u001b[1;32m      2\u001b[0m \u001b[0mlocal_notebook_name\u001b[0m \u001b[0;34m=\u001b[0m \u001b[0;34m\"downloaded_notebook.ipynb\"\u001b[0m\u001b[0;34m\u001b[0m\u001b[0;34m\u001b[0m\u001b[0m\n\u001b[0;32m----> 3\u001b[0;31m \u001b[0mcreate_jupyter_notebook_from_github\u001b[0m\u001b[0;34m(\u001b[0m\u001b[0mnotebook_github_url\u001b[0m\u001b[0;34m,\u001b[0m \u001b[0mlocal_notebook_name\u001b[0m\u001b[0;34m)\u001b[0m\u001b[0;34m\u001b[0m\u001b[0;34m\u001b[0m\u001b[0m\n\u001b[0m",
      "\u001b[0;32m/var/folders/df/vqrt_6yx3f962pmw8c8mwxyw0000gn/T/ipykernel_20450/251166501.py\u001b[0m in \u001b[0;36mcreate_jupyter_notebook_from_github\u001b[0;34m(github_url, local_file_name)\u001b[0m\n\u001b[1;32m     13\u001b[0m         \u001b[0mresponse\u001b[0m \u001b[0;34m=\u001b[0m \u001b[0mrequests\u001b[0m\u001b[0;34m.\u001b[0m\u001b[0mget\u001b[0m\u001b[0;34m(\u001b[0m\u001b[0mfull_image_url\u001b[0m\u001b[0;34m,\u001b[0m \u001b[0mallow_redirects\u001b[0m\u001b[0;34m=\u001b[0m\u001b[0;32mTrue\u001b[0m\u001b[0;34m)\u001b[0m\u001b[0;34m\u001b[0m\u001b[0;34m\u001b[0m\u001b[0m\n\u001b[1;32m     14\u001b[0m         \u001b[0;32mif\u001b[0m \u001b[0mresponse\u001b[0m\u001b[0;34m.\u001b[0m\u001b[0mstatus_code\u001b[0m \u001b[0;34m==\u001b[0m \u001b[0;36m200\u001b[0m\u001b[0;34m:\u001b[0m\u001b[0;34m\u001b[0m\u001b[0;34m\u001b[0m\u001b[0m\n\u001b[0;32m---> 15\u001b[0;31m             \u001b[0mos\u001b[0m\u001b[0;34m.\u001b[0m\u001b[0mmakedirs\u001b[0m\u001b[0;34m(\u001b[0m\u001b[0mos\u001b[0m\u001b[0;34m.\u001b[0m\u001b[0mpath\u001b[0m\u001b[0;34m.\u001b[0m\u001b[0mdirname\u001b[0m\u001b[0;34m(\u001b[0m\u001b[0mimage_path\u001b[0m\u001b[0;34m)\u001b[0m\u001b[0;34m,\u001b[0m \u001b[0mexist_ok\u001b[0m\u001b[0;34m=\u001b[0m\u001b[0;32mTrue\u001b[0m\u001b[0;34m)\u001b[0m\u001b[0;34m\u001b[0m\u001b[0;34m\u001b[0m\u001b[0m\n\u001b[0m\u001b[1;32m     16\u001b[0m             \u001b[0;31m# Save the image\u001b[0m\u001b[0;34m\u001b[0m\u001b[0;34m\u001b[0m\u001b[0;34m\u001b[0m\u001b[0m\n\u001b[1;32m     17\u001b[0m             \u001b[0;32mwith\u001b[0m \u001b[0mopen\u001b[0m\u001b[0;34m(\u001b[0m\u001b[0mimage_path\u001b[0m\u001b[0;34m.\u001b[0m\u001b[0mlstrip\u001b[0m\u001b[0;34m(\u001b[0m\u001b[0;34m'/'\u001b[0m\u001b[0;34m)\u001b[0m\u001b[0;34m,\u001b[0m \u001b[0;34m'wb'\u001b[0m\u001b[0;34m)\u001b[0m \u001b[0;32mas\u001b[0m \u001b[0mfile\u001b[0m\u001b[0;34m:\u001b[0m\u001b[0;34m\u001b[0m\u001b[0;34m\u001b[0m\u001b[0m\n",
      "\u001b[0;32m/Library/Frameworks/Python.framework/Versions/3.9/lib/python3.9/os.py\u001b[0m in \u001b[0;36mmakedirs\u001b[0;34m(name, mode, exist_ok)\u001b[0m\n\u001b[1;32m    213\u001b[0m     \u001b[0;32mif\u001b[0m \u001b[0mhead\u001b[0m \u001b[0;32mand\u001b[0m \u001b[0mtail\u001b[0m \u001b[0;32mand\u001b[0m \u001b[0;32mnot\u001b[0m \u001b[0mpath\u001b[0m\u001b[0;34m.\u001b[0m\u001b[0mexists\u001b[0m\u001b[0;34m(\u001b[0m\u001b[0mhead\u001b[0m\u001b[0;34m)\u001b[0m\u001b[0;34m:\u001b[0m\u001b[0;34m\u001b[0m\u001b[0;34m\u001b[0m\u001b[0m\n\u001b[1;32m    214\u001b[0m         \u001b[0;32mtry\u001b[0m\u001b[0;34m:\u001b[0m\u001b[0;34m\u001b[0m\u001b[0;34m\u001b[0m\u001b[0m\n\u001b[0;32m--> 215\u001b[0;31m             \u001b[0mmakedirs\u001b[0m\u001b[0;34m(\u001b[0m\u001b[0mhead\u001b[0m\u001b[0;34m,\u001b[0m \u001b[0mexist_ok\u001b[0m\u001b[0;34m=\u001b[0m\u001b[0mexist_ok\u001b[0m\u001b[0;34m)\u001b[0m\u001b[0;34m\u001b[0m\u001b[0;34m\u001b[0m\u001b[0m\n\u001b[0m\u001b[1;32m    216\u001b[0m         \u001b[0;32mexcept\u001b[0m \u001b[0mFileExistsError\u001b[0m\u001b[0;34m:\u001b[0m\u001b[0;34m\u001b[0m\u001b[0;34m\u001b[0m\u001b[0m\n\u001b[1;32m    217\u001b[0m             \u001b[0;31m# Defeats race condition when another thread created the path\u001b[0m\u001b[0;34m\u001b[0m\u001b[0;34m\u001b[0m\u001b[0;34m\u001b[0m\u001b[0m\n",
      "\u001b[0;32m/Library/Frameworks/Python.framework/Versions/3.9/lib/python3.9/os.py\u001b[0m in \u001b[0;36mmakedirs\u001b[0;34m(name, mode, exist_ok)\u001b[0m\n\u001b[1;32m    223\u001b[0m             \u001b[0;32mreturn\u001b[0m\u001b[0;34m\u001b[0m\u001b[0;34m\u001b[0m\u001b[0m\n\u001b[1;32m    224\u001b[0m     \u001b[0;32mtry\u001b[0m\u001b[0;34m:\u001b[0m\u001b[0;34m\u001b[0m\u001b[0;34m\u001b[0m\u001b[0m\n\u001b[0;32m--> 225\u001b[0;31m         \u001b[0mmkdir\u001b[0m\u001b[0;34m(\u001b[0m\u001b[0mname\u001b[0m\u001b[0;34m,\u001b[0m \u001b[0mmode\u001b[0m\u001b[0;34m)\u001b[0m\u001b[0;34m\u001b[0m\u001b[0;34m\u001b[0m\u001b[0m\n\u001b[0m\u001b[1;32m    226\u001b[0m     \u001b[0;32mexcept\u001b[0m \u001b[0mOSError\u001b[0m\u001b[0;34m:\u001b[0m\u001b[0;34m\u001b[0m\u001b[0;34m\u001b[0m\u001b[0m\n\u001b[1;32m    227\u001b[0m         \u001b[0;31m# Cannot rely on checking for EEXIST, since the operating system\u001b[0m\u001b[0;34m\u001b[0m\u001b[0;34m\u001b[0m\u001b[0;34m\u001b[0m\u001b[0m\n",
      "\u001b[0;31mOSError\u001b[0m: [Errno 30] Read-only file system: '/lab'"
     ]
    }
   ],
   "source": [
    "notebook_github_url = \"https://raw.githubusercontent.com/OPEFFORT/ope-project/main/content/test_book/02_slides_template/layout_example.ipynb\"\n",
    "local_notebook_name = \"downloaded_notebook.ipynb\"\n",
    "create_jupyter_notebook_from_github(notebook_github_url, local_notebook_name)"
   ]
  },
  {
   "cell_type": "code",
   "execution_count": 9,
   "id": "2dabb5fa",
   "metadata": {},
   "outputs": [],
   "source": [
    "def open_file_in_jupyterlab(url, file_name, driver):\n",
    "    try:\n",
    "        driver.get(url)\n",
    "        # Wait for the file browser to be available\n",
    "        WebDriverWait(driver, 20).until(\n",
    "            EC.presence_of_element_located((By.CSS_SELECTOR, \".jp-DirListing-content\"))\n",
    "        )\n",
    "\n",
    "        # Find the file in the file browser\n",
    "        file_element = WebDriverWait(driver, 30).until(\n",
    "            EC.element_to_be_clickable((By.XPATH, f\"//span[contains(text(), '{file_name}') and @class='jp-DirListing-itemText']\"))\n",
    "        )\n",
    "\n",
    "        # Double click on the file to open it\n",
    "        driver.execute_script(\"\"\"\n",
    "            var evt = new MouseEvent('dblclick', {\n",
    "                bubbles: true,\n",
    "                cancelable: true,\n",
    "                view: window\n",
    "            });\n",
    "            arguments[0].dispatchEvent(evt);\n",
    "        \"\"\", file_element)\n",
    "\n",
    "        print(f\"File '{file_name}' opened successfully.\")\n",
    "    except TimeoutException:\n",
    "        print(f\"Failed to open file '{file_name}'. File not found or JupyterLab did not load properly.\")"
   ]
  },
  {
   "cell_type": "code",
   "execution_count": 10,
   "id": "11a7c43b-d1ea-4869-b777-bd8a4ccba3f0",
   "metadata": {},
   "outputs": [],
   "source": [
    "def take_screenshot(driver, filename):\n",
    "    try:\n",
    "        driver.save_screenshot(filename)\n",
    "        print(f\"Saved screenshot: {filename}\")\n",
    "    except Exception as e:\n",
    "        print(f\"Error taking screenshot: {e}\")\n"
   ]
  },
  {
   "cell_type": "code",
   "execution_count": 11,
   "id": "c5c6f0ac-9876-4872-a2a6-e933be5cd2cb",
   "metadata": {},
   "outputs": [],
   "source": [
    "def find_element_and_click(driver, xpath):\n",
    "    try:\n",
    "    #     element = WebDriverWait(driver, 15).until(\n",
    "    #         EC.element_to_be_clickable((By.XPATH, xpath))\n",
    "    #     )\n",
    "        element = driver.find_element(By.XPATH, xpath)\n",
    "        element.click()\n",
    "        return element\n",
    "    except Exception as e:\n",
    "        print(f\"Error finding/clicking element: {e}\")\n"
   ]
  },
  {
   "cell_type": "markdown",
   "id": "2e13ad58",
   "metadata": {},
   "source": [
    "## Test1: Refactor the Previous Test for Suitability with the Launcher"
   ]
  },
  {
   "cell_type": "code",
   "execution_count": 12,
   "id": "6d3be6da",
   "metadata": {},
   "outputs": [],
   "source": [
    "def test_rise_extension(token):\n",
    "    driver = setup_driver()\n",
    "    url = f\"http://127.0.0.1:8888/lab?token={token}\"\n",
    "\n",
    "    try:\n",
    "        driver.get(url)\n",
    "        driver.implicitly_wait(45)\n",
    "        # Main actions and interactions\n",
    "        take_screenshot(driver, 'main_screenshot.png')\n",
    "\n",
    "        find_element_and_click(driver, '//div[@data-category=\"Notebook\"]')\n",
    "        take_screenshot(driver, 'new_nb_screenshot.png')\n",
    "\n",
    "        find_element_and_click(driver, '//button[@data-command=\"RISE:preview\"]')\n",
    "        take_screenshot(driver, 'rise_screenshot.png')\n",
    "\n",
    "        toolbar = WebDriverWait(driver, 20).until(EC.presence_of_element_located((By.XPATH, \"//div[@class='lm-Widget jp-Toolbar' and @role='navigation']\")))\n",
    "        if toolbar:\n",
    "            fullscreen_button = toolbar.find_element(By.XPATH, \".//button[@title='Open the slideshow in full screen']\")\n",
    "            fullscreen_button.click()\n",
    "            is_fullscreen = driver.execute_script(\"return document.fullscreenElement !== null\")\n",
    "            print(\"Fullscreen button is functioning: \", is_fullscreen)\n",
    "        else:\n",
    "            print(\"Toolbar not found\")\n",
    "\n",
    "        print(\"RISE Extension is working!\")\n",
    "    except Exception as e:\n",
    "        print(f\"An error occurred during test: {e}\")\n",
    "    finally:\n",
    "        # Clean up\n",
    "        driver.switch_to.window(driver.window_handles[0])\n",
    "        driver.refresh()\n",
    "        driver.quit()"
   ]
  },
  {
   "cell_type": "code",
   "execution_count": 13,
   "id": "f0231948",
   "metadata": {},
   "outputs": [
    {
     "name": "stdout",
     "output_type": "stream",
     "text": [
      "Saved screenshot: main_screenshot.png\n",
      "Error finding/clicking element: Message: no such element: Unable to locate element: {\"method\":\"xpath\",\"selector\":\"//div[@data-category=\"Notebook\"]\"}\n",
      "  (Session info: chrome=119.0.6045.159); For documentation on this error, please visit: https://www.selenium.dev/documentation/webdriver/troubleshooting/errors#no-such-element-exception\n",
      "Stacktrace:\n",
      "0   chromedriver                        0x0000000100f5bd28 chromedriver + 4795688\n",
      "1   chromedriver                        0x0000000100f532b3 chromedriver + 4760243\n",
      "2   chromedriver                        0x0000000100b2c88d chromedriver + 407693\n",
      "3   chromedriver                        0x0000000100b7b3d9 chromedriver + 730073\n",
      "4   chromedriver                        0x0000000100b7b591 chromedriver + 730513\n",
      "5   chromedriver                        0x0000000100bc17e4 chromedriver + 1017828\n",
      "6   chromedriver                        0x0000000100ba2ccd chromedriver + 892109\n",
      "7   chromedriver                        0x0000000100bbeb2b chromedriver + 1006379\n",
      "8   chromedriver                        0x0000000100ba2a73 chromedriver + 891507\n",
      "9   chromedriver                        0x0000000100b6d143 chromedriver + 672067\n",
      "10  chromedriver                        0x0000000100b6e31e chromedriver + 676638\n",
      "11  chromedriver                        0x0000000100f1c795 chromedriver + 4536213\n",
      "12  chromedriver                        0x0000000100f21853 chromedriver + 4556883\n",
      "13  chromedriver                        0x0000000100f02001 chromedriver + 4427777\n",
      "14  chromedriver                        0x0000000100f2259d chromedriver + 4560285\n",
      "15  chromedriver                        0x0000000100ef348c chromedriver + 4367500\n",
      "16  chromedriver                        0x0000000100f420e8 chromedriver + 4690152\n",
      "17  chromedriver                        0x0000000100f4229e chromedriver + 4690590\n",
      "18  chromedriver                        0x0000000100f52eee chromedriver + 4759278\n",
      "19  libsystem_pthread.dylib             0x00007ff817355202 _pthread_start + 99\n",
      "20  libsystem_pthread.dylib             0x00007ff817350bab thread_start + 15\n",
      "\n",
      "Saved screenshot: new_nb_screenshot.png\n",
      "Error finding/clicking element: Message: element not interactable\n",
      "  (Session info: chrome=119.0.6045.159)\n",
      "Stacktrace:\n",
      "0   chromedriver                        0x0000000100f5bd28 chromedriver + 4795688\n",
      "1   chromedriver                        0x0000000100f532b3 chromedriver + 4760243\n",
      "2   chromedriver                        0x0000000100b2c6bd chromedriver + 407229\n",
      "3   chromedriver                        0x0000000100b7cb43 chromedriver + 736067\n",
      "4   chromedriver                        0x0000000100b6f3fa chromedriver + 680954\n",
      "5   chromedriver                        0x0000000100ba2ca2 chromedriver + 892066\n",
      "6   chromedriver                        0x0000000100b6ec63 chromedriver + 679011\n",
      "7   chromedriver                        0x0000000100ba2e5e chromedriver + 892510\n",
      "8   chromedriver                        0x0000000100bbeb2b chromedriver + 1006379\n",
      "9   chromedriver                        0x0000000100ba2a73 chromedriver + 891507\n",
      "10  chromedriver                        0x0000000100b6d143 chromedriver + 672067\n",
      "11  chromedriver                        0x0000000100b6e31e chromedriver + 676638\n",
      "12  chromedriver                        0x0000000100f1c795 chromedriver + 4536213\n",
      "13  chromedriver                        0x0000000100f21853 chromedriver + 4556883\n",
      "14  chromedriver                        0x0000000100f02001 chromedriver + 4427777\n",
      "15  chromedriver                        0x0000000100f2259d chromedriver + 4560285\n",
      "16  chromedriver                        0x0000000100ef348c chromedriver + 4367500\n",
      "17  chromedriver                        0x0000000100f420e8 chromedriver + 4690152\n",
      "18  chromedriver                        0x0000000100f4229e chromedriver + 4690590\n",
      "19  chromedriver                        0x0000000100f52eee chromedriver + 4759278\n",
      "20  libsystem_pthread.dylib             0x00007ff817355202 _pthread_start + 99\n",
      "21  libsystem_pthread.dylib             0x00007ff817350bab thread_start + 15\n",
      "\n",
      "Saved screenshot: rise_screenshot.png\n",
      "Fullscreen button is functioning:  True\n",
      "RISE Extension is working!\n"
     ]
    }
   ],
   "source": [
    "# replace token with your token\n",
    "token = \"cc2f522441ace86a2bbe4fa85e17f3a488fb181d1538da19\"\n",
    "test_rise_extension(token)"
   ]
  },
  {
   "cell_type": "markdown",
   "id": "1cd3b8a0",
   "metadata": {},
   "source": [
    "## Test 2: Downloaded Testbook Slides for the RISE Test"
   ]
  },
  {
   "cell_type": "code",
   "execution_count": 29,
   "id": "7f962295-485a-4049-b5ba-c7dcb4b3ba28",
   "metadata": {},
   "outputs": [],
   "source": [
    "def test_rise(token, notebook_github_url, local_notebook_name):\n",
    "    driver = setup_driver()\n",
    "    create_jupyter_notebook_from_github(notebook_github_url, local_notebook_name)\n",
    "    open_file_in_jupyterlab(f\"http://127.0.0.1:8888/lab?token={token}\", local_notebook_name,driver)\n",
    "\n",
    "    try:\n",
    "        WebDriverWait(driver, 45)\n",
    "        take_screenshot(driver, 'main_screenshot.png')\n",
    "\n",
    "        # Correct the XPath and check if the \"Launcher\" tab is present\n",
    "        try:\n",
    "            # launcher_element = driver.find_element(By.XPATH, '//div[@data-category=\"Notebook\"]')\n",
    "            launcher_element = driver.find_element(By.XPATH, \"//div[contains(@class, 'lm-TabBar-tabLabel') and contains(@class, 'p-TabBar-tabLabel') and text()='Launcher']\")\n",
    "            is_launcher_page = True\n",
    "        except NoSuchElementException:\n",
    "            is_launcher_page = False \n",
    "        \n",
    "        if is_launcher_page:\n",
    "            print(\"On the Launcher page\")\n",
    "            find_element_and_click(driver, '//div[@data-category=\"Notebook\"]')\n",
    "        else:\n",
    "            print(\"Not on the Launcher page, trying to open the notebook directly\")\n",
    "            open_file_in_jupyterlab(f\"http://127.0.0.1:8888/lab?token={token}\", local_notebook_name,driver)\n",
    "     \n",
    "        take_screenshot(driver, 'new_nb_screenshot.png')\n",
    "        \n",
    "        find_element_and_click(driver, '//button[@data-command=\"RISE:preview\"]')        \n",
    "        take_screenshot(driver, 'rise_screenshot.png')\n",
    "\n",
    "        fullscreen_button = find_element_and_click(driver, \".//button[@title='Open the slideshow in full screen']\")\n",
    "        is_fullscreen = driver.execute_script(\"return document.fullscreenElement !== null\")\n",
    "        print(\"Fullscreen button is functioning\")\n",
    "\n",
    "    finally:\n",
    "        # Clean up  \n",
    "        driver.switch_to.window(driver.window_handles[0])\n",
    "        driver.refresh()\n",
    "        WebDriverWait(driver, 30)\n",
    "        driver.quit()"
   ]
  },
  {
   "cell_type": "code",
   "execution_count": 30,
   "id": "c66c0bcd-d3ae-4257-b78d-68762904be3b",
   "metadata": {
    "tags": []
   },
   "outputs": [
    {
     "name": "stdout",
     "output_type": "stream",
     "text": [
      "Notebook created: downloaded_notebook.ipynb\n",
      "Failed to open file 'downloaded_notebook.ipynb'. File not found or JupyterLab did not load properly.\n",
      "Saved screenshot: main_screenshot.png\n",
      "Not on the Launcher page, trying to open the notebook directly\n",
      "Failed to open file 'downloaded_notebook.ipynb'. File not found or JupyterLab did not load properly.\n",
      "Saved screenshot: new_nb_screenshot.png\n",
      "Error finding/clicking element: Message: element not interactable\n",
      "  (Session info: chrome=119.0.6045.159)\n",
      "Stacktrace:\n",
      "0   chromedriver                        0x0000000102d36d28 chromedriver + 4795688\n",
      "1   chromedriver                        0x0000000102d2e2b3 chromedriver + 4760243\n",
      "2   chromedriver                        0x00000001029076bd chromedriver + 407229\n",
      "3   chromedriver                        0x0000000102957b43 chromedriver + 736067\n",
      "4   chromedriver                        0x000000010294a3fa chromedriver + 680954\n",
      "5   chromedriver                        0x000000010297dca2 chromedriver + 892066\n",
      "6   chromedriver                        0x0000000102949c63 chromedriver + 679011\n",
      "7   chromedriver                        0x000000010297de5e chromedriver + 892510\n",
      "8   chromedriver                        0x0000000102999b2b chromedriver + 1006379\n",
      "9   chromedriver                        0x000000010297da73 chromedriver + 891507\n",
      "10  chromedriver                        0x0000000102948143 chromedriver + 672067\n",
      "11  chromedriver                        0x000000010294931e chromedriver + 676638\n",
      "12  chromedriver                        0x0000000102cf7795 chromedriver + 4536213\n",
      "13  chromedriver                        0x0000000102cfc853 chromedriver + 4556883\n",
      "14  chromedriver                        0x0000000102cdd001 chromedriver + 4427777\n",
      "15  chromedriver                        0x0000000102cfd59d chromedriver + 4560285\n",
      "16  chromedriver                        0x0000000102cce48c chromedriver + 4367500\n",
      "17  chromedriver                        0x0000000102d1d0e8 chromedriver + 4690152\n",
      "18  chromedriver                        0x0000000102d1d29e chromedriver + 4690590\n",
      "19  chromedriver                        0x0000000102d2deee chromedriver + 4759278\n",
      "20  libsystem_pthread.dylib             0x00007ff817355202 _pthread_start + 99\n",
      "21  libsystem_pthread.dylib             0x00007ff817350bab thread_start + 15\n",
      "\n",
      "Saved screenshot: rise_screenshot.png\n",
      "Fullscreen button is functioning\n"
     ]
    }
   ],
   "source": [
    "# replace token with your token\n",
    "token = \"cc2f522441ace86a2bbe4fa85e17f3a488fb181d1538da19\"\n",
    "test_rise(token, notebook_github_url, local_notebook_name)"
   ]
  },
  {
   "cell_type": "markdown",
   "id": "6870d58a",
   "metadata": {},
   "source": [
    "## Test 3: Create slides and test RISE"
   ]
  },
  {
   "cell_type": "code",
   "execution_count": 25,
   "id": "6edc9c02",
   "metadata": {},
   "outputs": [],
   "source": [
    "import nbformat\n",
    "from nbformat.v4 import new_notebook, new_markdown_cell\n",
    "\n",
    "# Define the cells with their content and metadata\n",
    "cells = [\n",
    "    new_markdown_cell(\"# Example Slidedeck\", metadata={\"slideshow\": {\"slide_type\": \"skip\"}}),\n",
    "    new_markdown_cell(\"<hr>\", metadata={\"slideshow\": {\"slide_type\": \"skip\"}}),\n",
    "    new_markdown_cell(\"**0) Blank**\", metadata={\"slideshow\": {\"slide_type\": \"skip\"}}),\n",
    "    new_markdown_cell(\"**BODY**\", metadata={\"slideshow\": {\"slide_type\": \"skip\"}}),\n",
    "    new_markdown_cell(\"We will try to illustrate single-column slides like this one.\", metadata={\"slideshow\": {\"slide_type\": \"slide\"}}),\n",
    "    new_markdown_cell(\"<hr>\", metadata={\"slideshow\": {\"slide_type\": \"skip\"}}),    \n",
    "    new_markdown_cell(\"**7)Title Slide**\", metadata={\"slideshow\": {\"slide_type\": \"skip\"}}),\n",
    "    new_markdown_cell(\"# Title\", metadata={\"slideshow\": {\"slide_type\": \"slide\"}}),\n",
    "    new_markdown_cell(\"**NOTE**\", metadata={\"slideshow\": {\"slide_type\": \"skip\"}}),\n",
    "    new_markdown_cell(\"- a Note that will display in the notes view\", metadata={\"slideshow\": {\"slide_type\": \"notes\"}}),\n",
    "    new_markdown_cell(\"This is the end of the document.\", metadata={\"slideshow\": {\"slide_type\": \"skip\"}, \"tags\": [\"remove-cell\"]}),\n",
    "]"
   ]
  },
  {
   "cell_type": "code",
   "execution_count": 26,
   "id": "27ef57ab",
   "metadata": {},
   "outputs": [],
   "source": [
    "def test_rise_slide(token):\n",
    "    driver = setup_driver()\n",
    "    url = f\"http://127.0.0.1:8888/lab?token={token}\"\n",
    "\n",
    "    try:\n",
    "        driver.get(url)\n",
    "        driver.implicitly_wait(45)\n",
    "\n",
    "        # Create a new notebook object\n",
    "        nb = new_notebook()\n",
    "\n",
    "        # Add cells to the notebook\n",
    "        nb['cells'] = cells\n",
    "\n",
    "        # Write the notebook to a file\n",
    "        with open('example_notebook.ipynb', 'w', encoding='utf-8') as f:\n",
    "            nbformat.write(nb, f)\n",
    "\n",
    "        print(\"Notebook created successfully.\")\n",
    "\n",
    "        # Main actions and interactions\n",
    "        take_screenshot(driver, 'main_screenshot.png')\n",
    "        find_element_and_click(driver, '//button[@title=\"New Launcher\"]')\n",
    "\n",
    "        take_screenshot(driver, 'new_nb_screenshot.png')\n",
    "\n",
    "        find_element_and_click(driver, '//button[@data-command=\"RISE:preview\"]')\n",
    "        take_screenshot(driver, 'rise_screenshot.png')\n",
    "\n",
    "        toolbar = WebDriverWait(driver, 20).until(EC.presence_of_element_located((By.XPATH, \"//div[@class='lm-Widget jp-Toolbar' and @role='navigation']\")))\n",
    "        if toolbar:\n",
    "            fullscreen_button = toolbar.find_element(By.XPATH, \".//button[@title='Open the slideshow in full screen']\")\n",
    "            fullscreen_button.click()\n",
    "            is_fullscreen = driver.execute_script(\"return document.fullscreenElement !== null\")\n",
    "            print(\"Fullscreen button is functioning: \", is_fullscreen)\n",
    "        else:\n",
    "            print(\"Toolbar not found\")\n",
    "\n",
    "        print(\"RISE Extension is working!\")\n",
    "    except Exception as e:\n",
    "        print(f\"An error occurred during test: {e}\")\n",
    "    finally:\n",
    "        # Clean up\n",
    "        driver.switch_to.window(driver.window_handles[0])\n",
    "        driver.refresh()\n",
    "        driver.quit()"
   ]
  },
  {
   "cell_type": "code",
   "execution_count": 27,
   "id": "0eac59ad",
   "metadata": {},
   "outputs": [
    {
     "name": "stdout",
     "output_type": "stream",
     "text": [
      "Notebook created successfully.\n",
      "Saved screenshot: main_screenshot.png\n",
      "Error finding/clicking element: Message: no such element: Unable to locate element: {\"method\":\"xpath\",\"selector\":\"//button[@title=\"New Launcher\"]\"}\n",
      "  (Session info: chrome=119.0.6045.159); For documentation on this error, please visit: https://www.selenium.dev/documentation/webdriver/troubleshooting/errors#no-such-element-exception\n",
      "Stacktrace:\n",
      "0   chromedriver                        0x00000001021e4d28 chromedriver + 4795688\n",
      "1   chromedriver                        0x00000001021dc2b3 chromedriver + 4760243\n",
      "2   chromedriver                        0x0000000101db588d chromedriver + 407693\n",
      "3   chromedriver                        0x0000000101e043d9 chromedriver + 730073\n",
      "4   chromedriver                        0x0000000101e04591 chromedriver + 730513\n",
      "5   chromedriver                        0x0000000101e4a7e4 chromedriver + 1017828\n",
      "6   chromedriver                        0x0000000101e2bccd chromedriver + 892109\n",
      "7   chromedriver                        0x0000000101e47b2b chromedriver + 1006379\n",
      "8   chromedriver                        0x0000000101e2ba73 chromedriver + 891507\n",
      "9   chromedriver                        0x0000000101df6143 chromedriver + 672067\n",
      "10  chromedriver                        0x0000000101df731e chromedriver + 676638\n",
      "11  chromedriver                        0x00000001021a5795 chromedriver + 4536213\n",
      "12  chromedriver                        0x00000001021aa853 chromedriver + 4556883\n",
      "13  chromedriver                        0x000000010218b001 chromedriver + 4427777\n",
      "14  chromedriver                        0x00000001021ab59d chromedriver + 4560285\n",
      "15  chromedriver                        0x000000010217c48c chromedriver + 4367500\n",
      "16  chromedriver                        0x00000001021cb0e8 chromedriver + 4690152\n",
      "17  chromedriver                        0x00000001021cb29e chromedriver + 4690590\n",
      "18  chromedriver                        0x00000001021dbeee chromedriver + 4759278\n",
      "19  libsystem_pthread.dylib             0x00007ff817355202 _pthread_start + 99\n",
      "20  libsystem_pthread.dylib             0x00007ff817350bab thread_start + 15\n",
      "\n",
      "Saved screenshot: new_nb_screenshot.png\n",
      "Error finding/clicking element: Message: element not interactable\n",
      "  (Session info: chrome=119.0.6045.159)\n",
      "Stacktrace:\n",
      "0   chromedriver                        0x00000001021e4d28 chromedriver + 4795688\n",
      "1   chromedriver                        0x00000001021dc2b3 chromedriver + 4760243\n",
      "2   chromedriver                        0x0000000101db56bd chromedriver + 407229\n",
      "3   chromedriver                        0x0000000101e05b43 chromedriver + 736067\n",
      "4   chromedriver                        0x0000000101df83fa chromedriver + 680954\n",
      "5   chromedriver                        0x0000000101e2bca2 chromedriver + 892066\n",
      "6   chromedriver                        0x0000000101df7c63 chromedriver + 679011\n",
      "7   chromedriver                        0x0000000101e2be5e chromedriver + 892510\n",
      "8   chromedriver                        0x0000000101e47b2b chromedriver + 1006379\n",
      "9   chromedriver                        0x0000000101e2ba73 chromedriver + 891507\n",
      "10  chromedriver                        0x0000000101df6143 chromedriver + 672067\n",
      "11  chromedriver                        0x0000000101df731e chromedriver + 676638\n",
      "12  chromedriver                        0x00000001021a5795 chromedriver + 4536213\n",
      "13  chromedriver                        0x00000001021aa853 chromedriver + 4556883\n",
      "14  chromedriver                        0x000000010218b001 chromedriver + 4427777\n",
      "15  chromedriver                        0x00000001021ab59d chromedriver + 4560285\n",
      "16  chromedriver                        0x000000010217c48c chromedriver + 4367500\n",
      "17  chromedriver                        0x00000001021cb0e8 chromedriver + 4690152\n",
      "18  chromedriver                        0x00000001021cb29e chromedriver + 4690590\n",
      "19  chromedriver                        0x00000001021dbeee chromedriver + 4759278\n",
      "20  libsystem_pthread.dylib             0x00007ff817355202 _pthread_start + 99\n",
      "21  libsystem_pthread.dylib             0x00007ff817350bab thread_start + 15\n",
      "\n",
      "Saved screenshot: rise_screenshot.png\n",
      "Fullscreen button is functioning:  True\n",
      "RISE Extension is working!\n"
     ]
    }
   ],
   "source": [
    "# replace token with your token\n",
    "token = \"cc2f522441ace86a2bbe4fa85e17f3a488fb181d1538da19\"\n",
    "test_rise_slide(token)"
   ]
  },
  {
   "cell_type": "markdown",
   "id": "db3b2620",
   "metadata": {},
   "source": []
  }
 ],
 "metadata": {
  "kernelspec": {
   "display_name": "Python 3 (ipykernel)",
   "language": "python",
   "name": "python3"
  },
  "language_info": {
   "codemirror_mode": {
    "name": "ipython",
    "version": 3
   },
   "file_extension": ".py",
   "mimetype": "text/x-python",
   "name": "python",
   "nbconvert_exporter": "python",
   "pygments_lexer": "ipython3",
   "version": "3.9.1"
  }
 },
 "nbformat": 4,
 "nbformat_minor": 5
}
