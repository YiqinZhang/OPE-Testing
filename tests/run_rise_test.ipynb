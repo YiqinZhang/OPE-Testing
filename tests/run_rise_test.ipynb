{
 "cells": [
  {
   "cell_type": "code",
   "execution_count": 1,
   "id": "6f59621a-9a8d-4a28-9e56-01d2e4f8caf4",
   "metadata": {
    "tags": []
   },
   "outputs": [
    {
     "name": "stdout",
     "output_type": "stream",
     "text": [
      "Defaulting to user installation because normal site-packages is not writeable\n",
      "Requirement already satisfied: selenium in /Users/zhangyiqin/Library/Python/3.9/lib/python/site-packages (4.15.2)\n",
      "Requirement already satisfied: urllib3<3,>=1.26 in /Library/Frameworks/Python.framework/Versions/3.9/lib/python3.9/site-packages (from urllib3[socks]<3,>=1.26->selenium) (1.26.5)\n",
      "Requirement already satisfied: trio~=0.17 in /Users/zhangyiqin/Library/Python/3.9/lib/python/site-packages (from selenium) (0.23.1)\n",
      "Requirement already satisfied: trio-websocket~=0.9 in /Users/zhangyiqin/Library/Python/3.9/lib/python/site-packages (from selenium) (0.11.1)\n",
      "Requirement already satisfied: certifi>=2021.10.8 in /Users/zhangyiqin/Library/Python/3.9/lib/python/site-packages (from selenium) (2023.7.22)\n",
      "Requirement already satisfied: attrs>=20.1.0 in /Library/Frameworks/Python.framework/Versions/3.9/lib/python3.9/site-packages (from trio~=0.17->selenium) (21.2.0)\n",
      "Requirement already satisfied: sortedcontainers in /Users/zhangyiqin/Library/Python/3.9/lib/python/site-packages (from trio~=0.17->selenium) (2.4.0)\n",
      "Requirement already satisfied: idna in /Library/Frameworks/Python.framework/Versions/3.9/lib/python3.9/site-packages (from trio~=0.17->selenium) (2.10)\n",
      "Requirement already satisfied: outcome in /Users/zhangyiqin/Library/Python/3.9/lib/python/site-packages (from trio~=0.17->selenium) (1.3.0.post0)\n",
      "Requirement already satisfied: sniffio>=1.3.0 in /Users/zhangyiqin/Library/Python/3.9/lib/python/site-packages (from trio~=0.17->selenium) (1.3.0)\n",
      "Requirement already satisfied: exceptiongroup>=1.0.0rc9 in /Users/zhangyiqin/Library/Python/3.9/lib/python/site-packages (from trio~=0.17->selenium) (1.1.3)\n",
      "Requirement already satisfied: wsproto>=0.14 in /Users/zhangyiqin/Library/Python/3.9/lib/python/site-packages (from trio-websocket~=0.9->selenium) (1.2.0)\n",
      "Requirement already satisfied: PySocks!=1.5.7,<2.0,>=1.5.6 in /Users/zhangyiqin/Library/Python/3.9/lib/python/site-packages (from urllib3[socks]<3,>=1.26->selenium) (1.7.1)\n",
      "Requirement already satisfied: h11<1,>=0.9.0 in /Users/zhangyiqin/Library/Python/3.9/lib/python/site-packages (from wsproto>=0.14->trio-websocket~=0.9->selenium) (0.14.0)\n",
      "Defaulting to user installation because normal site-packages is not writeable\n",
      "Requirement already satisfied: webdriver_manager in /Users/zhangyiqin/Library/Python/3.9/lib/python/site-packages (4.0.1)\n",
      "Requirement already satisfied: requests in /Users/zhangyiqin/Library/Python/3.9/lib/python/site-packages (from webdriver_manager) (2.31.0)\n",
      "Requirement already satisfied: python-dotenv in /Users/zhangyiqin/Library/Python/3.9/lib/python/site-packages (from webdriver_manager) (1.0.0)\n",
      "Requirement already satisfied: packaging in /Users/zhangyiqin/Library/Python/3.9/lib/python/site-packages (from webdriver_manager) (22.0)\n",
      "Requirement already satisfied: charset-normalizer<4,>=2 in /Users/zhangyiqin/Library/Python/3.9/lib/python/site-packages (from requests->webdriver_manager) (2.1.1)\n",
      "Requirement already satisfied: idna<4,>=2.5 in /Library/Frameworks/Python.framework/Versions/3.9/lib/python3.9/site-packages (from requests->webdriver_manager) (2.10)\n",
      "Requirement already satisfied: urllib3<3,>=1.21.1 in /Library/Frameworks/Python.framework/Versions/3.9/lib/python3.9/site-packages (from requests->webdriver_manager) (1.26.5)\n",
      "Requirement already satisfied: certifi>=2017.4.17 in /Users/zhangyiqin/Library/Python/3.9/lib/python/site-packages (from requests->webdriver_manager) (2023.7.22)\n",
      "Defaulting to user installation because normal site-packages is not writeable\n",
      "Requirement already satisfied: docker in /Users/zhangyiqin/Library/Python/3.9/lib/python/site-packages (4.4.4)\n",
      "Requirement already satisfied: six>=1.4.0 in /Users/zhangyiqin/Library/Python/3.9/lib/python/site-packages (from docker) (1.14.0)\n",
      "Requirement already satisfied: websocket-client>=0.32.0 in /Users/zhangyiqin/Library/Python/3.9/lib/python/site-packages (from docker) (0.59.0)\n",
      "Requirement already satisfied: requests!=2.18.0,>=2.14.2 in /Users/zhangyiqin/Library/Python/3.9/lib/python/site-packages (from docker) (2.31.0)\n",
      "Requirement already satisfied: charset-normalizer<4,>=2 in /Users/zhangyiqin/Library/Python/3.9/lib/python/site-packages (from requests!=2.18.0,>=2.14.2->docker) (2.1.1)\n",
      "Requirement already satisfied: idna<4,>=2.5 in /Library/Frameworks/Python.framework/Versions/3.9/lib/python3.9/site-packages (from requests!=2.18.0,>=2.14.2->docker) (2.10)\n",
      "Requirement already satisfied: urllib3<3,>=1.21.1 in /Library/Frameworks/Python.framework/Versions/3.9/lib/python3.9/site-packages (from requests!=2.18.0,>=2.14.2->docker) (1.26.5)\n",
      "Requirement already satisfied: certifi>=2017.4.17 in /Users/zhangyiqin/Library/Python/3.9/lib/python/site-packages (from requests!=2.18.0,>=2.14.2->docker) (2023.7.22)\n",
      "Defaulting to user installation because normal site-packages is not writeable\n",
      "Requirement already satisfied: requests in /Users/zhangyiqin/Library/Python/3.9/lib/python/site-packages (2.31.0)\n",
      "Requirement already satisfied: charset-normalizer<4,>=2 in /Users/zhangyiqin/Library/Python/3.9/lib/python/site-packages (from requests) (2.1.1)\n",
      "Requirement already satisfied: idna<4,>=2.5 in /Library/Frameworks/Python.framework/Versions/3.9/lib/python3.9/site-packages (from requests) (2.10)\n",
      "Requirement already satisfied: urllib3<3,>=1.21.1 in /Library/Frameworks/Python.framework/Versions/3.9/lib/python3.9/site-packages (from requests) (1.26.5)\n",
      "Requirement already satisfied: certifi>=2017.4.17 in /Users/zhangyiqin/Library/Python/3.9/lib/python/site-packages (from requests) (2023.7.22)\n"
     ]
    }
   ],
   "source": [
    "!pip install selenium\n",
    "!pip install webdriver_manager\n",
    "!pip install docker\n",
    "!pip install requests"
   ]
  },
  {
   "cell_type": "markdown",
   "id": "75d70d96-c2d1-4c31-8a8c-8e009dc720fe",
   "metadata": {
    "jp-MarkdownHeadingCollapsed": true,
    "tags": []
   },
   "source": [
    "##  Get the container ID"
   ]
  },
  {
   "cell_type": "code",
   "execution_count": 2,
   "id": "0f005ab3-a95e-40c1-a19d-02dc4ef60572",
   "metadata": {
    "tags": []
   },
   "outputs": [
    {
     "name": "stdout",
     "output_type": "stream",
     "text": [
      "Container ID: \n"
     ]
    },
    {
     "name": "stderr",
     "output_type": "stream",
     "text": [
      "Cannot connect to the Docker daemon at unix:///Users/zhangyiqin/.docker/run/docker.sock. Is the docker daemon running?\n"
     ]
    }
   ],
   "source": [
    "import subprocess\n",
    "\n",
    "# Get the first container ID\n",
    "#get_cont_id_cmd = \"docker ps -q | head -n 1\"\n",
    "get_cont_id_cmd = \"/usr/local/bin/docker ps -q | head -n 1\"\n",
    "cont_id = subprocess.check_output(get_cont_id_cmd, shell=True).decode('utf-8').strip()\n",
    "\n",
    "print(\"Container ID:\", cont_id)"
   ]
  },
  {
   "cell_type": "markdown",
   "id": "9bee7772-db47-4a68-9840-2ab991a6683a",
   "metadata": {},
   "source": [
    "## Get the Jupyter lab token"
   ]
  },
  {
   "cell_type": "code",
   "execution_count": 3,
   "id": "c7f07960-558b-4758-a0a3-b81991416b36",
   "metadata": {
    "tags": []
   },
   "outputs": [
    {
     "name": "stdout",
     "output_type": "stream",
     "text": [
      "Jupyter Lab Token: \n"
     ]
    }
   ],
   "source": [
    "get_token_cmd = f\"docker exec {cont_id} jupyter lab list 2>&1 | grep -o 'token=[^ ]*' | cut -d= -f2\"\n",
    "token = subprocess.check_output(get_token_cmd, shell=True).decode('utf-8').strip()\n",
    "\n",
    "print(\"Jupyter Lab Token:\", token)"
   ]
  },
  {
   "cell_type": "markdown",
   "id": "b560700a-fbe7-4806-b003-5bb6b93c3f46",
   "metadata": {
    "tags": []
   },
   "source": [
    "##  Run the rise_test.py "
   ]
  },
  {
   "cell_type": "code",
   "execution_count": 4,
   "id": "bf2a6f1b-9c82-4c20-b96b-fad85f527dc1",
   "metadata": {},
   "outputs": [
    {
     "name": "stdout",
     "output_type": "stream",
     "text": [
      "Token not found. Check if Jupyter Lab is running in the container.\n"
     ]
    }
   ],
   "source": [
    "# Run the rise_test.py with the token\n",
    "if token:\n",
    "    run_script_cmd = f\"python3 rise_test.py {token}\"\n",
    "    script_output = subprocess.check_output(run_script_cmd, shell=True).decode('utf-8')\n",
    "    print(\"Script Output:\\n\", script_output)    \n",
    "else:\n",
    "    print(\"Token not found. Check if Jupyter Lab is running in the container.\")"
   ]
  },
  {
   "cell_type": "markdown",
   "id": "bb462014-f9ec-402f-83ab-8f920aac8afb",
   "metadata": {},
   "source": [
    "## Test the RISE"
   ]
  },
  {
   "cell_type": "code",
   "execution_count": 5,
   "id": "a426cc0c-7d86-4764-9721-14da8229b26b",
   "metadata": {},
   "outputs": [],
   "source": [
    "import requests\n",
    "import json\n",
    "from selenium import webdriver\n",
    "from selenium.webdriver.chrome.service import Service as ChromiumService\n",
    "from webdriver_manager.chrome import ChromeDriverManager\n",
    "from selenium.webdriver.chrome.options import Options\n",
    "from selenium.webdriver.common.by import By\n",
    "from selenium.common.exceptions import NoSuchElementException, WebDriverException\n",
    "from selenium.webdriver.support.ui import WebDriverWait\n",
    "from selenium.webdriver.support import expected_conditions as EC\n",
    "from selenium.common.exceptions import TimeoutException\n",
    "from selenium.webdriver import ActionChains\n",
    "from selenium.webdriver.common.keys import Keys\n",
    "import platform\n"
   ]
  },
  {
   "cell_type": "code",
   "execution_count": 6,
   "id": "0feb7e29-3fcf-4820-852f-376894746e84",
   "metadata": {},
   "outputs": [],
   "source": [
    "def setup_driver():\n",
    "    chrome_options = Options()\n",
    "    if platform.system() in ['Windows', 'Darwin']:\n",
    "        chrome_options.add_experimental_option('detach', True)\n",
    "    elif platform.system() == 'Linux':\n",
    "        chrome_options.add_argument('--headless')\n",
    "    else:\n",
    "        raise Exception(\"Unknown OS\")\n",
    "    return webdriver.Chrome(service=ChromiumService(ChromeDriverManager().install()), options=chrome_options)"
   ]
  },
  {
   "cell_type": "code",
   "execution_count": 7,
   "id": "94778efa",
   "metadata": {},
   "outputs": [],
   "source": [
    "base_url = \"http://localhost:8888\"  # Base URL of your JupyterLab server\n",
    "image_path = \"/lab/images/sample-image.jpg\"  # Extracted relative path\n",
    "full_image_url = base_url + image_path\n",
    "image_url=\"https://raw.githubusercontent.com/YiqinZhang/ope-project/e9ea65fa2317b3c39d70984875ce2885dde8e599/content/images/sample-image.jpg\""
   ]
  },
  {
   "cell_type": "code",
   "execution_count": 8,
   "id": "34066862",
   "metadata": {},
   "outputs": [],
   "source": [
    "def create_jupyter_notebook_from_github(github_url, local_file_name):\n",
    "    try:\n",
    "        response = requests.get(github_url)\n",
    "        response.raise_for_status()  # Raise an error for bad status codes\n",
    "        notebook_content = response.json()\n",
    "        with open(local_file_name, 'w', encoding='utf-8') as notebook_file:\n",
    "            json.dump(notebook_content, notebook_file)\n",
    "        print(f\"Notebook created: {local_file_name}\")\n",
    "    except requests.RequestException as e:\n",
    "        print(f\"Failed to download the notebook: {e}\")"
   ]
  },
  {
   "cell_type": "code",
   "execution_count": 9,
   "id": "70bb6662-95cd-4d0e-949c-ebf7292e2b6b",
   "metadata": {},
   "outputs": [
    {
     "name": "stdout",
     "output_type": "stream",
     "text": [
      "Image downloaded successfully: local_images/sample-image.jpg\n"
     ]
    }
   ],
   "source": [
    "import os\n",
    "def download_image(image_url, local_img_path):\n",
    "    response = requests.get(image_url, stream=True)\n",
    "\n",
    "    if response.status_code == 200:\n",
    "        os.makedirs(os.path.dirname(local_img_path), exist_ok=True)\n",
    "        with open(local_img_path, 'wb') as f:\n",
    "            for chunk in response.iter_content(chunk_size=128):\n",
    "                f.write(chunk)\n",
    "        print(f\"Image downloaded successfully: {local_img_path}\")\n",
    "    else:\n",
    "        print(f\"Failed to download the image: {image_url}\")\n",
    "\n",
    "image_url = 'https://raw.githubusercontent.com/YiqinZhang/ope-project/e9ea65fa2317b3c39d70984875ce2885dde8e599/content/images/sample-image.jpg'\n",
    "download_image(image_url, 'images/sample-image.jpg')\n"
   ]
  },
  {
   "cell_type": "code",
   "execution_count": 10,
   "id": "4865d8cb-c253-4300-b663-5a3ad5330ca2",
   "metadata": {
    "tags": []
   },
   "outputs": [
    {
     "name": "stdout",
     "output_type": "stream",
     "text": [
      "Notebook created: downloaded_notebook.ipynb\n"
     ]
    }
   ],
   "source": [
    "notebook_github_url = \"https://raw.githubusercontent.com/OPEFFORT/ope-project/main/content/test_book/02_slides_template/layout_example.ipynb\"\n",
    "local_notebook_name = \"downloaded_notebook.ipynb\"\n",
    "create_jupyter_notebook_from_github(notebook_github_url, local_notebook_name)"
   ]
  },
  {
   "cell_type": "code",
   "execution_count": 11,
   "id": "2dabb5fa",
   "metadata": {},
   "outputs": [],
   "source": [
    "def open_file_in_jupyterlab(url, file_name, driver):\n",
    "    try:\n",
    "        driver.get(url)\n",
    "        # Wait for the file browser to be available\n",
    "        WebDriverWait(driver, 20).until(\n",
    "            EC.presence_of_element_located((By.CSS_SELECTOR, \".jp-DirListing-content\"))\n",
    "        )\n",
    "\n",
    "        # Find the file in the file browser\n",
    "        file_element = WebDriverWait(driver, 30).until(\n",
    "            EC.element_to_be_clickable((By.XPATH, f\"//span[contains(text(), '{file_name}') and @class='jp-DirListing-itemText']\"))\n",
    "        )\n",
    "\n",
    "        # Double click on the file to open it\n",
    "        driver.execute_script(\"\"\"\n",
    "            var evt = new MouseEvent('dblclick', {\n",
    "                bubbles: true,\n",
    "                cancelable: true,\n",
    "                view: window\n",
    "            });\n",
    "            arguments[0].dispatchEvent(evt);\n",
    "        \"\"\", file_element)\n",
    "\n",
    "        print(f\"File '{file_name}' opened successfully.\")\n",
    "    except TimeoutException:\n",
    "        print(f\"Failed to open file '{file_name}'. File not found or JupyterLab did not load properly.\")"
   ]
  },
  {
   "cell_type": "code",
   "execution_count": 12,
   "id": "11a7c43b-d1ea-4869-b777-bd8a4ccba3f0",
   "metadata": {},
   "outputs": [],
   "source": [
    "def take_screenshot(driver, filename):\n",
    "    try:\n",
    "        driver.save_screenshot(filename)\n",
    "        print(f\"Saved screenshot: {filename}\")\n",
    "    except Exception as e:\n",
    "        print(f\"Error taking screenshot: {e}\")\n"
   ]
  },
  {
   "cell_type": "code",
   "execution_count": 13,
   "id": "c5c6f0ac-9876-4872-a2a6-e933be5cd2cb",
   "metadata": {},
   "outputs": [],
   "source": [
    "def find_element_and_click(driver, xpath):\n",
    "    try:\n",
    "        element = WebDriverWait(driver, 15).until(\n",
    "            EC.element_to_be_clickable((By.XPATH, xpath))\n",
    "        )\n",
    "        # element = driver.find_element(By.XPATH, xpath)\n",
    "        element.click()\n",
    "        return element\n",
    "    except Exception as e:\n",
    "        print(f\"Error finding/clicking element: {e}\")\n"
   ]
  },
  {
   "cell_type": "markdown",
   "id": "2e13ad58",
   "metadata": {},
   "source": [
    "## Test1: Refactor the Previous Test for Suitability with the Launcher"
   ]
  },
  {
   "cell_type": "code",
   "execution_count": 14,
   "id": "6d3be6da",
   "metadata": {},
   "outputs": [],
   "source": [
    "def test_rise_extension(token):\n",
    "    driver = setup_driver()\n",
    "    url = f\"http://127.0.0.1:8888/lab?token={token}\"\n",
    "\n",
    "    try:\n",
    "        driver.get(url)\n",
    "        driver.implicitly_wait(45)\n",
    "        # Main actions and interactions\n",
    "        take_screenshot(driver, 'main_screenshot.png')\n",
    "\n",
    "        find_element_and_click(driver, '//div[@data-category=\"Notebook\"]')\n",
    "        take_screenshot(driver, 'new_nb_screenshot.png')\n",
    "\n",
    "        find_element_and_click(driver, '//button[@data-command=\"RISE:preview\"]')\n",
    "        take_screenshot(driver, 'rise_screenshot.png')\n",
    "\n",
    "        toolbar = WebDriverWait(driver, 20).until(EC.presence_of_element_located((By.XPATH, \"//div[@class='lm-Widget jp-Toolbar' and @role='navigation']\")))\n",
    "        if toolbar:\n",
    "            fullscreen_button = toolbar.find_element(By.XPATH, \".//button[@title='Open the slideshow in full screen']\")\n",
    "            fullscreen_button.click()\n",
    "            is_fullscreen = driver.execute_script(\"return document.fullscreenElement !== null\")\n",
    "            print(\"Fullscreen button is functioning: \", is_fullscreen)\n",
    "        else:\n",
    "            print(\"Toolbar not found\")\n",
    "\n",
    "        print(\"RISE Extension is working!\")\n",
    "    except Exception as e:\n",
    "        print(f\"An error occurred during test: {e}\")\n",
    "    finally:\n",
    "        # Clean up\n",
    "        driver.switch_to.window(driver.window_handles[0])\n",
    "        driver.refresh()\n",
    "        driver.quit()"
   ]
  },
  {
   "cell_type": "code",
   "execution_count": 15,
   "id": "f0231948",
   "metadata": {},
   "outputs": [
    {
     "name": "stdout",
     "output_type": "stream",
     "text": [
      "Saved screenshot: main_screenshot.png\n",
      "Error finding/clicking element: Message: \n",
      "Stacktrace:\n",
      "0   chromedriver                        0x0000000102673d28 chromedriver + 4795688\n",
      "1   chromedriver                        0x000000010266b2b3 chromedriver + 4760243\n",
      "2   chromedriver                        0x000000010224488d chromedriver + 407693\n",
      "3   chromedriver                        0x00000001022933d9 chromedriver + 730073\n",
      "4   chromedriver                        0x0000000102293591 chromedriver + 730513\n",
      "5   chromedriver                        0x00000001022d97e4 chromedriver + 1017828\n",
      "6   chromedriver                        0x00000001022baccd chromedriver + 892109\n",
      "7   chromedriver                        0x00000001022d6b2b chromedriver + 1006379\n",
      "8   chromedriver                        0x00000001022baa73 chromedriver + 891507\n",
      "9   chromedriver                        0x0000000102285143 chromedriver + 672067\n",
      "10  chromedriver                        0x000000010228631e chromedriver + 676638\n",
      "11  chromedriver                        0x0000000102634795 chromedriver + 4536213\n",
      "12  chromedriver                        0x0000000102639853 chromedriver + 4556883\n",
      "13  chromedriver                        0x000000010261a001 chromedriver + 4427777\n",
      "14  chromedriver                        0x000000010263a59d chromedriver + 4560285\n",
      "15  chromedriver                        0x000000010260b48c chromedriver + 4367500\n",
      "16  chromedriver                        0x000000010265a0e8 chromedriver + 4690152\n",
      "17  chromedriver                        0x000000010265a29e chromedriver + 4690590\n",
      "18  chromedriver                        0x000000010266aeee chromedriver + 4759278\n",
      "19  libsystem_pthread.dylib             0x00007ff817355202 _pthread_start + 99\n",
      "20  libsystem_pthread.dylib             0x00007ff817350bab thread_start + 15\n",
      "\n",
      "Saved screenshot: new_nb_screenshot.png\n",
      "Saved screenshot: rise_screenshot.png\n",
      "Fullscreen button is functioning:  False\n",
      "RISE Extension is working!\n"
     ]
    }
   ],
   "source": [
    "# replace token with your token\n",
    "token = \"cc2f522441ace86a2bbe4fa85e17f3a488fb181d1538da19\"\n",
    "test_rise_extension(token)"
   ]
  },
  {
   "cell_type": "markdown",
   "id": "1cd3b8a0",
   "metadata": {},
   "source": [
    "## Test 2: Downloaded Testbook Slides for the RISE Test"
   ]
  },
  {
   "cell_type": "code",
   "execution_count": 16,
   "id": "7f962295-485a-4049-b5ba-c7dcb4b3ba28",
   "metadata": {},
   "outputs": [],
   "source": [
    "def test_rise(token, notebook_github_url, local_notebook_name):\n",
    "    driver = setup_driver()\n",
    "    create_jupyter_notebook_from_github(notebook_github_url, local_notebook_name)\n",
    "    open_file_in_jupyterlab(f\"http://127.0.0.1:8888/lab?token={token}\", local_notebook_name,driver)\n",
    "\n",
    "    try:\n",
    "        WebDriverWait(driver, 45)\n",
    "        take_screenshot(driver, 'main_screenshot.png')\n",
    "\n",
    "        # Correct the XPath and check if the \"Launcher\" tab is present\n",
    "        try:\n",
    "            # launcher_element = driver.find_element(By.XPATH, '//div[@data-category=\"Notebook\"]')\n",
    "            launcher_element = driver.find_element(By.XPATH, \"//div[contains(@class, 'lm-TabBar-tabLabel') and contains(@class, 'p-TabBar-tabLabel') and text()='Launcher']\")\n",
    "            is_launcher_page = True\n",
    "        except NoSuchElementException:\n",
    "            is_launcher_page = False \n",
    "        \n",
    "        if is_launcher_page:\n",
    "            print(\"On the Launcher page\")\n",
    "            find_element_and_click(driver, '//div[@data-category=\"Notebook\"]')\n",
    "        else:\n",
    "            print(\"Not on the Launcher page, trying to open the notebook directly\")\n",
    "            open_file_in_jupyterlab(f\"http://127.0.0.1:8888/lab?token={token}\", local_notebook_name,driver)\n",
    "     \n",
    "        take_screenshot(driver, 'new_nb_screenshot.png')\n",
    "        \n",
    "        find_element_and_click(driver, '//button[@data-command=\"RISE:preview\"]')        \n",
    "        take_screenshot(driver, 'rise_screenshot.png')\n",
    "\n",
    "        fullscreen_button = find_element_and_click(driver, \".//button[@title='Open the slideshow in full screen']\")\n",
    "        is_fullscreen = driver.execute_script(\"return document.fullscreenElement !== null\")\n",
    "        print(\"Fullscreen button is functioning\")\n",
    "\n",
    "    finally:\n",
    "        # Clean up  \n",
    "        driver.switch_to.window(driver.window_handles[0])\n",
    "        driver.refresh()\n",
    "        WebDriverWait(driver, 30)\n",
    "        driver.quit()"
   ]
  },
  {
   "cell_type": "code",
   "execution_count": 17,
   "id": "c66c0bcd-d3ae-4257-b78d-68762904be3b",
   "metadata": {
    "tags": []
   },
   "outputs": [
    {
     "name": "stdout",
     "output_type": "stream",
     "text": [
      "Notebook created: downloaded_notebook.ipynb\n",
      "Failed to open file 'downloaded_notebook.ipynb'. File not found or JupyterLab did not load properly.\n",
      "Saved screenshot: main_screenshot.png\n",
      "Not on the Launcher page, trying to open the notebook directly\n"
     ]
    },
    {
     "ename": "UnexpectedAlertPresentException",
     "evalue": "Alert Text: {Alert text : \nMessage: unexpected alert open: {Alert text : }\n  (Session info: chrome=119.0.6045.159)\nStacktrace:\n0   chromedriver                        0x00000001098d6d28 chromedriver + 4795688\n1   chromedriver                        0x00000001098ce2b3 chromedriver + 4760243\n2   chromedriver                        0x00000001094a788d chromedriver + 407693\n3   chromedriver                        0x000000010953a019 chromedriver + 1007641\n4   chromedriver                        0x000000010951da73 chromedriver + 891507\n5   chromedriver                        0x00000001094e8143 chromedriver + 672067\n6   chromedriver                        0x00000001094e931e chromedriver + 676638\n7   chromedriver                        0x0000000109897795 chromedriver + 4536213\n8   chromedriver                        0x000000010989c853 chromedriver + 4556883\n9   chromedriver                        0x000000010987d001 chromedriver + 4427777\n10  chromedriver                        0x000000010989d59d chromedriver + 4560285\n11  chromedriver                        0x000000010986e48c chromedriver + 4367500\n12  chromedriver                        0x00000001098bd0e8 chromedriver + 4690152\n13  chromedriver                        0x00000001098bd29e chromedriver + 4690590\n14  chromedriver                        0x00000001098cdeee chromedriver + 4759278\n15  libsystem_pthread.dylib             0x00007ff817355202 _pthread_start + 99\n16  libsystem_pthread.dylib             0x00007ff817350bab thread_start + 15\n",
     "output_type": "error",
     "traceback": [
      "\u001b[0;31m---------------------------------------------------------------------------\u001b[0m",
      "\u001b[0;31mUnexpectedAlertPresentException\u001b[0m           Traceback (most recent call last)",
      "\u001b[0;32m/var/folders/df/vqrt_6yx3f962pmw8c8mwxyw0000gn/T/ipykernel_34533/2014404630.py\u001b[0m in \u001b[0;36m<module>\u001b[0;34m\u001b[0m\n\u001b[1;32m      1\u001b[0m \u001b[0;31m# replace token with your token\u001b[0m\u001b[0;34m\u001b[0m\u001b[0;34m\u001b[0m\u001b[0;34m\u001b[0m\u001b[0m\n\u001b[1;32m      2\u001b[0m \u001b[0mtoken\u001b[0m \u001b[0;34m=\u001b[0m \u001b[0;34m\"cc2f522441ace86a2bbe4fa85e17f3a488fb181d1538da19\"\u001b[0m\u001b[0;34m\u001b[0m\u001b[0;34m\u001b[0m\u001b[0m\n\u001b[0;32m----> 3\u001b[0;31m \u001b[0mtest_rise\u001b[0m\u001b[0;34m(\u001b[0m\u001b[0mtoken\u001b[0m\u001b[0;34m,\u001b[0m \u001b[0mnotebook_github_url\u001b[0m\u001b[0;34m,\u001b[0m \u001b[0mlocal_notebook_name\u001b[0m\u001b[0;34m)\u001b[0m\u001b[0;34m\u001b[0m\u001b[0;34m\u001b[0m\u001b[0m\n\u001b[0m",
      "\u001b[0;32m/var/folders/df/vqrt_6yx3f962pmw8c8mwxyw0000gn/T/ipykernel_34533/4071508516.py\u001b[0m in \u001b[0;36mtest_rise\u001b[0;34m(token, notebook_github_url, local_notebook_name)\u001b[0m\n\u001b[1;32m     21\u001b[0m         \u001b[0;32melse\u001b[0m\u001b[0;34m:\u001b[0m\u001b[0;34m\u001b[0m\u001b[0;34m\u001b[0m\u001b[0m\n\u001b[1;32m     22\u001b[0m             \u001b[0mprint\u001b[0m\u001b[0;34m(\u001b[0m\u001b[0;34m\"Not on the Launcher page, trying to open the notebook directly\"\u001b[0m\u001b[0;34m)\u001b[0m\u001b[0;34m\u001b[0m\u001b[0;34m\u001b[0m\u001b[0m\n\u001b[0;32m---> 23\u001b[0;31m             \u001b[0mopen_file_in_jupyterlab\u001b[0m\u001b[0;34m(\u001b[0m\u001b[0;34mf\"http://127.0.0.1:8888/lab?token={token}\"\u001b[0m\u001b[0;34m,\u001b[0m \u001b[0mlocal_notebook_name\u001b[0m\u001b[0;34m,\u001b[0m\u001b[0mdriver\u001b[0m\u001b[0;34m)\u001b[0m\u001b[0;34m\u001b[0m\u001b[0;34m\u001b[0m\u001b[0m\n\u001b[0m\u001b[1;32m     24\u001b[0m \u001b[0;34m\u001b[0m\u001b[0m\n\u001b[1;32m     25\u001b[0m         \u001b[0mtake_screenshot\u001b[0m\u001b[0;34m(\u001b[0m\u001b[0mdriver\u001b[0m\u001b[0;34m,\u001b[0m \u001b[0;34m'new_nb_screenshot.png'\u001b[0m\u001b[0;34m)\u001b[0m\u001b[0;34m\u001b[0m\u001b[0;34m\u001b[0m\u001b[0m\n",
      "\u001b[0;32m/var/folders/df/vqrt_6yx3f962pmw8c8mwxyw0000gn/T/ipykernel_34533/2788128902.py\u001b[0m in \u001b[0;36mopen_file_in_jupyterlab\u001b[0;34m(url, file_name, driver)\u001b[0m\n\u001b[1;32m      3\u001b[0m         \u001b[0mdriver\u001b[0m\u001b[0;34m.\u001b[0m\u001b[0mget\u001b[0m\u001b[0;34m(\u001b[0m\u001b[0murl\u001b[0m\u001b[0;34m)\u001b[0m\u001b[0;34m\u001b[0m\u001b[0;34m\u001b[0m\u001b[0m\n\u001b[1;32m      4\u001b[0m         \u001b[0;31m# Wait for the file browser to be available\u001b[0m\u001b[0;34m\u001b[0m\u001b[0;34m\u001b[0m\u001b[0;34m\u001b[0m\u001b[0m\n\u001b[0;32m----> 5\u001b[0;31m         WebDriverWait(driver, 20).until(\n\u001b[0m\u001b[1;32m      6\u001b[0m             \u001b[0mEC\u001b[0m\u001b[0;34m.\u001b[0m\u001b[0mpresence_of_element_located\u001b[0m\u001b[0;34m(\u001b[0m\u001b[0;34m(\u001b[0m\u001b[0mBy\u001b[0m\u001b[0;34m.\u001b[0m\u001b[0mCSS_SELECTOR\u001b[0m\u001b[0;34m,\u001b[0m \u001b[0;34m\".jp-DirListing-content\"\u001b[0m\u001b[0;34m)\u001b[0m\u001b[0;34m)\u001b[0m\u001b[0;34m\u001b[0m\u001b[0;34m\u001b[0m\u001b[0m\n\u001b[1;32m      7\u001b[0m         )\n",
      "\u001b[0;32m~/Library/Python/3.9/lib/python/site-packages/selenium/webdriver/support/wait.py\u001b[0m in \u001b[0;36muntil\u001b[0;34m(self, method, message)\u001b[0m\n\u001b[1;32m     90\u001b[0m         \u001b[0;32mwhile\u001b[0m \u001b[0;32mTrue\u001b[0m\u001b[0;34m:\u001b[0m\u001b[0;34m\u001b[0m\u001b[0;34m\u001b[0m\u001b[0m\n\u001b[1;32m     91\u001b[0m             \u001b[0;32mtry\u001b[0m\u001b[0;34m:\u001b[0m\u001b[0;34m\u001b[0m\u001b[0;34m\u001b[0m\u001b[0m\n\u001b[0;32m---> 92\u001b[0;31m                 \u001b[0mvalue\u001b[0m \u001b[0;34m=\u001b[0m \u001b[0mmethod\u001b[0m\u001b[0;34m(\u001b[0m\u001b[0mself\u001b[0m\u001b[0;34m.\u001b[0m\u001b[0m_driver\u001b[0m\u001b[0;34m)\u001b[0m\u001b[0;34m\u001b[0m\u001b[0;34m\u001b[0m\u001b[0m\n\u001b[0m\u001b[1;32m     93\u001b[0m                 \u001b[0;32mif\u001b[0m \u001b[0mvalue\u001b[0m\u001b[0;34m:\u001b[0m\u001b[0;34m\u001b[0m\u001b[0;34m\u001b[0m\u001b[0m\n\u001b[1;32m     94\u001b[0m                     \u001b[0;32mreturn\u001b[0m \u001b[0mvalue\u001b[0m\u001b[0;34m\u001b[0m\u001b[0;34m\u001b[0m\u001b[0m\n",
      "\u001b[0;32m~/Library/Python/3.9/lib/python/site-packages/selenium/webdriver/support/expected_conditions.py\u001b[0m in \u001b[0;36m_predicate\u001b[0;34m(driver)\u001b[0m\n\u001b[1;32m     78\u001b[0m \u001b[0;34m\u001b[0m\u001b[0m\n\u001b[1;32m     79\u001b[0m     \u001b[0;32mdef\u001b[0m \u001b[0m_predicate\u001b[0m\u001b[0;34m(\u001b[0m\u001b[0mdriver\u001b[0m\u001b[0;34m:\u001b[0m \u001b[0mWebDriver\u001b[0m\u001b[0;34m)\u001b[0m\u001b[0;34m:\u001b[0m\u001b[0;34m\u001b[0m\u001b[0;34m\u001b[0m\u001b[0m\n\u001b[0;32m---> 80\u001b[0;31m         \u001b[0;32mreturn\u001b[0m \u001b[0mdriver\u001b[0m\u001b[0;34m.\u001b[0m\u001b[0mfind_element\u001b[0m\u001b[0;34m(\u001b[0m\u001b[0;34m*\u001b[0m\u001b[0mlocator\u001b[0m\u001b[0;34m)\u001b[0m\u001b[0;34m\u001b[0m\u001b[0;34m\u001b[0m\u001b[0m\n\u001b[0m\u001b[1;32m     81\u001b[0m \u001b[0;34m\u001b[0m\u001b[0m\n\u001b[1;32m     82\u001b[0m     \u001b[0;32mreturn\u001b[0m \u001b[0m_predicate\u001b[0m\u001b[0;34m\u001b[0m\u001b[0;34m\u001b[0m\u001b[0m\n",
      "\u001b[0;32m~/Library/Python/3.9/lib/python/site-packages/selenium/webdriver/remote/webdriver.py\u001b[0m in \u001b[0;36mfind_element\u001b[0;34m(self, by, value)\u001b[0m\n\u001b[1;32m    739\u001b[0m             \u001b[0mvalue\u001b[0m \u001b[0;34m=\u001b[0m \u001b[0;34mf'[name=\"{value}\"]'\u001b[0m\u001b[0;34m\u001b[0m\u001b[0;34m\u001b[0m\u001b[0m\n\u001b[1;32m    740\u001b[0m \u001b[0;34m\u001b[0m\u001b[0m\n\u001b[0;32m--> 741\u001b[0;31m         \u001b[0;32mreturn\u001b[0m \u001b[0mself\u001b[0m\u001b[0;34m.\u001b[0m\u001b[0mexecute\u001b[0m\u001b[0;34m(\u001b[0m\u001b[0mCommand\u001b[0m\u001b[0;34m.\u001b[0m\u001b[0mFIND_ELEMENT\u001b[0m\u001b[0;34m,\u001b[0m \u001b[0;34m{\u001b[0m\u001b[0;34m\"using\"\u001b[0m\u001b[0;34m:\u001b[0m \u001b[0mby\u001b[0m\u001b[0;34m,\u001b[0m \u001b[0;34m\"value\"\u001b[0m\u001b[0;34m:\u001b[0m \u001b[0mvalue\u001b[0m\u001b[0;34m}\u001b[0m\u001b[0;34m)\u001b[0m\u001b[0;34m[\u001b[0m\u001b[0;34m\"value\"\u001b[0m\u001b[0;34m]\u001b[0m\u001b[0;34m\u001b[0m\u001b[0;34m\u001b[0m\u001b[0m\n\u001b[0m\u001b[1;32m    742\u001b[0m \u001b[0;34m\u001b[0m\u001b[0m\n\u001b[1;32m    743\u001b[0m     \u001b[0;32mdef\u001b[0m \u001b[0mfind_elements\u001b[0m\u001b[0;34m(\u001b[0m\u001b[0mself\u001b[0m\u001b[0;34m,\u001b[0m \u001b[0mby\u001b[0m\u001b[0;34m=\u001b[0m\u001b[0mBy\u001b[0m\u001b[0;34m.\u001b[0m\u001b[0mID\u001b[0m\u001b[0;34m,\u001b[0m \u001b[0mvalue\u001b[0m\u001b[0;34m:\u001b[0m \u001b[0mOptional\u001b[0m\u001b[0;34m[\u001b[0m\u001b[0mstr\u001b[0m\u001b[0;34m]\u001b[0m \u001b[0;34m=\u001b[0m \u001b[0;32mNone\u001b[0m\u001b[0;34m)\u001b[0m \u001b[0;34m->\u001b[0m \u001b[0mList\u001b[0m\u001b[0;34m[\u001b[0m\u001b[0mWebElement\u001b[0m\u001b[0;34m]\u001b[0m\u001b[0;34m:\u001b[0m\u001b[0;34m\u001b[0m\u001b[0;34m\u001b[0m\u001b[0m\n",
      "\u001b[0;32m~/Library/Python/3.9/lib/python/site-packages/selenium/webdriver/remote/webdriver.py\u001b[0m in \u001b[0;36mexecute\u001b[0;34m(self, driver_command, params)\u001b[0m\n\u001b[1;32m    345\u001b[0m         \u001b[0mresponse\u001b[0m \u001b[0;34m=\u001b[0m \u001b[0mself\u001b[0m\u001b[0;34m.\u001b[0m\u001b[0mcommand_executor\u001b[0m\u001b[0;34m.\u001b[0m\u001b[0mexecute\u001b[0m\u001b[0;34m(\u001b[0m\u001b[0mdriver_command\u001b[0m\u001b[0;34m,\u001b[0m \u001b[0mparams\u001b[0m\u001b[0;34m)\u001b[0m\u001b[0;34m\u001b[0m\u001b[0;34m\u001b[0m\u001b[0m\n\u001b[1;32m    346\u001b[0m         \u001b[0;32mif\u001b[0m \u001b[0mresponse\u001b[0m\u001b[0;34m:\u001b[0m\u001b[0;34m\u001b[0m\u001b[0;34m\u001b[0m\u001b[0m\n\u001b[0;32m--> 347\u001b[0;31m             \u001b[0mself\u001b[0m\u001b[0;34m.\u001b[0m\u001b[0merror_handler\u001b[0m\u001b[0;34m.\u001b[0m\u001b[0mcheck_response\u001b[0m\u001b[0;34m(\u001b[0m\u001b[0mresponse\u001b[0m\u001b[0;34m)\u001b[0m\u001b[0;34m\u001b[0m\u001b[0;34m\u001b[0m\u001b[0m\n\u001b[0m\u001b[1;32m    348\u001b[0m             \u001b[0mresponse\u001b[0m\u001b[0;34m[\u001b[0m\u001b[0;34m\"value\"\u001b[0m\u001b[0;34m]\u001b[0m \u001b[0;34m=\u001b[0m \u001b[0mself\u001b[0m\u001b[0;34m.\u001b[0m\u001b[0m_unwrap_value\u001b[0m\u001b[0;34m(\u001b[0m\u001b[0mresponse\u001b[0m\u001b[0;34m.\u001b[0m\u001b[0mget\u001b[0m\u001b[0;34m(\u001b[0m\u001b[0;34m\"value\"\u001b[0m\u001b[0;34m,\u001b[0m \u001b[0;32mNone\u001b[0m\u001b[0;34m)\u001b[0m\u001b[0;34m)\u001b[0m\u001b[0;34m\u001b[0m\u001b[0;34m\u001b[0m\u001b[0m\n\u001b[1;32m    349\u001b[0m             \u001b[0;32mreturn\u001b[0m \u001b[0mresponse\u001b[0m\u001b[0;34m\u001b[0m\u001b[0;34m\u001b[0m\u001b[0m\n",
      "\u001b[0;32m~/Library/Python/3.9/lib/python/site-packages/selenium/webdriver/remote/errorhandler.py\u001b[0m in \u001b[0;36mcheck_response\u001b[0;34m(self, response)\u001b[0m\n\u001b[1;32m    226\u001b[0m             \u001b[0;32melif\u001b[0m \u001b[0;34m\"alert\"\u001b[0m \u001b[0;32min\u001b[0m \u001b[0mvalue\u001b[0m\u001b[0;34m:\u001b[0m\u001b[0;34m\u001b[0m\u001b[0;34m\u001b[0m\u001b[0m\n\u001b[1;32m    227\u001b[0m                 \u001b[0malert_text\u001b[0m \u001b[0;34m=\u001b[0m \u001b[0mvalue\u001b[0m\u001b[0;34m[\u001b[0m\u001b[0;34m\"alert\"\u001b[0m\u001b[0;34m]\u001b[0m\u001b[0;34m.\u001b[0m\u001b[0mget\u001b[0m\u001b[0;34m(\u001b[0m\u001b[0;34m\"text\"\u001b[0m\u001b[0;34m)\u001b[0m\u001b[0;34m\u001b[0m\u001b[0;34m\u001b[0m\u001b[0m\n\u001b[0;32m--> 228\u001b[0;31m             \u001b[0;32mraise\u001b[0m \u001b[0mexception_class\u001b[0m\u001b[0;34m(\u001b[0m\u001b[0mmessage\u001b[0m\u001b[0;34m,\u001b[0m \u001b[0mscreen\u001b[0m\u001b[0;34m,\u001b[0m \u001b[0mstacktrace\u001b[0m\u001b[0;34m,\u001b[0m \u001b[0malert_text\u001b[0m\u001b[0;34m)\u001b[0m  \u001b[0;31m# type: ignore[call-arg]  # mypy is not smart enough here\u001b[0m\u001b[0;34m\u001b[0m\u001b[0;34m\u001b[0m\u001b[0m\n\u001b[0m\u001b[1;32m    229\u001b[0m         \u001b[0;32mraise\u001b[0m \u001b[0mexception_class\u001b[0m\u001b[0;34m(\u001b[0m\u001b[0mmessage\u001b[0m\u001b[0;34m,\u001b[0m \u001b[0mscreen\u001b[0m\u001b[0;34m,\u001b[0m \u001b[0mstacktrace\u001b[0m\u001b[0;34m)\u001b[0m\u001b[0;34m\u001b[0m\u001b[0;34m\u001b[0m\u001b[0m\n",
      "\u001b[0;31mUnexpectedAlertPresentException\u001b[0m: Alert Text: {Alert text : \nMessage: unexpected alert open: {Alert text : }\n  (Session info: chrome=119.0.6045.159)\nStacktrace:\n0   chromedriver                        0x00000001098d6d28 chromedriver + 4795688\n1   chromedriver                        0x00000001098ce2b3 chromedriver + 4760243\n2   chromedriver                        0x00000001094a788d chromedriver + 407693\n3   chromedriver                        0x000000010953a019 chromedriver + 1007641\n4   chromedriver                        0x000000010951da73 chromedriver + 891507\n5   chromedriver                        0x00000001094e8143 chromedriver + 672067\n6   chromedriver                        0x00000001094e931e chromedriver + 676638\n7   chromedriver                        0x0000000109897795 chromedriver + 4536213\n8   chromedriver                        0x000000010989c853 chromedriver + 4556883\n9   chromedriver                        0x000000010987d001 chromedriver + 4427777\n10  chromedriver                        0x000000010989d59d chromedriver + 4560285\n11  chromedriver                        0x000000010986e48c chromedriver + 4367500\n12  chromedriver                        0x00000001098bd0e8 chromedriver + 4690152\n13  chromedriver                        0x00000001098bd29e chromedriver + 4690590\n14  chromedriver                        0x00000001098cdeee chromedriver + 4759278\n15  libsystem_pthread.dylib             0x00007ff817355202 _pthread_start + 99\n16  libsystem_pthread.dylib             0x00007ff817350bab thread_start + 15\n"
     ]
    }
   ],
   "source": [
    "# replace token with your token\n",
    "token = \"cc2f522441ace86a2bbe4fa85e17f3a488fb181d1538da19\"\n",
    "test_rise(token, notebook_github_url, local_notebook_name)"
   ]
  },
  {
   "cell_type": "markdown",
   "id": "6870d58a",
   "metadata": {},
   "source": [
    "## Test 3: Create slides and test RISE"
   ]
  },
  {
   "cell_type": "code",
   "execution_count": 18,
   "id": "6edc9c02",
   "metadata": {},
   "outputs": [],
   "source": [
    "import nbformat\n",
    "from nbformat.v4 import new_notebook, new_markdown_cell\n",
    "\n",
    "# Define the cells with their content and metadata\n",
    "cells = [\n",
    "    new_markdown_cell(\"# Example Slidedeck\", metadata={\"slideshow\": {\"slide_type\": \"skip\"}}),\n",
    "    new_markdown_cell(\"<hr>\", metadata={\"slideshow\": {\"slide_type\": \"skip\"}}),\n",
    "    new_markdown_cell(\"**0) Blank**\", metadata={\"slideshow\": {\"slide_type\": \"skip\"}}),\n",
    "    new_markdown_cell(\"**BODY**\", metadata={\"slideshow\": {\"slide_type\": \"skip\"}}),\n",
    "    new_markdown_cell(\"We will try to illustrate single-column slides like this one.\", metadata={\"slideshow\": {\"slide_type\": \"slide\"}}),\n",
    "    new_markdown_cell(\"<hr>\", metadata={\"slideshow\": {\"slide_type\": \"skip\"}}),  \n",
    "    new_markdown_cell(source=\"**1) Image Only**\", metadata={\"slideshow\": {\"slide_type\": \"skip\"}}),\n",
    "    new_markdown_cell(source=\"**BODY**\", metadata={\"slideshow\": {\"slide_type\": \"skip\"}}),\n",
    "    new_markdown_cell(source='<img src=\"../../images/sample-image.jpg\" width = \"100%\">', \n",
    "                      metadata={\"slideshow\": {\"slide_type\": \"slide\"}}),\n",
    "    new_markdown_cell(source=\"**NOTE**\", metadata={\"slideshow\": {\"slide_type\": \"skip\"}}),\n",
    "    new_markdown_cell(source=\"- Using % of slide to scale the image\", \n",
    "                      metadata={\"slideshow\": {\"slide_type\": \"notes\"}}),\n",
    "    new_markdown_cell(source=\"- - - \", metadata={\"slideshow\": {\"slide_type\": \"skip\"}}),  \n",
    "    new_markdown_cell(\"**7)Title Slide**\", metadata={\"slideshow\": {\"slide_type\": \"skip\"}}),\n",
    "    new_markdown_cell(\"# Title\", metadata={\"slideshow\": {\"slide_type\": \"slide\"}}),\n",
    "    new_markdown_cell(\"**NOTE**\", metadata={\"slideshow\": {\"slide_type\": \"skip\"}}),\n",
    "    new_markdown_cell(\"- a Note that will display in the notes view\", metadata={\"slideshow\": {\"slide_type\": \"notes\"}}),\n",
    "    new_markdown_cell(\"This is the end of the document.\", metadata={\"slideshow\": {\"slide_type\": \"skip\"}, \"tags\": [\"remove-cell\"]}),\n",
    "]"
   ]
  },
  {
   "cell_type": "code",
   "execution_count": 19,
   "id": "1d758b96",
   "metadata": {},
   "outputs": [],
   "source": [
    "def test_rise_slide(token):\n",
    "    driver = setup_driver()\n",
    "    url = f\"http://127.0.0.1:8888/lab?token={token}\"\n",
    "\n",
    "    try:\n",
    "        driver.get(url)\n",
    "        WebDriverWait(driver, 45)\n",
    "        take_screenshot(driver, 'main_screenshot.png')\n",
    "\n",
    "        # Check if on the Launcher page\n",
    "        try:\n",
    "            driver.find_element(By.XPATH, \"//div[contains(@class, 'lm-TabBar-tabLabel') and contains(@class, 'p-TabBar-tabLabel') and text()='Launcher']\")\n",
    "            print(\"On the Launcher page\")\n",
    "            find_element_and_click(driver, '//div[@data-category=\"Notebook\"]')\n",
    "        except NoSuchElementException:\n",
    "            print(\"Not on the Launcher page\")\n",
    "\n",
    "        # Create a new notebook object\n",
    "        nb = new_notebook()\n",
    "        # Add cells to the notebook\n",
    "        nb['cells'] = cells\n",
    "\n",
    "        # Write the notebook to a file\n",
    "        with open('example_notebook.ipynb', 'w', encoding='utf-8') as f:\n",
    "            nbformat.write(nb, f)\n",
    "\n",
    "        print(\"Notebook created successfully.\")\n",
    "\n",
    "        take_screenshot(driver, 'new_nb_screenshot.png')\n",
    "\n",
    "        find_element_and_click(driver, '//button[@data-command=\"RISE:preview\"]')\n",
    "        take_screenshot(driver, 'rise_screenshot.png')\n",
    "\n",
    "        toolbar = WebDriverWait(driver, 20).until(EC.presence_of_element_located((By.XPATH, \"//div[@class='lm-Widget jp-Toolbar' and @role='navigation']\")))\n",
    "        if toolbar:\n",
    "            fullscreen_button = toolbar.find_element(By.XPATH, \".//button[@title='Open the slideshow in full screen']\")\n",
    "            fullscreen_button.click()\n",
    "            is_fullscreen = driver.execute_script(\"return document.fullscreenElement !== null\")\n",
    "            print(\"Fullscreen button is functioning: \", is_fullscreen)\n",
    "        else:\n",
    "            print(\"Toolbar not found\")\n",
    "\n",
    "        print(\"RISE Extension is working!\")\n",
    "\n",
    "    except Exception as e:\n",
    "        print(f\"An error occurred during test: {e}\")\n",
    "    finally:\n",
    "        # Clean up\n",
    "        driver.switch_to.window(driver.window_handles[0])\n",
    "        driver.refresh()\n",
    "        driver.quit()"
   ]
  },
  {
   "cell_type": "code",
   "execution_count": 20,
   "id": "0eac59ad",
   "metadata": {},
   "outputs": [
    {
     "name": "stdout",
     "output_type": "stream",
     "text": [
      "Saved screenshot: main_screenshot.png\n",
      "Not on the Launcher page\n",
      "Notebook created successfully.\n",
      "Saved screenshot: new_nb_screenshot.png\n",
      "Saved screenshot: rise_screenshot.png\n",
      "Fullscreen button is functioning:  False\n",
      "RISE Extension is working!\n"
     ]
    }
   ],
   "source": [
    "# replace token with your token\n",
    "token = \"cc2f522441ace86a2bbe4fa85e17f3a488fb181d1538da19\"\n",
    "test_rise_slide(token)"
   ]
  },
  {
   "cell_type": "markdown",
   "id": "db3b2620",
   "metadata": {},
   "source": []
  }
 ],
 "metadata": {
  "kernelspec": {
   "display_name": "Python 3 (ipykernel)",
   "language": "python",
   "name": "python3"
  },
  "language_info": {
   "codemirror_mode": {
    "name": "ipython",
    "version": 3
   },
   "file_extension": ".py",
   "mimetype": "text/x-python",
   "name": "python",
   "nbconvert_exporter": "python",
   "pygments_lexer": "ipython3",
   "version": "3.9.1"
  }
 },
 "nbformat": 4,
 "nbformat_minor": 5
}
