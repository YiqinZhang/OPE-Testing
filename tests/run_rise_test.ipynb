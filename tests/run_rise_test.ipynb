{
 "cells": [
  {
   "cell_type": "code",
   "execution_count": 22,
   "id": "6f59621a-9a8d-4a28-9e56-01d2e4f8caf4",
   "metadata": {
    "tags": []
   },
   "outputs": [],
   "source": [
    "import platform\n",
    "if platform.system() in ['Windows', 'Darwin']:\n",
    "    !pip install selenium > NUL\n",
    "    !pip install selenium  > NUL\n",
    "    !pip install webdriver_manager  > NUL\n",
    "    !pip install docker  > NUL\n",
    "    !pip install requests  > NUL\n",
    "elif platform.system() == 'Linux':\n",
    "    !pip install selenium  > /dev/null\n",
    "    !pip install webdriver_manager  > /dev/null\n",
    "    !pip install docker  > /dev/null\n",
    "    !pip install requests  > /dev/null"
   ]
  },
  {
   "cell_type": "markdown",
   "id": "75d70d96-c2d1-4c31-8a8c-8e009dc720fe",
   "metadata": {
    "jp-MarkdownHeadingCollapsed": true,
    "tags": []
   },
   "source": [
    "##  Get the container ID"
   ]
  },
  {
   "cell_type": "code",
   "execution_count": 23,
   "id": "0f005ab3-a95e-40c1-a19d-02dc4ef60572",
   "metadata": {
    "tags": []
   },
   "outputs": [
    {
     "name": "stdout",
     "output_type": "stream",
     "text": [
      "Container ID: \n"
     ]
    },
    {
     "name": "stderr",
     "output_type": "stream",
     "text": [
      "Cannot connect to the Docker daemon at unix:///Users/zhangyiqin/.docker/run/docker.sock. Is the docker daemon running?\n"
     ]
    }
   ],
   "source": [
    "import subprocess\n",
    "\n",
    "# Get the first container ID\n",
    "#get_cont_id_cmd = \"docker ps -q | head -n 1\"\n",
    "get_cont_id_cmd = \"/usr/local/bin/docker ps -q | head -n 1\"\n",
    "cont_id = subprocess.check_output(get_cont_id_cmd, shell=True).decode('utf-8').strip()\n",
    "\n",
    "print(\"Container ID:\", cont_id)"
   ]
  },
  {
   "cell_type": "markdown",
   "id": "9bee7772-db47-4a68-9840-2ab991a6683a",
   "metadata": {},
   "source": [
    "## Get the Jupyter lab token"
   ]
  },
  {
   "cell_type": "code",
   "execution_count": 24,
   "id": "c7f07960-558b-4758-a0a3-b81991416b36",
   "metadata": {
    "tags": []
   },
   "outputs": [
    {
     "name": "stdout",
     "output_type": "stream",
     "text": [
      "Jupyter Lab Token: \n"
     ]
    }
   ],
   "source": [
    "get_token_cmd = f\"docker exec {cont_id} jupyter lab list 2>&1 | grep -o 'token=[^ ]*' | cut -d= -f2\"\n",
    "token = subprocess.check_output(get_token_cmd, shell=True).decode('utf-8').strip()\n",
    "\n",
    "print(\"Jupyter Lab Token:\", token)"
   ]
  },
  {
   "cell_type": "markdown",
   "id": "b560700a-fbe7-4806-b003-5bb6b93c3f46",
   "metadata": {
    "tags": []
   },
   "source": [
    "##  Run the rise_test.py "
   ]
  },
  {
   "cell_type": "code",
   "execution_count": 25,
   "id": "bf2a6f1b-9c82-4c20-b96b-fad85f527dc1",
   "metadata": {},
   "outputs": [
    {
     "name": "stdout",
     "output_type": "stream",
     "text": [
      "Token not found. Check if Jupyter Lab is running in the container.\n"
     ]
    }
   ],
   "source": [
    "# Run the rise_test.py with the token\n",
    "if token:\n",
    "    run_script_cmd = f\"python3 rise_test.py {token}\"\n",
    "    script_output = subprocess.check_output(run_script_cmd, shell=True).decode('utf-8')\n",
    "    print(\"Script Output:\\n\", script_output)    \n",
    "else:\n",
    "    print(\"Token not found. Check if Jupyter Lab is running in the container.\")"
   ]
  },
  {
   "cell_type": "markdown",
   "id": "bb462014-f9ec-402f-83ab-8f920aac8afb",
   "metadata": {},
   "source": [
    "## Test the RISE"
   ]
  },
  {
   "cell_type": "code",
   "execution_count": 26,
   "id": "a426cc0c-7d86-4764-9721-14da8229b26b",
   "metadata": {},
   "outputs": [],
   "source": [
    "import requests\n",
    "import json\n",
    "from selenium import webdriver\n",
    "from selenium.webdriver.chrome.service import Service as ChromiumService\n",
    "from webdriver_manager.chrome import ChromeDriverManager\n",
    "from selenium.webdriver.chrome.options import Options\n",
    "from selenium.webdriver.common.by import By\n",
    "from selenium.common.exceptions import NoSuchElementException, WebDriverException\n",
    "from selenium.webdriver.support.ui import WebDriverWait\n",
    "from selenium.webdriver.support import expected_conditions as EC\n",
    "from selenium.common.exceptions import TimeoutException\n",
    "from selenium.webdriver import ActionChains\n",
    "from selenium.webdriver.common.keys import Keys\n",
    "import platform\n"
   ]
  },
  {
   "cell_type": "code",
   "execution_count": 27,
   "id": "ae79b66c",
   "metadata": {},
   "outputs": [],
   "source": [
    "# replace token with your token\n",
    "token = \"b9bf17ff0760ec159a01174e071b66952967ec41727d1c73\""
   ]
  },
  {
   "cell_type": "code",
   "execution_count": 28,
   "id": "0feb7e29-3fcf-4820-852f-376894746e84",
   "metadata": {},
   "outputs": [],
   "source": [
    "def setup_driver():\n",
    "    chrome_options = Options()\n",
    "    if platform.system() in ['Windows', 'Darwin']:\n",
    "        chrome_options.add_experimental_option('detach', True)\n",
    "    elif platform.system() == 'Linux':\n",
    "        chrome_options.add_argument('--headless')\n",
    "    else:\n",
    "        raise Exception(\"Unknown OS\")\n",
    "    return webdriver.Chrome(service=ChromiumService(ChromeDriverManager().install()), options=chrome_options)"
   ]
  },
  {
   "cell_type": "code",
   "execution_count": 29,
   "id": "94778efa",
   "metadata": {},
   "outputs": [],
   "source": [
    "base_url = \"http://localhost:8888\"  # Base URL of your JupyterLab server\n",
    "image_path = \"/lab/images/sample-image.jpg\"  # Extracted relative path\n",
    "full_image_url = base_url + image_path\n",
    "image_url=\"https://raw.githubusercontent.com/YiqinZhang/ope-project/e9ea65fa2317b3c39d70984875ce2885dde8e599/content/images/sample-image.jpg\""
   ]
  },
  {
   "cell_type": "code",
   "execution_count": 30,
   "id": "34066862",
   "metadata": {},
   "outputs": [],
   "source": [
    "def create_jupyter_notebook_from_github(github_url, local_file_name):\n",
    "    try:\n",
    "        response = requests.get(github_url)\n",
    "        response.raise_for_status()  # Raise an error for bad status codes\n",
    "        notebook_content = response.json()\n",
    "        with open(local_file_name, 'w', encoding='utf-8') as notebook_file:\n",
    "            json.dump(notebook_content, notebook_file)\n",
    "        print(f\"Notebook created: {local_file_name}\")\n",
    "    except requests.RequestException as e:\n",
    "        print(f\"Failed to download the notebook: {e}\")"
   ]
  },
  {
   "cell_type": "code",
   "execution_count": 31,
   "id": "70bb6662-95cd-4d0e-949c-ebf7292e2b6b",
   "metadata": {},
   "outputs": [
    {
     "name": "stdout",
     "output_type": "stream",
     "text": [
      "Image downloaded successfully: images/sample-image.jpg\n"
     ]
    }
   ],
   "source": [
    "import os\n",
    "def download_image(image_url, local_img_path):\n",
    "    response = requests.get(image_url, stream=True)\n",
    "\n",
    "    if response.status_code == 200:\n",
    "        os.makedirs(os.path.dirname(local_img_path), exist_ok=True)\n",
    "        with open(local_img_path, 'wb') as f:\n",
    "            for chunk in response.iter_content(chunk_size=128):\n",
    "                f.write(chunk)\n",
    "        print(f\"Image downloaded successfully: {local_img_path}\")\n",
    "    else:\n",
    "        print(f\"Failed to download the image: {image_url}\")\n",
    "\n",
    "image_url = 'https://raw.githubusercontent.com/YiqinZhang/ope-project/e9ea65fa2317b3c39d70984875ce2885dde8e599/content/images/sample-image.jpg'\n",
    "download_image(image_url, 'images/sample-image.jpg')\n"
   ]
  },
  {
   "cell_type": "code",
   "execution_count": 32,
   "id": "4865d8cb-c253-4300-b663-5a3ad5330ca2",
   "metadata": {
    "tags": []
   },
   "outputs": [
    {
     "name": "stdout",
     "output_type": "stream",
     "text": [
      "Notebook created: downloaded_notebook.ipynb\n"
     ]
    }
   ],
   "source": [
    "notebook_github_url = \"https://raw.githubusercontent.com/OPEFFORT/ope-project/main/content/test_book/02_slides_template/layout_example.ipynb\"\n",
    "local_notebook_name = \"downloaded_notebook.ipynb\"\n",
    "create_jupyter_notebook_from_github(notebook_github_url, local_notebook_name)"
   ]
  },
  {
   "cell_type": "code",
   "execution_count": 33,
   "id": "2dabb5fa",
   "metadata": {},
   "outputs": [],
   "source": [
    "def open_file_in_jupyterlab(url, file_name, driver):\n",
    "    try:\n",
    "        driver.get(url)\n",
    "        # Wait for the file browser to be available\n",
    "        WebDriverWait(driver, 20).until(\n",
    "            EC.presence_of_element_located((By.CSS_SELECTOR, \".jp-DirListing-content\"))\n",
    "        )\n",
    "\n",
    "        # Find the file in the file browser\n",
    "        file_element = WebDriverWait(driver, 30).until(\n",
    "            EC.element_to_be_clickable((By.XPATH, f\"//span[contains(text(), '{file_name}') and @class='jp-DirListing-itemText']\"))\n",
    "        )\n",
    "\n",
    "        # Double click on the file to open it\n",
    "        driver.execute_script(\"\"\"\n",
    "            var evt = new MouseEvent('dblclick', {\n",
    "                bubbles: true,\n",
    "                cancelable: true,\n",
    "                view: window\n",
    "            });\n",
    "            arguments[0].dispatchEvent(evt);\n",
    "        \"\"\", file_element)\n",
    "\n",
    "        print(f\"File '{file_name}' opened successfully.\")\n",
    "    except TimeoutException:\n",
    "        print(f\"Failed to open file '{file_name}'. File not found or JupyterLab did not load properly.\")"
   ]
  },
  {
   "cell_type": "code",
   "execution_count": 34,
   "id": "11a7c43b-d1ea-4869-b777-bd8a4ccba3f0",
   "metadata": {},
   "outputs": [],
   "source": [
    "def take_screenshot(driver, filename):\n",
    "    try:\n",
    "        driver.save_screenshot(filename)\n",
    "        print(f\"Saved screenshot: {filename}\")\n",
    "    except Exception as e:\n",
    "        print(f\"Error taking screenshot: {e}\")\n"
   ]
  },
  {
   "cell_type": "code",
   "execution_count": 35,
   "id": "c5c6f0ac-9876-4872-a2a6-e933be5cd2cb",
   "metadata": {},
   "outputs": [],
   "source": [
    "def find_element_and_click(driver, xpath):\n",
    "    try:\n",
    "        element = WebDriverWait(driver, 15).until(\n",
    "            EC.element_to_be_clickable((By.XPATH, xpath))\n",
    "        )\n",
    "        # element = driver.find_element(By.XPATH, xpath)\n",
    "        element.click()\n",
    "        return element\n",
    "    except Exception as e:\n",
    "        print(f\"Error finding/clicking element: {e}\")\n"
   ]
  },
  {
   "cell_type": "markdown",
   "id": "2e13ad58",
   "metadata": {},
   "source": [
    "## Test1: Refactor the Previous Test for Suitability with the Launcher"
   ]
  },
  {
   "cell_type": "code",
   "execution_count": 36,
   "id": "6d3be6da",
   "metadata": {},
   "outputs": [],
   "source": [
    "def test_rise_extension(token):\n",
    "    driver = setup_driver()\n",
    "    url = f\"http://127.0.0.1:8888/lab?token={token}\"\n",
    "    try:\n",
    "        driver.get(url)\n",
    "        driver.implicitly_wait(45)\n",
    "        # Main actions and interactions\n",
    "        take_screenshot(driver, 'main_screenshot.png')\n",
    "\n",
    "        find_element_and_click(driver, '//div[@data-category=\"Notebook\"]')\n",
    "        take_screenshot(driver, 'new_nb_screenshot.png')\n",
    "\n",
    "        find_element_and_click(driver, '//button[@data-command=\"RISE:preview\"]')\n",
    "        take_screenshot(driver, 'rise_screenshot.png')\n",
    "\n",
    "        toolbar = WebDriverWait(driver, 20).until(EC.presence_of_element_located\n",
    "                 ((By.XPATH, \"//div[@class='lm-Widget jp-Toolbar' and @role='navigation']\")))\n",
    "        if toolbar:\n",
    "            fullscreen_button = toolbar.find_element(By.XPATH, \".//button[@title='Open the slideshow in full screen']\")\n",
    "            fullscreen_button.click()\n",
    "            is_fullscreen = driver.execute_script(\"return document.fullscreenElement !== null\")\n",
    "            print(\"Fullscreen button is functioning: \", is_fullscreen)\n",
    "        else:\n",
    "            print(\"Toolbar not found\")\n",
    "\n",
    "        print(\"RISE Extension is working!\")\n",
    "    except Exception as e:\n",
    "        print(f\"An error occurred during test: {e}\")\n",
    "    finally:\n",
    "        # Clean up\n",
    "        driver.switch_to.window(driver.window_handles[0])\n",
    "        driver.refresh()\n",
    "        WebDriverWait(driver, 90)\n",
    "        driver.quit()"
   ]
  },
  {
   "cell_type": "code",
   "execution_count": 37,
   "id": "f0231948",
   "metadata": {},
   "outputs": [
    {
     "name": "stdout",
     "output_type": "stream",
     "text": [
      "Saved screenshot: main_screenshot.png\n",
      "Error finding/clicking element: Message: \n",
      "Stacktrace:\n",
      "0   chromedriver                        0x000000010a94bd28 chromedriver + 4795688\n",
      "1   chromedriver                        0x000000010a9432b3 chromedriver + 4760243\n",
      "2   chromedriver                        0x000000010a51c88d chromedriver + 407693\n",
      "3   chromedriver                        0x000000010a56b3d9 chromedriver + 730073\n",
      "4   chromedriver                        0x000000010a56b591 chromedriver + 730513\n",
      "5   chromedriver                        0x000000010a5b17e4 chromedriver + 1017828\n",
      "6   chromedriver                        0x000000010a592ccd chromedriver + 892109\n",
      "7   chromedriver                        0x000000010a5aeb2b chromedriver + 1006379\n",
      "8   chromedriver                        0x000000010a592a73 chromedriver + 891507\n",
      "9   chromedriver                        0x000000010a55d143 chromedriver + 672067\n",
      "10  chromedriver                        0x000000010a55e31e chromedriver + 676638\n",
      "11  chromedriver                        0x000000010a90c795 chromedriver + 4536213\n",
      "12  chromedriver                        0x000000010a911853 chromedriver + 4556883\n",
      "13  chromedriver                        0x000000010a8f2001 chromedriver + 4427777\n",
      "14  chromedriver                        0x000000010a91259d chromedriver + 4560285\n",
      "15  chromedriver                        0x000000010a8e348c chromedriver + 4367500\n",
      "16  chromedriver                        0x000000010a9320e8 chromedriver + 4690152\n",
      "17  chromedriver                        0x000000010a93229e chromedriver + 4690590\n",
      "18  chromedriver                        0x000000010a942eee chromedriver + 4759278\n",
      "19  libsystem_pthread.dylib             0x00007ff80d038202 _pthread_start + 99\n",
      "20  libsystem_pthread.dylib             0x00007ff80d033bab thread_start + 15\n",
      "\n",
      "Saved screenshot: new_nb_screenshot.png\n",
      "Error finding/clicking element: Message: \n",
      "\n",
      "Saved screenshot: rise_screenshot.png\n",
      "An error occurred during test: Message: \n",
      "Stacktrace:\n",
      "0   chromedriver                        0x000000010a94bd28 chromedriver + 4795688\n",
      "1   chromedriver                        0x000000010a9432b3 chromedriver + 4760243\n",
      "2   chromedriver                        0x000000010a51c88d chromedriver + 407693\n",
      "3   chromedriver                        0x000000010a56b3d9 chromedriver + 730073\n",
      "4   chromedriver                        0x000000010a56b591 chromedriver + 730513\n",
      "5   chromedriver                        0x000000010a5b17e4 chromedriver + 1017828\n",
      "6   chromedriver                        0x000000010a592ccd chromedriver + 892109\n",
      "7   chromedriver                        0x000000010a5aeb2b chromedriver + 1006379\n",
      "8   chromedriver                        0x000000010a592a73 chromedriver + 891507\n",
      "9   chromedriver                        0x000000010a55d143 chromedriver + 672067\n",
      "10  chromedriver                        0x000000010a55e31e chromedriver + 676638\n",
      "11  chromedriver                        0x000000010a90c795 chromedriver + 4536213\n",
      "12  chromedriver                        0x000000010a911853 chromedriver + 4556883\n",
      "13  chromedriver                        0x000000010a8f2001 chromedriver + 4427777\n",
      "14  chromedriver                        0x000000010a91259d chromedriver + 4560285\n",
      "15  chromedriver                        0x000000010a8e348c chromedriver + 4367500\n",
      "16  chromedriver                        0x000000010a9320e8 chromedriver + 4690152\n",
      "17  chromedriver                        0x000000010a93229e chromedriver + 4690590\n",
      "18  chromedriver                        0x000000010a942eee chromedriver + 4759278\n",
      "19  libsystem_pthread.dylib             0x00007ff80d038202 _pthread_start + 99\n",
      "20  libsystem_pthread.dylib             0x00007ff80d033bab thread_start + 15\n",
      "\n"
     ]
    }
   ],
   "source": [
    "test_rise_extension(token)"
   ]
  },
  {
   "cell_type": "markdown",
   "id": "1cd3b8a0",
   "metadata": {},
   "source": [
    "## Test 2: Downloaded Testbook Slides for the RISE Test"
   ]
  },
  {
   "cell_type": "code",
   "execution_count": 38,
   "id": "7f962295-485a-4049-b5ba-c7dcb4b3ba28",
   "metadata": {},
   "outputs": [],
   "source": [
    "def test_rise(token, notebook_github_url, local_notebook_name):\n",
    "    driver = setup_driver()\n",
    "    create_jupyter_notebook_from_github(notebook_github_url, local_notebook_name)\n",
    "    open_file_in_jupyterlab(f\"http://127.0.0.1:8888/lab?token={token}\", local_notebook_name,driver)\n",
    "\n",
    "    try:\n",
    "        WebDriverWait(driver, 45)\n",
    "        take_screenshot(driver, 'main_screenshot.png')\n",
    "\n",
    "        # Correct the XPath and check if the \"Launcher\" tab is present\n",
    "        try:\n",
    "            # launcher_element = driver.find_element(By.XPATH, '//div[@data-category=\"Notebook\"]')\n",
    "            launcher_element = driver.find_element(By.XPATH, \n",
    "            \"//div[contains(@class, 'lm-TabBar-tabLabel') and contains(@class, 'p-TabBar-tabLabel') and text()='Launcher']\")\n",
    "            is_launcher_page = True\n",
    "        except NoSuchElementException:\n",
    "            is_launcher_page = False \n",
    "        \n",
    "        if is_launcher_page:\n",
    "            print(\"On the Launcher page\")\n",
    "            find_element_and_click(driver, '//div[@data-category=\"Notebook\"]')\n",
    "        else:\n",
    "            print(\"Not on the Launcher page, trying to open the notebook directly\")\n",
    "            open_file_in_jupyterlab(f\"http://127.0.0.1:8888/lab?token={token}\", local_notebook_name,driver)\n",
    "     \n",
    "        take_screenshot(driver, 'new_nb_screenshot.png')\n",
    "        \n",
    "        find_element_and_click(driver, '//button[@data-command=\"RISE:preview\"]')        \n",
    "        take_screenshot(driver, 'rise_screenshot.png')\n",
    "\n",
    "        fullscreen_button = find_element_and_click(driver, \".//button[@title='Open the slideshow in full screen']\")\n",
    "        is_fullscreen = driver.execute_script(\"return document.fullscreenElement !== null\")\n",
    "        print(\"Fullscreen button is functioning\")\n",
    "\n",
    "    finally:\n",
    "        # Clean up  \n",
    "        driver.switch_to.window(driver.window_handles[0])\n",
    "        driver.refresh()\n",
    "        WebDriverWait(driver, 90)\n",
    "        driver.quit()"
   ]
  },
  {
   "cell_type": "code",
   "execution_count": 39,
   "id": "c66c0bcd-d3ae-4257-b78d-68762904be3b",
   "metadata": {
    "tags": []
   },
   "outputs": [
    {
     "name": "stdout",
     "output_type": "stream",
     "text": [
      "Notebook created: downloaded_notebook.ipynb\n",
      "Failed to open file 'downloaded_notebook.ipynb'. File not found or JupyterLab did not load properly.\n",
      "Saved screenshot: main_screenshot.png\n",
      "Not on the Launcher page, trying to open the notebook directly\n",
      "Failed to open file 'downloaded_notebook.ipynb'. File not found or JupyterLab did not load properly.\n",
      "Saved screenshot: new_nb_screenshot.png\n",
      "Saved screenshot: rise_screenshot.png\n",
      "Fullscreen button is functioning\n"
     ]
    }
   ],
   "source": [
    "test_rise(token, notebook_github_url, local_notebook_name)"
   ]
  },
  {
   "cell_type": "markdown",
   "id": "6870d58a",
   "metadata": {},
   "source": [
    "## Test 3: Create slides and test RISE"
   ]
  },
  {
   "cell_type": "code",
   "execution_count": 40,
   "id": "6edc9c02",
   "metadata": {},
   "outputs": [],
   "source": [
    "import nbformat\n",
    "from nbformat.v4 import new_notebook, new_markdown_cell\n",
    "\n",
    "# Define the cells with their content and metadata\n",
    "cells = [\n",
    "    new_markdown_cell(\"# Example Slidedeck\", metadata={\"slideshow\": {\"slide_type\": \"skip\"}}),\n",
    "    new_markdown_cell(\"<hr>\", metadata={\"slideshow\": {\"slide_type\": \"skip\"}}),\n",
    "    new_markdown_cell(\"**0) Blank**\", metadata={\"slideshow\": {\"slide_type\": \"skip\"}}),\n",
    "    new_markdown_cell(\"**BODY**\", metadata={\"slideshow\": {\"slide_type\": \"skip\"}}),\n",
    "    new_markdown_cell(\"We will try to illustrate single-column slides like this one.\", metadata={\"slideshow\": {\"slide_type\": \"slide\"}}),\n",
    "    new_markdown_cell(\"<hr>\", metadata={\"slideshow\": {\"slide_type\": \"skip\"}}),  \n",
    "    new_markdown_cell(source=\"**1) Image Only**\", metadata={\"slideshow\": {\"slide_type\": \"skip\"}}),\n",
    "    new_markdown_cell(source=\"**BODY**\", metadata={\"slideshow\": {\"slide_type\": \"skip\"}}),\n",
    "    new_markdown_cell(source='<img src=\"../images/sample-image.jpg\" width = \"100%\">', \n",
    "                      metadata={\"slideshow\": {\"slide_type\": \"slide\"}}),\n",
    "    new_markdown_cell(source=\"**NOTE**\", metadata={\"slideshow\": {\"slide_type\": \"skip\"}}),\n",
    "    new_markdown_cell(source=\"- Using % of slide to scale the image\", \n",
    "                      metadata={\"slideshow\": {\"slide_type\": \"notes\"}}),\n",
    "    new_markdown_cell(source=\"- - - \", metadata={\"slideshow\": {\"slide_type\": \"skip\"}}),  \n",
    "    new_markdown_cell(\"**7)Title Slide**\", metadata={\"slideshow\": {\"slide_type\": \"skip\"}}),\n",
    "    new_markdown_cell(\"# Title\", metadata={\"slideshow\": {\"slide_type\": \"slide\"}}),\n",
    "    new_markdown_cell(\"**NOTE**\", metadata={\"slideshow\": {\"slide_type\": \"skip\"}}),\n",
    "    new_markdown_cell(\"- a Note that will display in the notes view\", metadata={\"slideshow\": {\"slide_type\": \"notes\"}}),\n",
    "    new_markdown_cell(\"This is the end of the document.\", metadata={\"slideshow\": {\"slide_type\": \"skip\"}, \"tags\": [\"remove-cell\"]}),\n",
    "]"
   ]
  },
  {
   "cell_type": "code",
   "execution_count": 41,
   "id": "1d758b96",
   "metadata": {},
   "outputs": [],
   "source": [
    "def test_rise_slide(token):\n",
    "    driver = setup_driver()\n",
    "    url = f\"http://127.0.0.1:8888/lab?token={token}\"\n",
    "    try:\n",
    "        driver.get(url)\n",
    "        WebDriverWait(driver, 45)\n",
    "        take_screenshot(driver, 'main_screenshot.png')\n",
    "        # Check if on the Launcher page\n",
    "        try:\n",
    "            driver.find_element(By.XPATH, \"//div[contains(@class, 'lm-TabBar-tabLabel') and contains(@class, 'p-TabBar-tabLabel') and text()='Launcher']\")\n",
    "            print(\"On the Launcher page\")\n",
    "            find_element_and_click(driver, '//div[@data-category=\"Notebook\"]')\n",
    "        except NoSuchElementException:\n",
    "            print(\"Not on the Launcher page\")\n",
    "        # Create a new notebook object\n",
    "        nb = new_notebook()\n",
    "        # Add cells to the notebook\n",
    "        nb['cells'] = cells\n",
    "        # Write the notebook to a file\n",
    "        with open('example_notebook.ipynb', 'w', encoding='utf-8') as f:\n",
    "            nbformat.write(nb, f)\n",
    "        print(\"Notebook created successfully.\")\n",
    "        take_screenshot(driver, 'new_nb_screenshot.png')\n",
    "\n",
    "        find_element_and_click(driver, '//button[@data-command=\"RISE:preview\"]')\n",
    "        take_screenshot(driver, 'rise_screenshot.png')\n",
    "\n",
    "        toolbar = WebDriverWait(driver, 20).until(EC.presence_of_element_located((By.XPATH, \"//div[@class='lm-Widget jp-Toolbar' and @role='navigation']\")))\n",
    "        if toolbar:\n",
    "            fullscreen_button = toolbar.find_element(By.XPATH, \".//button[@title='Open the slideshow in full screen']\")\n",
    "            fullscreen_button.click()\n",
    "            is_fullscreen = driver.execute_script(\"return document.fullscreenElement !== null\")\n",
    "            print(\"Fullscreen button is functioning: \", is_fullscreen)\n",
    "        else:\n",
    "            print(\"Toolbar not found\")\n",
    "        print(\"RISE Extension is working!\")\n",
    "    except Exception as e:\n",
    "        print(f\"An error occurred during test: {e}\")\n",
    "    finally:\n",
    "        # Clean up\n",
    "        driver.switch_to.window(driver.window_handles[0])\n",
    "        driver.refresh()\n",
    "        WebDriverWait(driver, 90)\n",
    "        driver.quit()"
   ]
  },
  {
   "cell_type": "code",
   "execution_count": 42,
   "id": "0eac59ad",
   "metadata": {},
   "outputs": [
    {
     "name": "stdout",
     "output_type": "stream",
     "text": [
      "Saved screenshot: main_screenshot.png\n",
      "Not on the Launcher page\n",
      "Notebook created successfully.\n",
      "Saved screenshot: new_nb_screenshot.png\n",
      "Error finding/clicking element: Message: \n",
      "Stacktrace:\n",
      "0   chromedriver                        0x0000000106152d28 chromedriver + 4795688\n",
      "1   chromedriver                        0x000000010614a2b3 chromedriver + 4760243\n",
      "2   chromedriver                        0x0000000105d2388d chromedriver + 407693\n",
      "3   chromedriver                        0x0000000105d723d9 chromedriver + 730073\n",
      "4   chromedriver                        0x0000000105d72591 chromedriver + 730513\n",
      "5   chromedriver                        0x0000000105db87e4 chromedriver + 1017828\n",
      "6   chromedriver                        0x0000000105d99ccd chromedriver + 892109\n",
      "7   chromedriver                        0x0000000105db5b2b chromedriver + 1006379\n",
      "8   chromedriver                        0x0000000105d99a73 chromedriver + 891507\n",
      "9   chromedriver                        0x0000000105d64143 chromedriver + 672067\n",
      "10  chromedriver                        0x0000000105d6531e chromedriver + 676638\n",
      "11  chromedriver                        0x0000000106113795 chromedriver + 4536213\n",
      "12  chromedriver                        0x0000000106118853 chromedriver + 4556883\n",
      "13  chromedriver                        0x00000001060f9001 chromedriver + 4427777\n",
      "14  chromedriver                        0x000000010611959d chromedriver + 4560285\n",
      "15  chromedriver                        0x00000001060ea48c chromedriver + 4367500\n",
      "16  chromedriver                        0x00000001061390e8 chromedriver + 4690152\n",
      "17  chromedriver                        0x000000010613929e chromedriver + 4690590\n",
      "18  chromedriver                        0x0000000106149eee chromedriver + 4759278\n",
      "19  libsystem_pthread.dylib             0x00007ff80d038202 _pthread_start + 99\n",
      "20  libsystem_pthread.dylib             0x00007ff80d033bab thread_start + 15\n",
      "\n",
      "Saved screenshot: rise_screenshot.png\n",
      "Fullscreen button is functioning:  False\n",
      "RISE Extension is working!\n"
     ]
    }
   ],
   "source": [
    "test_rise_slide(token)"
   ]
  },
  {
   "cell_type": "markdown",
   "id": "db3b2620",
   "metadata": {},
   "source": []
  }
 ],
 "metadata": {
  "kernelspec": {
   "display_name": "Python 3 (ipykernel)",
   "language": "python",
   "name": "python3"
  },
  "language_info": {
   "codemirror_mode": {
    "name": "ipython",
    "version": 3
   },
   "file_extension": ".py",
   "mimetype": "text/x-python",
   "name": "python",
   "nbconvert_exporter": "python",
   "pygments_lexer": "ipython3",
   "version": "3.9.1"
  }
 },
 "nbformat": 4,
 "nbformat_minor": 5
}
