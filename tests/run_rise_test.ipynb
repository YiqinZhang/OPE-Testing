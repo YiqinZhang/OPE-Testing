{
 "cells": [
  {
   "cell_type": "code",
   "execution_count": 13,
   "id": "6f59621a-9a8d-4a28-9e56-01d2e4f8caf4",
   "metadata": {
    "tags": []
   },
   "outputs": [
    {
     "name": "stdout",
     "output_type": "stream",
     "text": [
      "Defaulting to user installation because normal site-packages is not writeable\n",
      "Requirement already satisfied: selenium in /Library/Frameworks/Python.framework/Versions/3.9/lib/python3.9/site-packages (3.141.0)\n",
      "Requirement already satisfied: urllib3 in /Library/Frameworks/Python.framework/Versions/3.9/lib/python3.9/site-packages (from selenium) (1.26.5)\n",
      "\n",
      "\u001b[1m[\u001b[0m\u001b[34;49mnotice\u001b[0m\u001b[1;39;49m]\u001b[0m\u001b[39;49m A new release of pip is available: \u001b[0m\u001b[31;49m23.1.2\u001b[0m\u001b[39;49m -> \u001b[0m\u001b[32;49m23.3.1\u001b[0m\n",
      "\u001b[1m[\u001b[0m\u001b[34;49mnotice\u001b[0m\u001b[1;39;49m]\u001b[0m\u001b[39;49m To update, run: \u001b[0m\u001b[32;49mpip install --upgrade pip\u001b[0m\n",
      "Defaulting to user installation because normal site-packages is not writeable\n",
      "Requirement already satisfied: webdriver_manager in /Users/zhangyiqin/Library/Python/3.9/lib/python/site-packages (4.0.1)\n",
      "Requirement already satisfied: requests in /Users/zhangyiqin/Library/Python/3.9/lib/python/site-packages (from webdriver_manager) (2.25.1)\n",
      "Requirement already satisfied: python-dotenv in /Users/zhangyiqin/Library/Python/3.9/lib/python/site-packages (from webdriver_manager) (1.0.0)\n",
      "Requirement already satisfied: packaging in /Users/zhangyiqin/Library/Python/3.9/lib/python/site-packages (from webdriver_manager) (22.0)\n",
      "Requirement already satisfied: chardet<5,>=3.0.2 in /Library/Frameworks/Python.framework/Versions/3.9/lib/python3.9/site-packages (from requests->webdriver_manager) (4.0.0)\n",
      "Requirement already satisfied: idna<3,>=2.5 in /Library/Frameworks/Python.framework/Versions/3.9/lib/python3.9/site-packages (from requests->webdriver_manager) (2.10)\n",
      "Requirement already satisfied: urllib3<1.27,>=1.21.1 in /Library/Frameworks/Python.framework/Versions/3.9/lib/python3.9/site-packages (from requests->webdriver_manager) (1.26.5)\n",
      "Requirement already satisfied: certifi>=2017.4.17 in /Library/Frameworks/Python.framework/Versions/3.9/lib/python3.9/site-packages (from requests->webdriver_manager) (2021.5.30)\n",
      "\n",
      "\u001b[1m[\u001b[0m\u001b[34;49mnotice\u001b[0m\u001b[1;39;49m]\u001b[0m\u001b[39;49m A new release of pip is available: \u001b[0m\u001b[31;49m23.1.2\u001b[0m\u001b[39;49m -> \u001b[0m\u001b[32;49m23.3.1\u001b[0m\n",
      "\u001b[1m[\u001b[0m\u001b[34;49mnotice\u001b[0m\u001b[1;39;49m]\u001b[0m\u001b[39;49m To update, run: \u001b[0m\u001b[32;49mpip install --upgrade pip\u001b[0m\n",
      "Defaulting to user installation because normal site-packages is not writeable\n",
      "Requirement already satisfied: docker in /Users/zhangyiqin/Library/Python/3.9/lib/python/site-packages (4.4.4)\n",
      "Requirement already satisfied: six>=1.4.0 in /Users/zhangyiqin/Library/Python/3.9/lib/python/site-packages (from docker) (1.14.0)\n",
      "Requirement already satisfied: websocket-client>=0.32.0 in /Users/zhangyiqin/Library/Python/3.9/lib/python/site-packages (from docker) (0.59.0)\n",
      "Requirement already satisfied: requests!=2.18.0,>=2.14.2 in /Users/zhangyiqin/Library/Python/3.9/lib/python/site-packages (from docker) (2.25.1)\n",
      "Requirement already satisfied: chardet<5,>=3.0.2 in /Library/Frameworks/Python.framework/Versions/3.9/lib/python3.9/site-packages (from requests!=2.18.0,>=2.14.2->docker) (4.0.0)\n",
      "Requirement already satisfied: idna<3,>=2.5 in /Library/Frameworks/Python.framework/Versions/3.9/lib/python3.9/site-packages (from requests!=2.18.0,>=2.14.2->docker) (2.10)\n",
      "Requirement already satisfied: urllib3<1.27,>=1.21.1 in /Library/Frameworks/Python.framework/Versions/3.9/lib/python3.9/site-packages (from requests!=2.18.0,>=2.14.2->docker) (1.26.5)\n",
      "Requirement already satisfied: certifi>=2017.4.17 in /Library/Frameworks/Python.framework/Versions/3.9/lib/python3.9/site-packages (from requests!=2.18.0,>=2.14.2->docker) (2021.5.30)\n",
      "\n",
      "\u001b[1m[\u001b[0m\u001b[34;49mnotice\u001b[0m\u001b[1;39;49m]\u001b[0m\u001b[39;49m A new release of pip is available: \u001b[0m\u001b[31;49m23.1.2\u001b[0m\u001b[39;49m -> \u001b[0m\u001b[32;49m23.3.1\u001b[0m\n",
      "\u001b[1m[\u001b[0m\u001b[34;49mnotice\u001b[0m\u001b[1;39;49m]\u001b[0m\u001b[39;49m To update, run: \u001b[0m\u001b[32;49mpip install --upgrade pip\u001b[0m\n"
     ]
    }
   ],
   "source": [
    "!pip install selenium\n",
    "!pip install webdriver_manager\n",
    "!pip install docker"
   ]
  },
  {
   "cell_type": "markdown",
   "id": "c861e6e9-eb49-4eae-8ab4-41dea0f6de4d",
   "metadata": {},
   "source": [
    "##  Convert the rise test in makefile to ipynb"
   ]
  },
  {
   "cell_type": "code",
   "execution_count": 14,
   "id": "d298f3a4-1531-4cff-897a-63c9f6f80de4",
   "metadata": {
    "tags": []
   },
   "outputs": [],
   "source": [
    "# Cell 1: Imports and preparations\n",
    "import subprocess\n",
    "import selenium\n",
    "\n",
    "# Function to run shell commands and capture output\n",
    "def run_shell_command(cmd):\n",
    "    try:\n",
    "        result = subprocess.run(cmd, stdout=subprocess.PIPE, stderr=subprocess.PIPE, check=True, shell=True)\n",
    "        return result.stdout.decode('utf-8').strip()\n",
    "    except subprocess.CalledProcessError as e:\n",
    "        return e.stderr.decode('utf-8').strip()"
   ]
  },
  {
   "cell_type": "code",
   "execution_count": 21,
   "id": "5b3d1035",
   "metadata": {},
   "outputs": [
    {
     "data": {
      "text/plain": [
       "''"
      ]
     },
     "execution_count": 21,
     "metadata": {},
     "output_type": "execute_result"
    }
   ],
   "source": [
    "# Get Docker container ID\n",
    "container_id_command = \"docker ps -q | head -n 1\"\n",
    "container_id = run_shell_command(container_id_command)\n",
    "container_id  # This will display the container ID"
   ]
  },
  {
   "cell_type": "code",
   "execution_count": 16,
   "id": "49cba1af",
   "metadata": {},
   "outputs": [
    {
     "data": {
      "text/plain": [
       "''"
      ]
     },
     "execution_count": 16,
     "metadata": {},
     "output_type": "execute_result"
    }
   ],
   "source": [
    "# Get JupyterLab token\n",
    "token_command = f\"docker exec {container_id} jupyter lab list 2>&1 | grep -o 'token=[^ ]*' | cut -d= -f2\"\n",
    "token = run_shell_command(token_command)\n",
    "token  # This will display the token"
   ]
  },
  {
   "cell_type": "code",
   "execution_count": 17,
   "metadata": {},
   "outputs": [
    {
     "data": {
      "text/plain": [
       "''"
      ]
     },
     "execution_count": 17,
     "metadata": {},
     "output_type": "execute_result"
    }
   ],
   "source": [
    "# Cell 4: Run the rise_test.py script\n",
    "# You need to have the rise_test.py file in the current directory of the Jupyter notebook.\n",
    "rise_test_command = f\"python3 rise_test.py {token}\"\n",
    "result = run_shell_command(rise_test_command)\n",
    "result  # This will display the output of the script"
   ]
  },
  {
   "cell_type": "markdown",
   "id": "75d70d96-c2d1-4c31-8a8c-8e009dc720fe",
   "metadata": {},
   "source": [
    "##  Get the container ID"
   ]
  },
  {
   "cell_type": "code",
   "execution_count": 18,
   "id": "0f005ab3-a95e-40c1-a19d-02dc4ef60572",
   "metadata": {
    "tags": []
   },
   "outputs": [
    {
     "name": "stdout",
     "output_type": "stream",
     "text": [
      "Container ID: \n"
     ]
    }
   ],
   "source": [
    "import subprocess\n",
    "\n",
    "# Get the first container ID\n",
    "#get_cont_id_cmd = \"docker ps -q | head -n 1\"\n",
    "get_cont_id_cmd = \"/usr/local/bin/docker ps -q | head -n 1\"\n",
    "cont_id = subprocess.check_output(get_cont_id_cmd, shell=True).decode('utf-8').strip()\n",
    "\n",
    "print(\"Container ID:\", cont_id)"
   ]
  },
  {
   "cell_type": "markdown",
   "id": "9bee7772-db47-4a68-9840-2ab991a6683a",
   "metadata": {},
   "source": [
    "## Get the token Run the rise_test.py "
   ]
  },
  {
   "cell_type": "code",
   "execution_count": 19,
   "id": "c7f07960-558b-4758-a0a3-b81991416b36",
   "metadata": {
    "tags": []
   },
   "outputs": [
    {
     "name": "stdout",
     "output_type": "stream",
     "text": [
      "Jupyter Lab Token: \n"
     ]
    }
   ],
   "source": [
    "get_token_cmd = f\"docker exec {cont_id} jupyter lab list 2>&1 | grep -o 'token=[^ ]*' | cut -d= -f2\"\n",
    "token = subprocess.check_output(get_token_cmd, shell=True).decode('utf-8').strip()\n",
    "\n",
    "print(\"Jupyter Lab Token:\", token)"
   ]
  },
  {
   "cell_type": "code",
   "execution_count": 20,
   "id": "bf2a6f1b-9c82-4c20-b96b-fad85f527dc1",
   "metadata": {},
   "outputs": [
    {
     "name": "stdout",
     "output_type": "stream",
     "text": [
      "Token not found. Check if Jupyter Lab is running in the container.\n"
     ]
    }
   ],
   "source": [
    "# Run the rise_test.py with the token\n",
    "if token:\n",
    "    run_script_cmd = f\"python3 rise_test.py {token}\"\n",
    "    script_output = subprocess.check_output(run_script_cmd, shell=True).decode('utf-8')\n",
    "    print(\"Script Output:\\n\", script_output)    \n",
    "else:\n",
    "    print(\"Token not found. Check if Jupyter Lab is running in the container.\")"
   ]
  },
  {
   "cell_type": "code",
   "execution_count": null,
   "id": "3c47c898-b353-4d8e-a4d7-9ea302fe4a2f",
   "metadata": {},
   "outputs": [],
   "source": []
  }
 ],
 "metadata": {
  "kernelspec": {
   "display_name": "Python 3 (ipykernel)",
   "language": "python",
   "name": "python3"
  },
  "language_info": {
   "codemirror_mode": {
    "name": "ipython",
    "version": 3
   },
   "file_extension": ".py",
   "mimetype": "text/x-python",
   "name": "python",
   "nbconvert_exporter": "python",
   "pygments_lexer": "ipython3",
   "version": "3.9.16"
  }
 },
 "nbformat": 4,
 "nbformat_minor": 5
}
