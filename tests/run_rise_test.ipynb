{
 "cells": [
  {
   "cell_type": "code",
   "execution_count": 3,
   "id": "6f59621a-9a8d-4a28-9e56-01d2e4f8caf4",
   "metadata": {
    "tags": []
   },
   "outputs": [
    {
     "name": "stdout",
     "output_type": "stream",
     "text": [
      "Requirement already satisfied: selenium in /opt/conda/lib/python3.9/site-packages (4.15.1)\n",
      "Requirement already satisfied: urllib3[socks]<3,>=1.26 in /opt/conda/lib/python3.9/site-packages (from selenium) (1.26.15)\n",
      "Requirement already satisfied: trio~=0.17 in /opt/conda/lib/python3.9/site-packages (from selenium) (0.22.2)\n",
      "Requirement already satisfied: trio-websocket~=0.9 in /opt/conda/lib/python3.9/site-packages (from selenium) (0.11.1)\n",
      "Requirement already satisfied: certifi>=2021.10.8 in /opt/conda/lib/python3.9/site-packages (from selenium) (2023.7.22)\n",
      "Requirement already satisfied: attrs>=20.1.0 in /opt/conda/lib/python3.9/site-packages (from trio~=0.17->selenium) (23.1.0)\n",
      "Requirement already satisfied: sortedcontainers in /opt/conda/lib/python3.9/site-packages (from trio~=0.17->selenium) (2.4.0)\n",
      "Requirement already satisfied: idna in /opt/conda/lib/python3.9/site-packages (from trio~=0.17->selenium) (3.4)\n",
      "Requirement already satisfied: outcome in /opt/conda/lib/python3.9/site-packages (from trio~=0.17->selenium) (1.3.0.post0)\n",
      "Requirement already satisfied: sniffio in /opt/conda/lib/python3.9/site-packages (from trio~=0.17->selenium) (1.3.0)\n",
      "Requirement already satisfied: exceptiongroup>=1.0.0rc9 in /opt/conda/lib/python3.9/site-packages (from trio~=0.17->selenium) (1.1.3)\n",
      "Requirement already satisfied: wsproto>=0.14 in /opt/conda/lib/python3.9/site-packages (from trio-websocket~=0.9->selenium) (1.2.0)\n",
      "Requirement already satisfied: PySocks!=1.5.7,<2.0,>=1.5.6 in /opt/conda/lib/python3.9/site-packages (from urllib3[socks]<3,>=1.26->selenium) (1.7.1)\n",
      "Requirement already satisfied: h11<1,>=0.9.0 in /opt/conda/lib/python3.9/site-packages (from wsproto>=0.14->trio-websocket~=0.9->selenium) (0.14.0)\n",
      "Requirement already satisfied: webdriver_manager in /opt/conda/lib/python3.9/site-packages (4.0.1)\n",
      "Requirement already satisfied: requests in /opt/conda/lib/python3.9/site-packages (from webdriver_manager) (2.31.0)\n",
      "Requirement already satisfied: python-dotenv in /opt/conda/lib/python3.9/site-packages (from webdriver_manager) (1.0.0)\n",
      "Requirement already satisfied: packaging in /opt/conda/lib/python3.9/site-packages (from webdriver_manager) (23.1)\n",
      "Requirement already satisfied: charset-normalizer<4,>=2 in /opt/conda/lib/python3.9/site-packages (from requests->webdriver_manager) (3.2.0)\n",
      "Requirement already satisfied: idna<4,>=2.5 in /opt/conda/lib/python3.9/site-packages (from requests->webdriver_manager) (3.4)\n",
      "Requirement already satisfied: urllib3<3,>=1.21.1 in /opt/conda/lib/python3.9/site-packages (from requests->webdriver_manager) (1.26.15)\n",
      "Requirement already satisfied: certifi>=2017.4.17 in /opt/conda/lib/python3.9/site-packages (from requests->webdriver_manager) (2023.7.22)\n",
      "Collecting docker\n",
      "  Obtaining dependency information for docker from https://files.pythonhosted.org/packages/db/be/3032490fa33b36ddc8c4b1da3252c6f974e7133f1a50de00c6b85cca203a/docker-6.1.3-py3-none-any.whl.metadata\n",
      "  Downloading docker-6.1.3-py3-none-any.whl.metadata (3.5 kB)\n",
      "Requirement already satisfied: packaging>=14.0 in /opt/conda/lib/python3.9/site-packages (from docker) (23.1)\n",
      "Requirement already satisfied: requests>=2.26.0 in /opt/conda/lib/python3.9/site-packages (from docker) (2.31.0)\n",
      "Requirement already satisfied: urllib3>=1.26.0 in /opt/conda/lib/python3.9/site-packages (from docker) (1.26.15)\n",
      "Requirement already satisfied: websocket-client>=0.32.0 in /opt/conda/lib/python3.9/site-packages (from docker) (1.6.3)\n",
      "Requirement already satisfied: charset-normalizer<4,>=2 in /opt/conda/lib/python3.9/site-packages (from requests>=2.26.0->docker) (3.2.0)\n",
      "Requirement already satisfied: idna<4,>=2.5 in /opt/conda/lib/python3.9/site-packages (from requests>=2.26.0->docker) (3.4)\n",
      "Requirement already satisfied: certifi>=2017.4.17 in /opt/conda/lib/python3.9/site-packages (from requests>=2.26.0->docker) (2023.7.22)\n",
      "Downloading docker-6.1.3-py3-none-any.whl (148 kB)\n",
      "\u001b[2K   \u001b[90m━━━━━━━━━━━━━━━━━━━━━━━━━━━━━━━━━━━━━━━━\u001b[0m \u001b[32m148.1/148.1 kB\u001b[0m \u001b[31m8.1 MB/s\u001b[0m eta \u001b[36m0:00:00\u001b[0m\n",
      "\u001b[?25hInstalling collected packages: docker\n",
      "Successfully installed docker-6.1.3\n"
     ]
    }
   ],
   "source": [
    "!pip install selenium\n",
    "!pip install webdriver_manager"
   ]
  },
  {
   "cell_type": "markdown",
   "id": "c861e6e9-eb49-4eae-8ab4-41dea0f6de4d",
   "metadata": {
    "user_expressions": []
   },
   "source": [
    "##  Convert the rise test in makefile to ipynb"
   ]
  },
  {
   "cell_type": "code",
   "execution_count": 7,
   "id": "d298f3a4-1531-4cff-897a-63c9f6f80de4",
   "metadata": {
    "tags": []
   },
   "outputs": [
    {
     "data": {
      "text/plain": [
       "''"
      ]
     },
     "execution_count": 7,
     "metadata": {},
     "output_type": "execute_result"
    }
   ],
   "source": [
    "# Cell 1: Imports and preparations\n",
    "import subprocess\n",
    "import selenium\n",
    "\n",
    "# Function to run shell commands and capture output\n",
    "def run_shell_command(cmd):\n",
    "    try:\n",
    "        result = subprocess.run(cmd, stdout=subprocess.PIPE, stderr=subprocess.PIPE, check=True, shell=True)\n",
    "        return result.stdout.decode('utf-8').strip()\n",
    "    except subprocess.CalledProcessError as e:\n",
    "        return e.stderr.decode('utf-8').strip()\n",
    "\n",
    "# Cell 2: Get Docker container ID\n",
    "container_id_command = \"docker ps -q | head -n 1\"\n",
    "container_id = run_shell_command(container_id_command)\n",
    "container_id  # This will display the container ID\n",
    "\n",
    "# Cell 3: Get JupyterLab token\n",
    "token_command = f\"docker exec {container_id} jupyter lab list 2>&1 | grep -o 'token=[^ ]*' | cut -d= -f2\"\n",
    "token = run_shell_command(token_command)\n",
    "token  # This will display the token\n",
    "\n",
    "# Cell 4: Run the rise_test.py script\n",
    "# You need to have the rise_test.py file in the current directory of the Jupyter notebook.\n",
    "rise_test_command = f\"python3 rise_test.py {token}\"\n",
    "result = run_shell_command(rise_test_command)\n",
    "result  # This will display the output of the script"
   ]
  },
  {
   "cell_type": "markdown",
   "id": "75d70d96-c2d1-4c31-8a8c-8e009dc720fe",
   "metadata": {
    "user_expressions": []
   },
   "source": [
    "##  Get the container ID"
   ]
  },
  {
   "cell_type": "code",
   "execution_count": 6,
   "id": "0f005ab3-a95e-40c1-a19d-02dc4ef60572",
   "metadata": {
    "tags": []
   },
   "outputs": [
    {
     "name": "stdout",
     "output_type": "stream",
     "text": [
      "CONT_ID: \n"
     ]
    }
   ],
   "source": [
    "import subprocess\n",
    "\n",
    "# Function to run shell commands\n",
    "def run_command(command):\n",
    "    process = subprocess.Popen(command, shell=True, stdout=subprocess.PIPE, stderr=subprocess.PIPE)\n",
    "    stdout, stderr = process.communicate()\n",
    "    if process.returncode != 0:\n",
    "        print(f\"Error: {stderr.decode('utf-8')}\")\n",
    "        return None\n",
    "    return stdout.decode('utf-8').strip()\n",
    "\n",
    "# Get the CONT_ID equivalent in Python\n",
    "cont_id_command = \"docker ps -q | head -n 1\"\n",
    "cont_id = run_command(cont_id_command)\n",
    "print(f\"CONT_ID: {cont_id}\")\n",
    "\n",
    "# Get the TOKEN equivalent in Python\n",
    "if cont_id:\n",
    "    token_command = f\"docker exec {cont_id} jupyter lab list 2>&1 | grep -o 'token=[^ ]*' | cut -d= -f2\"\n",
    "    token = run_command(token_command)\n",
    "    print(f\"TOKEN: {token}\")\n",
    "    \n",
    "    # Run the rise_test.py script with the token\n",
    "    if token:\n",
    "        rise_test_command = f\"python3 rise_test.py {token}\"\n",
    "        print(run_command(rise_test_command))\n"
   ]
  },
  {
   "cell_type": "markdown",
   "id": "9bee7772-db47-4a68-9840-2ab991a6683a",
   "metadata": {
    "user_expressions": []
   },
   "source": [
    "## Get the token Run the rise_test.py "
   ]
  },
  {
   "cell_type": "code",
   "execution_count": 8,
   "id": "c7f07960-558b-4758-a0a3-b81991416b36",
   "metadata": {
    "tags": []
   },
   "outputs": [
    {
     "name": "stdout",
     "output_type": "stream",
     "text": [
      "No running Docker container found.\n"
     ]
    },
    {
     "name": "stderr",
     "output_type": "stream",
     "text": [
      "/bin/sh: 1: docker: not found\n"
     ]
    }
   ],
   "source": [
    "# First cell: Set up imports and variables\n",
    "import subprocess\n",
    "import os\n",
    "\n",
    "def get_container_id():\n",
    "    return subprocess.check_output('docker ps -q | head -n 1', shell=True).decode().strip()\n",
    "\n",
    "def get_token(container_id):\n",
    "    cmd = f'docker exec {container_id} jupyter lab list 2>&1'\n",
    "    output = subprocess.check_output(cmd, shell=True).decode()\n",
    "    token = [line for line in output.split('\\n') if \"token=\" in line][0].split('=')[1]\n",
    "    return token\n",
    "\n",
    "CONT_ID = get_container_id()\n",
    "\n",
    "# Next cell: Get TOKEN and run rise_test.py with it\n",
    "if CONT_ID:\n",
    "    TOKEN = get_token(CONT_ID)\n",
    "    if TOKEN:\n",
    "        # Here you replace 'path/to/rise_test.py' with the actual path to the Python script\n",
    "        result = subprocess.run(['python3', 'path/to/rise_test.py', TOKEN], capture_output=True, text=True)\n",
    "        print(result.stdout)\n",
    "    else:\n",
    "        print(\"Token not found. Check if Jupyter Lab is running in the container.\")\n",
    "else:\n",
    "    print(\"No running Docker container found.\")\n"
   ]
  },
  {
   "cell_type": "markdown",
   "id": "be4b63d7-56e7-421b-90d0-15465ea64f7c",
   "metadata": {
    "user_expressions": []
   },
   "source": [
    "## Check Docker"
   ]
  },
  {
   "cell_type": "code",
   "execution_count": 9,
   "id": "766b3c28-f92d-4980-ac6a-35420b5da2f6",
   "metadata": {
    "tags": []
   },
   "outputs": [
    {
     "name": "stdout",
     "output_type": "stream",
     "text": [
      "/bin/sh: 1: docker: not found. Ensure Docker is installed and available in PATH.\n"
     ]
    }
   ],
   "source": [
    "import subprocess\n",
    "\n",
    "def check_docker():\n",
    "    try:\n",
    "        subprocess.check_output(['docker', '--version'])\n",
    "        return True\n",
    "    except (subprocess.CalledProcessError, FileNotFoundError):\n",
    "        return False\n",
    "\n",
    "def get_container_id():\n",
    "    try:\n",
    "        return subprocess.check_output('docker ps -q | head -n 1', shell=True).decode().strip()\n",
    "    except subprocess.CalledProcessError:\n",
    "        print(\"Docker command failed. Ensure Docker is running and you have the right permissions.\")\n",
    "        return None\n",
    "\n",
    "def get_token(container_id):\n",
    "    try:\n",
    "        cmd = f'docker exec {container_id} jupyter lab list 2>&1'\n",
    "        output = subprocess.check_output(cmd, shell=True).decode()\n",
    "        token = [line for line in output.split('\\n') if \"token=\" in line][0].split('=')[1]\n",
    "        return token\n",
    "    except subprocess.CalledProcessError:\n",
    "        print(\"Failed to get token. Ensure Jupyter Lab is running in the container.\")\n",
    "        return None\n",
    "\n",
    "if check_docker():\n",
    "    CONT_ID = get_container_id()\n",
    "    if CONT_ID:\n",
    "        TOKEN = get_token(CONT_ID)\n",
    "        if TOKEN:\n",
    "            # Here you replace 'path/to/rise_test.py' with the actual path to the Python script\n",
    "            result = subprocess.run(['python3', 'path/to/rise_test.py', TOKEN], capture_output=True, text=True)\n",
    "            print(result.stdout)\n",
    "        else:\n",
    "            print(\"Token not found. Check if Jupyter Lab is running in the container.\")\n",
    "    else:\n",
    "        print(\"No running Docker container found.\")\n",
    "else:\n",
    "    print(\"/bin/sh: 1: docker: not found. Ensure Docker is installed and available in PATH.\")\n"
   ]
  },
  {
   "cell_type": "code",
   "execution_count": null,
   "id": "3c47c898-b353-4d8e-a4d7-9ea302fe4a2f",
   "metadata": {},
   "outputs": [],
   "source": []
  }
 ],
 "metadata": {
  "kernelspec": {
   "display_name": "Python 3 (ipykernel)",
   "language": "python",
   "name": "python3"
  },
  "language_info": {
   "codemirror_mode": {
    "name": "ipython",
    "version": 3
   },
   "file_extension": ".py",
   "mimetype": "text/x-python",
   "name": "python",
   "nbconvert_exporter": "python",
   "pygments_lexer": "ipython3",
   "version": "3.9.16"
  }
 },
 "nbformat": 4,
 "nbformat_minor": 5
}
