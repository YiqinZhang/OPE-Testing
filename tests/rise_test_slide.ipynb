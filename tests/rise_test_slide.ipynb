{
 "cells": [
  {
   "cell_type": "code",
   "execution_count": 1,
   "id": "6f59621a-9a8d-4a28-9e56-01d2e4f8caf4",
   "metadata": {
    "tags": []
   },
   "outputs": [
    {
     "name": "stdout",
     "output_type": "stream",
     "text": [
      "Defaulting to user installation because normal site-packages is not writeable\n",
      "Requirement already satisfied: selenium in /Users/zhangyiqin/Library/Python/3.9/lib/python/site-packages (4.15.2)\n",
      "Requirement already satisfied: urllib3<3,>=1.26 in /Library/Frameworks/Python.framework/Versions/3.9/lib/python3.9/site-packages (from urllib3[socks]<3,>=1.26->selenium) (1.26.5)\n",
      "Requirement already satisfied: trio~=0.17 in /Users/zhangyiqin/Library/Python/3.9/lib/python/site-packages (from selenium) (0.23.1)\n",
      "Requirement already satisfied: trio-websocket~=0.9 in /Users/zhangyiqin/Library/Python/3.9/lib/python/site-packages (from selenium) (0.11.1)\n",
      "Requirement already satisfied: certifi>=2021.10.8 in /Users/zhangyiqin/Library/Python/3.9/lib/python/site-packages (from selenium) (2023.7.22)\n",
      "Requirement already satisfied: attrs>=20.1.0 in /Library/Frameworks/Python.framework/Versions/3.9/lib/python3.9/site-packages (from trio~=0.17->selenium) (21.2.0)\n",
      "Requirement already satisfied: sortedcontainers in /Users/zhangyiqin/Library/Python/3.9/lib/python/site-packages (from trio~=0.17->selenium) (2.4.0)\n",
      "Requirement already satisfied: idna in /Library/Frameworks/Python.framework/Versions/3.9/lib/python3.9/site-packages (from trio~=0.17->selenium) (2.10)\n",
      "Requirement already satisfied: outcome in /Users/zhangyiqin/Library/Python/3.9/lib/python/site-packages (from trio~=0.17->selenium) (1.3.0.post0)\n",
      "Requirement already satisfied: sniffio>=1.3.0 in /Users/zhangyiqin/Library/Python/3.9/lib/python/site-packages (from trio~=0.17->selenium) (1.3.0)\n",
      "Requirement already satisfied: exceptiongroup>=1.0.0rc9 in /Users/zhangyiqin/Library/Python/3.9/lib/python/site-packages (from trio~=0.17->selenium) (1.1.3)\n",
      "Requirement already satisfied: wsproto>=0.14 in /Users/zhangyiqin/Library/Python/3.9/lib/python/site-packages (from trio-websocket~=0.9->selenium) (1.2.0)\n",
      "Requirement already satisfied: PySocks!=1.5.7,<2.0,>=1.5.6 in /Users/zhangyiqin/Library/Python/3.9/lib/python/site-packages (from urllib3[socks]<3,>=1.26->selenium) (1.7.1)\n",
      "Requirement already satisfied: h11<1,>=0.9.0 in /Users/zhangyiqin/Library/Python/3.9/lib/python/site-packages (from wsproto>=0.14->trio-websocket~=0.9->selenium) (0.14.0)\n",
      "Defaulting to user installation because normal site-packages is not writeable\n",
      "Requirement already satisfied: webdriver_manager in /Users/zhangyiqin/Library/Python/3.9/lib/python/site-packages (4.0.1)\n",
      "Requirement already satisfied: requests in /Users/zhangyiqin/Library/Python/3.9/lib/python/site-packages (from webdriver_manager) (2.31.0)\n",
      "Requirement already satisfied: python-dotenv in /Users/zhangyiqin/Library/Python/3.9/lib/python/site-packages (from webdriver_manager) (1.0.0)\n",
      "Requirement already satisfied: packaging in /Users/zhangyiqin/Library/Python/3.9/lib/python/site-packages (from webdriver_manager) (22.0)\n",
      "Requirement already satisfied: charset-normalizer<4,>=2 in /Users/zhangyiqin/Library/Python/3.9/lib/python/site-packages (from requests->webdriver_manager) (2.1.1)\n",
      "Requirement already satisfied: idna<4,>=2.5 in /Library/Frameworks/Python.framework/Versions/3.9/lib/python3.9/site-packages (from requests->webdriver_manager) (2.10)\n",
      "Requirement already satisfied: urllib3<3,>=1.21.1 in /Library/Frameworks/Python.framework/Versions/3.9/lib/python3.9/site-packages (from requests->webdriver_manager) (1.26.5)\n",
      "Requirement already satisfied: certifi>=2017.4.17 in /Users/zhangyiqin/Library/Python/3.9/lib/python/site-packages (from requests->webdriver_manager) (2023.7.22)\n",
      "Defaulting to user installation because normal site-packages is not writeable\n",
      "Requirement already satisfied: docker in /Users/zhangyiqin/Library/Python/3.9/lib/python/site-packages (4.4.4)\n",
      "Requirement already satisfied: six>=1.4.0 in /Users/zhangyiqin/Library/Python/3.9/lib/python/site-packages (from docker) (1.14.0)\n",
      "Requirement already satisfied: websocket-client>=0.32.0 in /Users/zhangyiqin/Library/Python/3.9/lib/python/site-packages (from docker) (0.59.0)\n",
      "Requirement already satisfied: requests!=2.18.0,>=2.14.2 in /Users/zhangyiqin/Library/Python/3.9/lib/python/site-packages (from docker) (2.31.0)\n",
      "Requirement already satisfied: charset-normalizer<4,>=2 in /Users/zhangyiqin/Library/Python/3.9/lib/python/site-packages (from requests!=2.18.0,>=2.14.2->docker) (2.1.1)\n",
      "Requirement already satisfied: idna<4,>=2.5 in /Library/Frameworks/Python.framework/Versions/3.9/lib/python3.9/site-packages (from requests!=2.18.0,>=2.14.2->docker) (2.10)\n",
      "Requirement already satisfied: urllib3<3,>=1.21.1 in /Library/Frameworks/Python.framework/Versions/3.9/lib/python3.9/site-packages (from requests!=2.18.0,>=2.14.2->docker) (1.26.5)\n",
      "Requirement already satisfied: certifi>=2017.4.17 in /Users/zhangyiqin/Library/Python/3.9/lib/python/site-packages (from requests!=2.18.0,>=2.14.2->docker) (2023.7.22)\n",
      "Defaulting to user installation because normal site-packages is not writeable\n",
      "Requirement already satisfied: requests in /Users/zhangyiqin/Library/Python/3.9/lib/python/site-packages (2.31.0)\n",
      "Requirement already satisfied: charset-normalizer<4,>=2 in /Users/zhangyiqin/Library/Python/3.9/lib/python/site-packages (from requests) (2.1.1)\n",
      "Requirement already satisfied: idna<4,>=2.5 in /Library/Frameworks/Python.framework/Versions/3.9/lib/python3.9/site-packages (from requests) (2.10)\n",
      "Requirement already satisfied: urllib3<3,>=1.21.1 in /Library/Frameworks/Python.framework/Versions/3.9/lib/python3.9/site-packages (from requests) (1.26.5)\n",
      "Requirement already satisfied: certifi>=2017.4.17 in /Users/zhangyiqin/Library/Python/3.9/lib/python/site-packages (from requests) (2023.7.22)\n"
     ]
    }
   ],
   "source": [
    "!pip install selenium\n",
    "!pip install webdriver_manager\n",
    "!pip install docker\n",
    "!pip install requests"
   ]
  },
  {
   "cell_type": "markdown",
   "id": "bb462014-f9ec-402f-83ab-8f920aac8afb",
   "metadata": {},
   "source": [
    "## Test the RISE"
   ]
  },
  {
   "cell_type": "code",
   "execution_count": 2,
   "id": "a426cc0c-7d86-4764-9721-14da8229b26b",
   "metadata": {},
   "outputs": [],
   "source": [
    "import requests\n",
    "import json\n",
    "from selenium import webdriver\n",
    "from selenium.webdriver.chrome.service import Service as ChromiumService\n",
    "from webdriver_manager.chrome import ChromeDriverManager\n",
    "from selenium.webdriver.chrome.options import Options\n",
    "from selenium.webdriver.common.by import By\n",
    "from selenium.common.exceptions import NoSuchElementException, WebDriverException\n",
    "from selenium.webdriver.support.ui import WebDriverWait\n",
    "from selenium.webdriver.support import expected_conditions as EC\n",
    "from selenium.common.exceptions import TimeoutException\n",
    "from selenium.webdriver import ActionChains\n",
    "from selenium.webdriver.common.keys import Keys\n",
    "import platform\n"
   ]
  },
  {
   "cell_type": "code",
   "execution_count": 3,
   "id": "0feb7e29-3fcf-4820-852f-376894746e84",
   "metadata": {},
   "outputs": [],
   "source": [
    "def setup_driver():\n",
    "    chrome_options = Options()\n",
    "    if platform.system() in ['Windows', 'Darwin']:\n",
    "        chrome_options.add_experimental_option('detach', True)\n",
    "    elif platform.system() == 'Linux':\n",
    "        chrome_options.add_argument('--headless')\n",
    "    else:\n",
    "        raise Exception(\"Unknown OS\")\n",
    "    return webdriver.Chrome(service=ChromiumService(ChromeDriverManager().install()), options=chrome_options)"
   ]
  },
  {
   "cell_type": "code",
   "execution_count": 4,
   "id": "94778efa",
   "metadata": {},
   "outputs": [],
   "source": [
    "base_url = \"http://localhost:8888\"  # Base URL of your JupyterLab server\n",
    "image_path = \"/lab/images/sample-image.jpg\"  # Extracted relative path\n",
    "full_image_url = base_url + image_path\n",
    "image_url=\"https://raw.githubusercontent.com/YiqinZhang/ope-project/e9ea65fa2317b3c39d70984875ce2885dde8e599/content/images/sample-image.jpg\""
   ]
  },
  {
   "cell_type": "code",
   "execution_count": 5,
   "id": "70bb6662-95cd-4d0e-949c-ebf7292e2b6b",
   "metadata": {},
   "outputs": [
    {
     "name": "stdout",
     "output_type": "stream",
     "text": [
      "Image downloaded successfully: local_images/sample-image.jpg\n"
     ]
    }
   ],
   "source": [
    "import os\n",
    "def download_image(image_url, local_img_path):\n",
    "    response = requests.get(image_url, stream=True)\n",
    "\n",
    "    if response.status_code == 200:\n",
    "        os.makedirs(os.path.dirname(local_img_path), exist_ok=True)\n",
    "        with open(local_img_path, 'wb') as f:\n",
    "            for chunk in response.iter_content(chunk_size=128):\n",
    "                f.write(chunk)\n",
    "        print(f\"Image downloaded successfully: {local_img_path}\")\n",
    "    else:\n",
    "        print(f\"Failed to download the image: {image_url}\")\n",
    "\n",
    "image_url = 'https://raw.githubusercontent.com/YiqinZhang/ope-project/e9ea65fa2317b3c39d70984875ce2885dde8e599/content/images/sample-image.jpg'\n",
    "download_image(image_url, 'local_images/sample-image.jpg')\n"
   ]
  },
  {
   "cell_type": "code",
   "execution_count": 6,
   "id": "2dabb5fa",
   "metadata": {},
   "outputs": [],
   "source": [
    "def open_file_in_jupyterlab(url, file_name, driver):\n",
    "    try:\n",
    "        driver.get(url)\n",
    "        # Wait for the file browser to be available\n",
    "        WebDriverWait(driver, 20).until(\n",
    "            EC.presence_of_element_located((By.CSS_SELECTOR, \".jp-DirListing-content\"))\n",
    "        )\n",
    "\n",
    "        # Find the file in the file browser\n",
    "        file_element = WebDriverWait(driver, 30).until(\n",
    "            EC.element_to_be_clickable((By.XPATH, f\"//span[contains(text(), '{file_name}') and @class='jp-DirListing-itemText']\"))\n",
    "        )\n",
    "\n",
    "        # Double click on the file to open it\n",
    "        driver.execute_script(\"\"\"\n",
    "            var evt = new MouseEvent('dblclick', {\n",
    "                bubbles: true,\n",
    "                cancelable: true,\n",
    "                view: window\n",
    "            });\n",
    "            arguments[0].dispatchEvent(evt);\n",
    "        \"\"\", file_element)\n",
    "\n",
    "        print(f\"File '{file_name}' opened successfully.\")\n",
    "    except TimeoutException:\n",
    "        print(f\"Failed to open file '{file_name}'. File not found or JupyterLab did not load properly.\")"
   ]
  },
  {
   "cell_type": "code",
   "execution_count": 7,
   "id": "11a7c43b-d1ea-4869-b777-bd8a4ccba3f0",
   "metadata": {},
   "outputs": [],
   "source": [
    "def take_screenshot(driver, filename):\n",
    "    try:\n",
    "        driver.save_screenshot(filename)\n",
    "        print(f\"Saved screenshot: {filename}\")\n",
    "    except Exception as e:\n",
    "        print(f\"Error taking screenshot: {e}\")\n"
   ]
  },
  {
   "cell_type": "code",
   "execution_count": 8,
   "id": "c5c6f0ac-9876-4872-a2a6-e933be5cd2cb",
   "metadata": {},
   "outputs": [],
   "source": [
    "def find_element_and_click(driver, xpath):\n",
    "    try:\n",
    "        # element = WebDriverWait(driver, 15).until(\n",
    "        #     EC.element_to_be_clickable((By.XPATH, xpath))\n",
    "        # )\n",
    "        element = driver.find_element(By.XPATH, xpath)\n",
    "        element.click()\n",
    "        return element\n",
    "    except Exception as e:\n",
    "        print(f\"Error finding/clicking element: {e}\")\n"
   ]
  },
  {
   "cell_type": "markdown",
   "id": "6870d58a",
   "metadata": {},
   "source": [
    "## Test 3: Create slides and test RISE"
   ]
  },
  {
   "cell_type": "code",
   "execution_count": 9,
   "id": "6edc9c02",
   "metadata": {},
   "outputs": [],
   "source": [
    "import nbformat\n",
    "from nbformat.v4 import new_notebook, new_markdown_cell\n",
    "\n",
    "# Define the cells with their content and metadata\n",
    "cells = [\n",
    "    new_markdown_cell(\"# Example Slidedeck\", metadata={\"slideshow\": {\"slide_type\": \"skip\"}}),\n",
    "    new_markdown_cell(\"<hr>\", metadata={\"slideshow\": {\"slide_type\": \"skip\"}}),\n",
    "    new_markdown_cell(\"**0) Blank**\", metadata={\"slideshow\": {\"slide_type\": \"skip\"}}),\n",
    "    new_markdown_cell(\"**BODY**\", metadata={\"slideshow\": {\"slide_type\": \"skip\"}}),\n",
    "    new_markdown_cell(\"We will try to illustrate single-column slides like this one.\", metadata={\"slideshow\": {\"slide_type\": \"slide\"}}),\n",
    "    new_markdown_cell(\"<hr>\", metadata={\"slideshow\": {\"slide_type\": \"skip\"}}),  \n",
    "    new_markdown_cell(source=\"**1) Image Only**\", metadata={\"slideshow\": {\"slide_type\": \"skip\"}}),\n",
    "    new_markdown_cell(source=\"**BODY**\", metadata={\"slideshow\": {\"slide_type\": \"skip\"}}),\n",
    "    new_markdown_cell(source='<img src=\"../../images/sample-image.jpg\" width = \"100%\">', \n",
    "                      metadata={\"slideshow\": {\"slide_type\": \"slide\"}}),\n",
    "    new_markdown_cell(source=\"**NOTE**\", metadata={\"slideshow\": {\"slide_type\": \"skip\"}}),\n",
    "    new_markdown_cell(source=\"- Using % of slide to scale the image\", \n",
    "                      metadata={\"slideshow\": {\"slide_type\": \"notes\"}}),\n",
    "    new_markdown_cell(source=\"- - - \", metadata={\"slideshow\": {\"slide_type\": \"skip\"}}),  \n",
    "    new_markdown_cell(\"**7)Title Slide**\", metadata={\"slideshow\": {\"slide_type\": \"skip\"}}),\n",
    "    new_markdown_cell(\"# Title\", metadata={\"slideshow\": {\"slide_type\": \"slide\"}}),\n",
    "    new_markdown_cell(\"**NOTE**\", metadata={\"slideshow\": {\"slide_type\": \"skip\"}}),\n",
    "    new_markdown_cell(\"- a Note that will display in the notes view\", metadata={\"slideshow\": {\"slide_type\": \"notes\"}}),\n",
    "    new_markdown_cell(\"This is the end of the document.\", metadata={\"slideshow\": {\"slide_type\": \"skip\"}, \"tags\": [\"remove-cell\"]}),\n",
    "]"
   ]
  },
  {
   "cell_type": "code",
   "execution_count": 10,
   "id": "27ef57ab",
   "metadata": {},
   "outputs": [],
   "source": [
    "def test_rise_slide(token):\n",
    "    driver = setup_driver()\n",
    "    url = f\"http://127.0.0.1:8888/lab?token={token}\"\n",
    "\n",
    "    try:\n",
    "        driver.get(url)\n",
    "        WebDriverWait(driver, 45)\n",
    "        take_screenshot(driver, 'main_screenshot.png')\n",
    "\n",
    "        # Check if on the Launcher page\n",
    "        try:\n",
    "            driver.find_element(By.XPATH, \"//div[contains(@class, 'lm-TabBar-tabLabel') and contains(@class, 'p-TabBar-tabLabel') and text()='Launcher']\")\n",
    "            print(\"On the Launcher page\")\n",
    "            find_element_and_click(driver, '//div[@data-category=\"Notebook\"]')\n",
    "        except NoSuchElementException:\n",
    "            print(\"Not on the Launcher page\")\n",
    "\n",
    "\n",
    "        # Create a new notebook object\n",
    "        nb = new_notebook()\n",
    "\n",
    "        # Add cells to the notebook\n",
    "        nb['cells'] = cells\n",
    "\n",
    "        # Write the notebook to a file\n",
    "        with open('example_notebook.ipynb', 'w', encoding='utf-8') as f:\n",
    "            nbformat.write(nb, f)\n",
    "\n",
    "        print(\"Notebook created successfully.\")\n",
    "\n",
    "        take_screenshot(driver, 'new_nb_screenshot.png')\n",
    "\n",
    "        find_element_and_click(driver, '//button[@data-command=\"RISE:preview\"]')\n",
    "        take_screenshot(driver, 'rise_screenshot.png')\n",
    "\n",
    "        toolbar = WebDriverWait(driver, 20).until(EC.presence_of_element_located((By.XPATH, \"//div[@class='lm-Widget jp-Toolbar' and @role='navigation']\")))\n",
    "        if toolbar:\n",
    "            fullscreen_button = toolbar.find_element(By.XPATH, \".//button[@title='Open the slideshow in full screen']\")\n",
    "            fullscreen_button.click()\n",
    "            is_fullscreen = driver.execute_script(\"return document.fullscreenElement !== null\")\n",
    "            print(\"Fullscreen button is functioning: \", is_fullscreen)\n",
    "        else:\n",
    "            print(\"Toolbar not found\")\n",
    "\n",
    "        print(\"RISE Extension is working!\")\n",
    "\n",
    "    except Exception as e:\n",
    "        print(f\"An error occurred during test: {e}\")\n",
    "    finally:\n",
    "        # Clean up\n",
    "        driver.switch_to.window(driver.window_handles[0])\n",
    "        driver.refresh()\n",
    "        driver.quit()"
   ]
  },
  {
   "cell_type": "code",
   "execution_count": 14,
   "id": "0eac59ad",
   "metadata": {},
   "outputs": [
    {
     "name": "stdout",
     "output_type": "stream",
     "text": [
      "Saved screenshot: main_screenshot.png\n",
      "Not on the Launcher page\n",
      "Notebook created successfully.\n",
      "Saved screenshot: new_nb_screenshot.png\n",
      "Error finding/clicking element: Message: \n",
      "Stacktrace:\n",
      "0   chromedriver                        0x0000000107e32d28 chromedriver + 4795688\n",
      "1   chromedriver                        0x0000000107e2a2b3 chromedriver + 4760243\n",
      "2   chromedriver                        0x0000000107a0388d chromedriver + 407693\n",
      "3   chromedriver                        0x0000000107a523d9 chromedriver + 730073\n",
      "4   chromedriver                        0x0000000107a52591 chromedriver + 730513\n",
      "5   chromedriver                        0x0000000107a987e4 chromedriver + 1017828\n",
      "6   chromedriver                        0x0000000107a79ccd chromedriver + 892109\n",
      "7   chromedriver                        0x0000000107a95b2b chromedriver + 1006379\n",
      "8   chromedriver                        0x0000000107a79a73 chromedriver + 891507\n",
      "9   chromedriver                        0x0000000107a44143 chromedriver + 672067\n",
      "10  chromedriver                        0x0000000107a4531e chromedriver + 676638\n",
      "11  chromedriver                        0x0000000107df3795 chromedriver + 4536213\n",
      "12  chromedriver                        0x0000000107df8853 chromedriver + 4556883\n",
      "13  chromedriver                        0x0000000107dd9001 chromedriver + 4427777\n",
      "14  chromedriver                        0x0000000107df959d chromedriver + 4560285\n",
      "15  chromedriver                        0x0000000107dca48c chromedriver + 4367500\n",
      "16  chromedriver                        0x0000000107e190e8 chromedriver + 4690152\n",
      "17  chromedriver                        0x0000000107e1929e chromedriver + 4690590\n",
      "18  chromedriver                        0x0000000107e29eee chromedriver + 4759278\n",
      "19  libsystem_pthread.dylib             0x00007ff817355202 _pthread_start + 99\n",
      "20  libsystem_pthread.dylib             0x00007ff817350bab thread_start + 15\n",
      "\n",
      "Saved screenshot: rise_screenshot.png\n",
      "An error occurred during test: Message: \n",
      "Stacktrace:\n",
      "0   chromedriver                        0x0000000107e32d28 chromedriver + 4795688\n",
      "1   chromedriver                        0x0000000107e2a2b3 chromedriver + 4760243\n",
      "2   chromedriver                        0x0000000107a0388d chromedriver + 407693\n",
      "3   chromedriver                        0x0000000107a523d9 chromedriver + 730073\n",
      "4   chromedriver                        0x0000000107a52591 chromedriver + 730513\n",
      "5   chromedriver                        0x0000000107a987e4 chromedriver + 1017828\n",
      "6   chromedriver                        0x0000000107a79ccd chromedriver + 892109\n",
      "7   chromedriver                        0x0000000107a95b2b chromedriver + 1006379\n",
      "8   chromedriver                        0x0000000107a79a73 chromedriver + 891507\n",
      "9   chromedriver                        0x0000000107a44143 chromedriver + 672067\n",
      "10  chromedriver                        0x0000000107a4531e chromedriver + 676638\n",
      "11  chromedriver                        0x0000000107df3795 chromedriver + 4536213\n",
      "12  chromedriver                        0x0000000107df8853 chromedriver + 4556883\n",
      "13  chromedriver                        0x0000000107dd9001 chromedriver + 4427777\n",
      "14  chromedriver                        0x0000000107df959d chromedriver + 4560285\n",
      "15  chromedriver                        0x0000000107dca48c chromedriver + 4367500\n",
      "16  chromedriver                        0x0000000107e190e8 chromedriver + 4690152\n",
      "17  chromedriver                        0x0000000107e1929e chromedriver + 4690590\n",
      "18  chromedriver                        0x0000000107e29eee chromedriver + 4759278\n",
      "19  libsystem_pthread.dylib             0x00007ff817355202 _pthread_start + 99\n",
      "20  libsystem_pthread.dylib             0x00007ff817350bab thread_start + 15\n",
      "\n"
     ]
    }
   ],
   "source": [
    "# replace token with your token\n",
    "token = \"cc2f522441ace86a2bbe4fa85e17f3a488fb181d1538da19\"\n",
    "test_rise_slide(token)"
   ]
  },
  {
   "cell_type": "markdown",
   "id": "db3b2620",
   "metadata": {},
   "source": []
  }
 ],
 "metadata": {
  "kernelspec": {
   "display_name": "Python 3 (ipykernel)",
   "language": "python",
   "name": "python3"
  },
  "language_info": {
   "codemirror_mode": {
    "name": "ipython",
    "version": 3
   },
   "file_extension": ".py",
   "mimetype": "text/x-python",
   "name": "python",
   "nbconvert_exporter": "python",
   "pygments_lexer": "ipython3",
   "version": "3.9.1"
  }
 },
 "nbformat": 4,
 "nbformat_minor": 5
}
