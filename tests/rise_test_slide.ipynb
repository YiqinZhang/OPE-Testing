{
 "cells": [
  {
   "cell_type": "code",
   "execution_count": 1,
   "id": "6f59621a-9a8d-4a28-9e56-01d2e4f8caf4",
   "metadata": {
    "tags": []
   },
   "outputs": [],
   "source": [
    "import platform\n",
    "if platform.system() in ['Windows', 'Darwin']:\n",
    "    !pip install selenium > NUL\n",
    "    !pip install selenium  > NUL\n",
    "    !pip install webdriver_manager  > NUL\n",
    "    !pip install docker  > NUL\n",
    "    !pip install requests  > NUL\n",
    "elif platform.system() == 'Linux':\n",
    "    !pip install selenium  > /dev/null\n",
    "    !pip install webdriver_manager  > /dev/null\n",
    "    !pip install docker  > /dev/null\n",
    "    !pip install requests  > /dev/null"
   ]
  },
  {
   "cell_type": "markdown",
   "id": "bb462014-f9ec-402f-83ab-8f920aac8afb",
   "metadata": {},
   "source": [
    "## Test the RISE"
   ]
  },
  {
   "cell_type": "code",
   "execution_count": 2,
   "id": "a426cc0c-7d86-4764-9721-14da8229b26b",
   "metadata": {},
   "outputs": [],
   "source": [
    "import requests\n",
    "import json\n",
    "from selenium import webdriver\n",
    "from selenium.webdriver.chrome.service import Service as ChromiumService\n",
    "from webdriver_manager.chrome import ChromeDriverManager\n",
    "from selenium.webdriver.chrome.options import Options\n",
    "from selenium.webdriver.common.by import By\n",
    "from selenium.common.exceptions import NoSuchElementException, WebDriverException\n",
    "from selenium.webdriver.support.ui import WebDriverWait\n",
    "from selenium.webdriver.support import expected_conditions as EC\n",
    "from selenium.common.exceptions import TimeoutException\n",
    "from selenium.webdriver import ActionChains\n",
    "from selenium.webdriver.common.keys import Keys\n",
    "import platform\n"
   ]
  },
  {
   "cell_type": "code",
   "execution_count": 3,
   "id": "0feb7e29-3fcf-4820-852f-376894746e84",
   "metadata": {},
   "outputs": [],
   "source": [
    "def setup_driver():\n",
    "    chrome_options = Options()\n",
    "    if platform.system() in ['Windows', 'Darwin']:\n",
    "        chrome_options.add_experimental_option('detach', True)\n",
    "    elif platform.system() == 'Linux':\n",
    "        chrome_options.add_argument('--headless')\n",
    "    else:\n",
    "        raise Exception(\"Unknown OS\")\n",
    "    return webdriver.Chrome(service=ChromiumService(ChromeDriverManager().install()), options=chrome_options)"
   ]
  },
  {
   "cell_type": "code",
   "execution_count": 4,
   "id": "94778efa",
   "metadata": {},
   "outputs": [],
   "source": [
    "base_url = \"http://localhost:8888\"  # Base URL of your JupyterLab server\n",
    "image_path = \"/lab/images/sample-image.jpg\"  # Extracted relative path\n",
    "full_image_url = base_url + image_path\n",
    "image_url=\"https://raw.githubusercontent.com/YiqinZhang/ope-project/e9ea65fa2317b3c39d70984875ce2885dde8e599/content/images/sample-image.jpg\""
   ]
  },
  {
   "cell_type": "code",
   "execution_count": 5,
   "id": "70bb6662-95cd-4d0e-949c-ebf7292e2b6b",
   "metadata": {},
   "outputs": [
    {
     "name": "stdout",
     "output_type": "stream",
     "text": [
      "Image downloaded successfully: images/sample-image.jpg\n"
     ]
    }
   ],
   "source": [
    "import os\n",
    "def download_image(image_url, local_img_path):\n",
    "    response = requests.get(image_url, stream=True)\n",
    "\n",
    "    if response.status_code == 200:\n",
    "        os.makedirs(os.path.dirname(local_img_path), exist_ok=True)\n",
    "        with open(local_img_path, 'wb') as f:\n",
    "            for chunk in response.iter_content(chunk_size=128):\n",
    "                f.write(chunk)\n",
    "        print(f\"Image downloaded successfully: {local_img_path}\")\n",
    "    else:\n",
    "        print(f\"Failed to download the image: {image_url}\")\n",
    "\n",
    "image_url = 'https://raw.githubusercontent.com/YiqinZhang/ope-project/e9ea65fa2317b3c39d70984875ce2885dde8e599/content/images/sample-image.jpg'\n",
    "download_image(image_url, 'images/sample-image.jpg')\n"
   ]
  },
  {
   "cell_type": "code",
   "execution_count": 6,
   "id": "2dabb5fa",
   "metadata": {},
   "outputs": [],
   "source": [
    "def open_file_in_jupyterlab(url, file_name, driver):\n",
    "    try:\n",
    "        driver.get(url)\n",
    "        # Wait for the file browser to be available\n",
    "        WebDriverWait(driver, 20).until(\n",
    "            EC.presence_of_element_located((By.CSS_SELECTOR, \".jp-DirListing-content\"))\n",
    "        )\n",
    "\n",
    "        # Find the file in the file browser\n",
    "        file_element = WebDriverWait(driver, 30).until(\n",
    "            EC.element_to_be_clickable((By.XPATH, f\"//span[contains(text(), '{file_name}') and @class='jp-DirListing-itemText']\"))\n",
    "        )\n",
    "\n",
    "        # Double click on the file to open it\n",
    "        driver.execute_script(\"\"\"\n",
    "            var evt = new MouseEvent('dblclick', {\n",
    "                bubbles: true,\n",
    "                cancelable: true,\n",
    "                view: window\n",
    "            });\n",
    "            arguments[0].dispatchEvent(evt);\n",
    "        \"\"\", file_element)\n",
    "\n",
    "        print(f\"File '{file_name}' opened successfully.\")\n",
    "    except TimeoutException:\n",
    "        print(f\"Failed to open file '{file_name}'. File not found or JupyterLab did not load properly.\")"
   ]
  },
  {
   "cell_type": "code",
   "execution_count": 7,
   "id": "11a7c43b-d1ea-4869-b777-bd8a4ccba3f0",
   "metadata": {},
   "outputs": [],
   "source": [
    "def take_screenshot(driver, filename):\n",
    "    try:\n",
    "        driver.save_screenshot(filename)\n",
    "        print(f\"Saved screenshot: {filename}\")\n",
    "    except Exception as e:\n",
    "        print(f\"Error taking screenshot: {e}\")\n"
   ]
  },
  {
   "cell_type": "code",
   "execution_count": 8,
   "id": "c5c6f0ac-9876-4872-a2a6-e933be5cd2cb",
   "metadata": {},
   "outputs": [],
   "source": [
    "def find_element_and_click(driver, xpath):\n",
    "    try:\n",
    "        # element = WebDriverWait(driver, 15).until(\n",
    "        #     EC.element_to_be_clickable((By.XPATH, xpath))\n",
    "        # )\n",
    "        element = driver.find_element(By.XPATH, xpath)\n",
    "        element.click()\n",
    "        return element\n",
    "    except Exception as e:\n",
    "        print(f\"Error finding/clicking element: {e}\")\n"
   ]
  },
  {
   "cell_type": "markdown",
   "id": "6870d58a",
   "metadata": {},
   "source": [
    "## Test 3: Create slides and test RISE"
   ]
  },
  {
   "cell_type": "code",
   "execution_count": 9,
   "id": "6edc9c02",
   "metadata": {},
   "outputs": [],
   "source": [
    "import nbformat\n",
    "from nbformat.v4 import new_notebook, new_markdown_cell\n",
    "\n",
    "# Define the cells with their content and metadata\n",
    "cells = [\n",
    "    new_markdown_cell(\"# Example Slidedeck\", metadata={\"slideshow\": {\"slide_type\": \"skip\"}}),\n",
    "    new_markdown_cell(\"<hr>\", metadata={\"slideshow\": {\"slide_type\": \"skip\"}}),\n",
    "    new_markdown_cell(\"**0) Blank**\", metadata={\"slideshow\": {\"slide_type\": \"skip\"}}),\n",
    "    new_markdown_cell(\"**BODY**\", metadata={\"slideshow\": {\"slide_type\": \"skip\"}}),\n",
    "    new_markdown_cell(\"We will try to illustrate single-column slides like this one.\", metadata={\"slideshow\": {\"slide_type\": \"slide\"}}),\n",
    "    new_markdown_cell(\"<hr>\", metadata={\"slideshow\": {\"slide_type\": \"skip\"}}),  \n",
    "    new_markdown_cell(source=\"**1) Image Only**\", metadata={\"slideshow\": {\"slide_type\": \"skip\"}}),\n",
    "    new_markdown_cell(source=\"**BODY**\", metadata={\"slideshow\": {\"slide_type\": \"skip\"}}),\n",
    "    new_markdown_cell(source='<img src=\"../images/sample-image.jpg\" width = \"100%\">', \n",
    "                      metadata={\"slideshow\": {\"slide_type\": \"slide\"}}),\n",
    "    new_markdown_cell(source=\"**NOTE**\", metadata={\"slideshow\": {\"slide_type\": \"skip\"}}),\n",
    "    new_markdown_cell(source=\"- Using % of slide to scale the image\", \n",
    "                      metadata={\"slideshow\": {\"slide_type\": \"notes\"}}),\n",
    "    new_markdown_cell(source=\"- - - \", metadata={\"slideshow\": {\"slide_type\": \"skip\"}}),  \n",
    "    new_markdown_cell(\"**7)Title Slide**\", metadata={\"slideshow\": {\"slide_type\": \"skip\"}}),\n",
    "    new_markdown_cell(\"# Title\", metadata={\"slideshow\": {\"slide_type\": \"slide\"}}),\n",
    "    new_markdown_cell(\"**NOTE**\", metadata={\"slideshow\": {\"slide_type\": \"skip\"}}),\n",
    "    new_markdown_cell(\"- a Note that will display in the notes view\", metadata={\"slideshow\": {\"slide_type\": \"notes\"}}),\n",
    "    new_markdown_cell(\"This is the end of the document.\", metadata={\"slideshow\": {\"slide_type\": \"skip\"}, \"tags\": [\"remove-cell\"]}),\n",
    "]"
   ]
  },
  {
   "cell_type": "code",
   "execution_count": 10,
   "id": "27ef57ab",
   "metadata": {},
   "outputs": [],
   "source": [
    "def test_rise_slide(token):\n",
    "    driver = setup_driver()\n",
    "    url = f\"http://127.0.0.1:8888/lab?token={token}\"\n",
    "    try:\n",
    "        driver.get(url)\n",
    "        WebDriverWait(driver, 45)\n",
    "        take_screenshot(driver, 'main_screenshot.png')\n",
    "        # Check if on the Launcher page\n",
    "        try:\n",
    "            driver.find_element(By.XPATH, \"//div[contains(@class, 'lm-TabBar-tabLabel') and contains(@class, 'p-TabBar-tabLabel') and text()='Launcher']\")\n",
    "            print(\"On the Launcher page\")\n",
    "            find_element_and_click(driver, '//div[@data-category=\"Notebook\"]')\n",
    "        except NoSuchElementException:\n",
    "            print(\"Not on the Launcher page\")\n",
    "        # Create a new notebook object\n",
    "        nb = new_notebook()\n",
    "        # Add cells to the notebook\n",
    "        nb['cells'] = cells\n",
    "        # Write the notebook to a file\n",
    "        with open('example_notebook.ipynb', 'w', encoding='utf-8') as f:\n",
    "            nbformat.write(nb, f)\n",
    "        print(\"Notebook created successfully.\")\n",
    "        take_screenshot(driver, 'new_nb_screenshot.png')\n",
    "\n",
    "        find_element_and_click(driver, '//button[@data-command=\"RISE:preview\"]')\n",
    "        take_screenshot(driver, 'rise_screenshot.png')\n",
    "\n",
    "        toolbar = WebDriverWait(driver, 20).until(EC.presence_of_element_located((By.XPATH, \"//div[@class='lm-Widget jp-Toolbar' and @role='navigation']\")))\n",
    "        if toolbar:\n",
    "            fullscreen_button = toolbar.find_element(By.XPATH, \".//button[@title='Open the slideshow in full screen']\")\n",
    "            fullscreen_button.click()\n",
    "            is_fullscreen = driver.execute_script(\"return document.fullscreenElement !== null\")\n",
    "            print(\"Fullscreen button is functioning: \", is_fullscreen)\n",
    "        else:\n",
    "            print(\"Toolbar not found\")\n",
    "        print(\"RISE Extension is working!\")\n",
    "    except Exception as e:\n",
    "        print(f\"An error occurred during test: {e}\")\n",
    "    finally:\n",
    "        # Clean up\n",
    "        driver.switch_to.window(driver.window_handles[0])\n",
    "        driver.refresh()\n",
    "        WebDriverWait(driver, 100)\n",
    "        driver.quit()"
   ]
  },
  {
   "cell_type": "code",
   "execution_count": 11,
   "id": "0eac59ad",
   "metadata": {},
   "outputs": [
    {
     "name": "stdout",
     "output_type": "stream",
     "text": [
      "Saved screenshot: main_screenshot.png\n",
      "Not on the Launcher page\n",
      "Notebook created successfully.\n",
      "Saved screenshot: new_nb_screenshot.png\n",
      "Error finding/clicking element: Message: no such element: Unable to locate element: {\"method\":\"xpath\",\"selector\":\"//button[@data-command=\"RISE:preview\"]\"}\n",
      "  (Session info: chrome=119.0.6045.159); For documentation on this error, please visit: https://www.selenium.dev/documentation/webdriver/troubleshooting/errors#no-such-element-exception\n",
      "Stacktrace:\n",
      "0   chromedriver                        0x000000010bbafd28 chromedriver + 4795688\n",
      "1   chromedriver                        0x000000010bba72b3 chromedriver + 4760243\n",
      "2   chromedriver                        0x000000010b78088d chromedriver + 407693\n",
      "3   chromedriver                        0x000000010b7cf3d9 chromedriver + 730073\n",
      "4   chromedriver                        0x000000010b7cf591 chromedriver + 730513\n",
      "5   chromedriver                        0x000000010b8157e4 chromedriver + 1017828\n",
      "6   chromedriver                        0x000000010b7f6ccd chromedriver + 892109\n",
      "7   chromedriver                        0x000000010b812b2b chromedriver + 1006379\n",
      "8   chromedriver                        0x000000010b7f6a73 chromedriver + 891507\n",
      "9   chromedriver                        0x000000010b7c1143 chromedriver + 672067\n",
      "10  chromedriver                        0x000000010b7c231e chromedriver + 676638\n",
      "11  chromedriver                        0x000000010bb70795 chromedriver + 4536213\n",
      "12  chromedriver                        0x000000010bb75853 chromedriver + 4556883\n",
      "13  chromedriver                        0x000000010bb56001 chromedriver + 4427777\n",
      "14  chromedriver                        0x000000010bb7659d chromedriver + 4560285\n",
      "15  chromedriver                        0x000000010bb4748c chromedriver + 4367500\n",
      "16  chromedriver                        0x000000010bb960e8 chromedriver + 4690152\n",
      "17  chromedriver                        0x000000010bb9629e chromedriver + 4690590\n",
      "18  chromedriver                        0x000000010bba6eee chromedriver + 4759278\n",
      "19  libsystem_pthread.dylib             0x00007ff80d038202 _pthread_start + 99\n",
      "20  libsystem_pthread.dylib             0x00007ff80d033bab thread_start + 15\n",
      "\n",
      "Saved screenshot: rise_screenshot.png\n",
      "Fullscreen button is functioning:  False\n",
      "RISE Extension is working!\n"
     ]
    }
   ],
   "source": [
    "# replace token with your token\n",
    "token = \"b9bf17ff0760ec159a01174e071b66952967ec41727d1c73\"\n",
    "test_rise_slide(token)"
   ]
  },
  {
   "cell_type": "markdown",
   "id": "db3b2620",
   "metadata": {},
   "source": []
  }
 ],
 "metadata": {
  "kernelspec": {
   "display_name": "Python 3 (ipykernel)",
   "language": "python",
   "name": "python3"
  },
  "language_info": {
   "codemirror_mode": {
    "name": "ipython",
    "version": 3
   },
   "file_extension": ".py",
   "mimetype": "text/x-python",
   "name": "python",
   "nbconvert_exporter": "python",
   "pygments_lexer": "ipython3",
   "version": "3.9.1"
  }
 },
 "nbformat": 4,
 "nbformat_minor": 5
}
