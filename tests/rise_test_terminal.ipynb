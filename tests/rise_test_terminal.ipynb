{
 "cells": [
  {
   "cell_type": "code",
   "execution_count": 1,
   "id": "6f59621a-9a8d-4a28-9e56-01d2e4f8caf4",
   "metadata": {
    "tags": []
   },
   "outputs": [],
   "source": [
    "import platform\n",
    "if platform.system() in ['Windows', 'Darwin']:\n",
    "    !pip install selenium > NUL\n",
    "    !pip install selenium  > NUL\n",
    "    !pip install webdriver_manager  > NUL\n",
    "    !pip install docker  > NUL\n",
    "    !pip install requests  > NUL\n",
    "elif platform.system() == 'Linux':\n",
    "    !pip install selenium  > /dev/null\n",
    "    !pip install webdriver_manager  > /dev/null\n",
    "    !pip install docker  > /dev/null\n",
    "    !pip install requests  > /dev/null"
   ]
  },
  {
   "cell_type": "markdown",
   "id": "bb462014-f9ec-402f-83ab-8f920aac8afb",
   "metadata": {},
   "source": [
    "## Test the RISE"
   ]
  },
  {
   "cell_type": "code",
   "execution_count": 2,
   "id": "a426cc0c-7d86-4764-9721-14da8229b26b",
   "metadata": {},
   "outputs": [],
   "source": [
    "import requests\n",
    "import json\n",
    "from selenium import webdriver\n",
    "from selenium.webdriver.chrome.service import Service as ChromiumService\n",
    "from webdriver_manager.chrome import ChromeDriverManager\n",
    "from selenium.webdriver.chrome.options import Options\n",
    "from selenium.webdriver.common.by import By\n",
    "from selenium.common.exceptions import NoSuchElementException, WebDriverException\n",
    "from selenium.webdriver.support.ui import WebDriverWait\n",
    "from selenium.webdriver.support import expected_conditions as EC\n",
    "from selenium.common.exceptions import TimeoutException\n",
    "from selenium.webdriver import ActionChains\n",
    "from selenium.webdriver.common.keys import Keys\n",
    "import platform\n",
    "import subprocess"
   ]
  },
  {
   "cell_type": "code",
   "execution_count": 3,
   "id": "0feb7e29-3fcf-4820-852f-376894746e84",
   "metadata": {},
   "outputs": [],
   "source": [
    "def setup_driver():\n",
    "    chrome_options = Options()\n",
    "    if platform.system() in ['Windows', 'Darwin']:\n",
    "        chrome_options.add_experimental_option('detach', True)\n",
    "    elif platform.system() == 'Linux':\n",
    "        chrome_options.add_argument('--headless')\n",
    "    else:\n",
    "        raise Exception(\"Unknown OS\")\n",
    "    return webdriver.Chrome(service=ChromiumService(ChromeDriverManager().install()), options=chrome_options)"
   ]
  },
  {
   "cell_type": "code",
   "execution_count": 4,
   "id": "11a7c43b-d1ea-4869-b777-bd8a4ccba3f0",
   "metadata": {},
   "outputs": [],
   "source": [
    "def take_screenshot(driver, filename):\n",
    "    try:\n",
    "        driver.save_screenshot(filename)\n",
    "        print(f\"Saved screenshot: {filename}\")\n",
    "    except Exception as e:\n",
    "        print(f\"Error taking screenshot: {e}\")\n"
   ]
  },
  {
   "cell_type": "code",
   "execution_count": 5,
   "id": "c5c6f0ac-9876-4872-a2a6-e933be5cd2cb",
   "metadata": {},
   "outputs": [],
   "source": [
    "def find_element_and_click(driver, xpath):\n",
    "    try:\n",
    "        # element = WebDriverWait(driver, 15).until(\n",
    "        #     EC.element_to_be_clickable((By.XPATH, xpath))\n",
    "        # )\n",
    "        element = driver.find_element(By.XPATH, xpath)\n",
    "        element.click()\n",
    "        return element\n",
    "    except Exception as e:\n",
    "        print(f\"Error finding/clicking element: {e}\")\n"
   ]
  },
  {
   "cell_type": "markdown",
   "id": "6870d58a",
   "metadata": {},
   "source": [
    "## Test 4: Test terminal "
   ]
  },
  {
   "cell_type": "code",
   "execution_count": 10,
   "id": "af210885",
   "metadata": {},
   "outputs": [],
   "source": [
    "def test_terminal(token):\n",
    "    driver = setup_driver()\n",
    "    url = f\"http://127.0.0.1:8888/lab?token={token}\"\n",
    "\n",
    "    try:\n",
    "        driver.get(url)\n",
    "        WebDriverWait(driver, 45)\n",
    "        take_screenshot(driver, 'main_screenshot.png')\n",
    "        launcher_button = WebDriverWait(driver, 20).until(\n",
    "            EC.element_to_be_clickable((By.XPATH,  '//button[@data-command=\"launcher:create\"]'))\n",
    "        )\n",
    "        launcher_button.click()\n",
    "        print(\"Opened the Launcher.\")\n",
    "        # Click on the Terminal icon in the Launcher\n",
    "        terminal_icon = WebDriverWait(driver, 10).until(\n",
    "            EC.element_to_be_clickable((By.XPATH, '//div[@title=\"Start a new terminal session\"]'))\n",
    "        )\n",
    "        terminal_icon.click()\n",
    "        print(\"Opened a new terminal\")\n",
    "        # Wait for the terminal to open\n",
    "        terminal_input = WebDriverWait(driver, 20).until(\n",
    "            EC.presence_of_element_located((By.XPATH, \"//div[contains(@class, 'jp-Terminal')]//textarea\"))\n",
    "        )\n",
    "        print(\"Terminal is ready for input.\")\n",
    "        # Find terminal input and execute a command\n",
    "        terminal_input.send_keys('echo Hello World' + Keys.ENTER)\n",
    "        WebDriverWait(driver, 20)\n",
    "\n",
    "        print(\"output...\") \n",
    "        # output = WebDriverWait(driver, 10).until(\n",
    "        #     EC.presence_of_element_located((By.XPATH, \"//div[contains(@class, 'xterm-rows')]\"))\n",
    "        # )\n",
    "        # print(output.text)  \n",
    "        WebDriverWait(driver, 10).until(\n",
    "            EC.text_to_be_present_in_element((By.CSS_SELECTOR, \".xterm-rows\"), 'Hello World')\n",
    "        )\n",
    "        output = driver.find_element(By.CSS_SELECTOR, \".xterm-rows\").text       \n",
    "        print(output)\n",
    "\n",
    "        assert 'Hello World' in output.text\n",
    "        print(\"Terminal test successful.\")\n",
    "\n",
    "    except Exception as e:\n",
    "        print(f\"An error occurred during test: {e}\")\n",
    "    finally:\n",
    "        driver.quit()"
   ]
  },
  {
   "cell_type": "code",
   "execution_count": 11,
   "id": "0eac59ad",
   "metadata": {},
   "outputs": [
    {
     "name": "stdout",
     "output_type": "stream",
     "text": [
      "Saved screenshot: main_screenshot.png\n",
      "Opened the Launcher.\n",
      "Opened a new terminal\n",
      "Terminal is ready for input.\n",
      "An error occurred during test: Message: element not interactable\n",
      "  (Session info: chrome=119.0.6045.199)\n",
      "Stacktrace:\n",
      "0   chromedriver                        0x000000010d098d28 chromedriver + 4795688\n",
      "1   chromedriver                        0x000000010d0902b3 chromedriver + 4760243\n",
      "2   chromedriver                        0x000000010cc696bd chromedriver + 407229\n",
      "3   chromedriver                        0x000000010ccb1b9f chromedriver + 703391\n",
      "4   chromedriver                        0x000000010ccb017b chromedriver + 696699\n",
      "5   chromedriver                        0x000000010ccdfca2 chromedriver + 892066\n",
      "6   chromedriver                        0x000000010ccabc63 chromedriver + 679011\n",
      "7   chromedriver                        0x000000010ccdfe5e chromedriver + 892510\n",
      "8   chromedriver                        0x000000010ccfbb2b chromedriver + 1006379\n",
      "9   chromedriver                        0x000000010ccdfa73 chromedriver + 891507\n",
      "10  chromedriver                        0x000000010ccaa143 chromedriver + 672067\n",
      "11  chromedriver                        0x000000010ccab31e chromedriver + 676638\n",
      "12  chromedriver                        0x000000010d059795 chromedriver + 4536213\n",
      "13  chromedriver                        0x000000010d05e853 chromedriver + 4556883\n",
      "14  chromedriver                        0x000000010d03f001 chromedriver + 4427777\n",
      "15  chromedriver                        0x000000010d05f59d chromedriver + 4560285\n",
      "16  chromedriver                        0x000000010d03048c chromedriver + 4367500\n",
      "17  chromedriver                        0x000000010d07f0e8 chromedriver + 4690152\n",
      "18  chromedriver                        0x000000010d07f29e chromedriver + 4690590\n",
      "19  chromedriver                        0x000000010d08feee chromedriver + 4759278\n",
      "20  libsystem_pthread.dylib             0x00007ff810b8e202 _pthread_start + 99\n",
      "21  libsystem_pthread.dylib             0x00007ff810b89bab thread_start + 15\n",
      "\n"
     ]
    }
   ],
   "source": [
    "# replace token with your token\n",
    "token = \"89fb1a3003fd2bc4f0e18b4bc7d551c3ab123a6f6c289ebd\"\n",
    "test_terminal(token)"
   ]
  },
  {
   "cell_type": "markdown",
   "id": "db3b2620",
   "metadata": {},
   "source": []
  }
 ],
 "metadata": {
  "kernelspec": {
   "display_name": "Python 3 (ipykernel)",
   "language": "python",
   "name": "python3"
  },
  "language_info": {
   "codemirror_mode": {
    "name": "ipython",
    "version": 3
   },
   "file_extension": ".py",
   "mimetype": "text/x-python",
   "name": "python",
   "nbconvert_exporter": "python",
   "pygments_lexer": "ipython3",
   "version": "3.9.1"
  }
 },
 "nbformat": 4,
 "nbformat_minor": 5
}
